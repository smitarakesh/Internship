{
 "cells": [
  {
   "cell_type": "markdown",
   "id": "e0630e0c",
   "metadata": {},
   "source": [
    "# WEB SCRAPING – ASSIGNMENT 2"
   ]
  },
  {
   "cell_type": "markdown",
   "id": "2b76f9a4",
   "metadata": {},
   "source": [
    "Q1: Write a python program to scrape data for “Data Analyst” Job position in “Bangalore” location. You\n",
    "have to scrape the job-title, job-location, company_name, experience_required. You have to scrape first 10\n",
    "jobs data.\n",
    "This task will be done in following steps:\n",
    "1. First get the webpage https://www.naukri.com/\n",
    "2. Enter “Data Analyst” in “Skill, Designations, Companies” field and enter “Bangalore” in “enter the\n",
    "location” field.\n",
    "3. Then click the search button.\n",
    "4. Then scrape the data for the first 10 jobs results you get.\n",
    "5. Finally create a dataframe of the scraped data.\n",
    "Note: All of the above steps have to be done in code. No step is to be done manually."
   ]
  },
  {
   "cell_type": "code",
   "execution_count": 36,
   "id": "4ddd3112",
   "metadata": {},
   "outputs": [],
   "source": [
    "# Import required libraries\n",
    "import selenium\n",
    "from selenium import webdriver\n",
    "import pandas as pd\n",
    "import warnings\n",
    "warnings.filterwarnings('ignore')"
   ]
  },
  {
   "cell_type": "code",
   "execution_count": 3,
   "id": "2617728c",
   "metadata": {},
   "outputs": [],
   "source": [
    "# connect the web driver\n",
    "driver = webdriver.Chrome(r'C:\\Users\\DELL\\Downloads\\chromedriver_win32\\chromedriver.exe')"
   ]
  },
  {
   "cell_type": "code",
   "execution_count": 111,
   "id": "eb712b63",
   "metadata": {},
   "outputs": [],
   "source": [
    "url = 'https://www.naukri.com/'\n",
    "driver.get(url)"
   ]
  },
  {
   "cell_type": "code",
   "execution_count": 112,
   "id": "4c4ade58",
   "metadata": {
    "scrolled": true
   },
   "outputs": [
    {
     "data": {
      "text/plain": [
       "<selenium.webdriver.remote.webelement.WebElement (session=\"943b497a7c68c255e74c4c740595d1d8\", element=\"0deb8eff-17eb-442c-9787-0691147d76d5\")>"
      ]
     },
     "execution_count": 112,
     "metadata": {},
     "output_type": "execute_result"
    }
   ],
   "source": [
    "#finding web element for search job bar\n",
    "search_job = driver.find_element_by_xpath('/html/body/div/div[2]/div[3]/div/div/div[1]/div/div/div/input')\n",
    "search_job"
   ]
  },
  {
   "cell_type": "code",
   "execution_count": 113,
   "id": "7a9697cb",
   "metadata": {},
   "outputs": [],
   "source": [
    "#write on search bar\n",
    "search_job.send_keys('Data Analyst')"
   ]
  },
  {
   "cell_type": "code",
   "execution_count": 115,
   "id": "ec61e3e5",
   "metadata": {},
   "outputs": [
    {
     "data": {
      "text/plain": [
       "<selenium.webdriver.remote.webelement.WebElement (session=\"943b497a7c68c255e74c4c740595d1d8\", element=\"808b337e-3a3e-4bd0-8108-8db5a1b86c3a\")>"
      ]
     },
     "execution_count": 115,
     "metadata": {},
     "output_type": "execute_result"
    }
   ],
   "source": [
    "#finding web element for search location bar using absolute xpath\n",
    "#when you have to scrape single element xpath is good \n",
    "search_locn = driver.find_element_by_xpath('/html/body/div/div[2]/div[3]/div/div/div[3]/div/div/div/input')\n",
    "search_locn"
   ]
  },
  {
   "cell_type": "code",
   "execution_count": 116,
   "id": "4759d120",
   "metadata": {},
   "outputs": [],
   "source": [
    "#finding web element for job location bar\n",
    "search_locn.send_keys('Bangalore')"
   ]
  },
  {
   "cell_type": "code",
   "execution_count": 117,
   "id": "e80cf2e6",
   "metadata": {
    "scrolled": false
   },
   "outputs": [
    {
     "data": {
      "text/plain": [
       "<selenium.webdriver.remote.webelement.WebElement (session=\"943b497a7c68c255e74c4c740595d1d8\", element=\"611c704c-8014-4c40-84ab-7e07576269ed\")>"
      ]
     },
     "execution_count": 117,
     "metadata": {},
     "output_type": "execute_result"
    }
   ],
   "source": [
    "#clicking on search button\n",
    "search_btn = driver.find_element_by_xpath('/html/body/div/div[2]/div[3]/div/div/div[6]')\n",
    "search_btn"
   ]
  },
  {
   "cell_type": "code",
   "execution_count": 118,
   "id": "0c067dc9",
   "metadata": {
    "scrolled": true
   },
   "outputs": [],
   "source": [
    "search_btn.click()"
   ]
  },
  {
   "cell_type": "markdown",
   "id": "7322cc4e",
   "metadata": {},
   "source": [
    "### Extacting job titles"
   ]
  },
  {
   "cell_type": "code",
   "execution_count": 119,
   "id": "d49a3c43",
   "metadata": {
    "scrolled": true
   },
   "outputs": [
    {
     "data": {
      "text/plain": [
       "20"
      ]
     },
     "execution_count": 119,
     "metadata": {},
     "output_type": "execute_result"
    }
   ],
   "source": [
    "#let's extract all web elements having job titles\n",
    "#more than one element so elements keyword is use\n",
    "title_tags = driver.find_elements_by_xpath('//a[@class=\"title fw500 ellipsis\"]')\n",
    "len(title_tags)"
   ]
  },
  {
   "cell_type": "code",
   "execution_count": 120,
   "id": "1d97d962",
   "metadata": {
    "collapsed": true
   },
   "outputs": [
    {
     "data": {
      "text/plain": [
       "[<selenium.webdriver.remote.webelement.WebElement (session=\"943b497a7c68c255e74c4c740595d1d8\", element=\"b9c60e47-fc59-46f0-84ef-3ca6db643b9a\")>,\n",
       " <selenium.webdriver.remote.webelement.WebElement (session=\"943b497a7c68c255e74c4c740595d1d8\", element=\"5999a9a7-7f81-48a5-b786-9ca4d6bc8aea\")>,\n",
       " <selenium.webdriver.remote.webelement.WebElement (session=\"943b497a7c68c255e74c4c740595d1d8\", element=\"fcf8a459-f6fd-4282-a451-a0566f015565\")>,\n",
       " <selenium.webdriver.remote.webelement.WebElement (session=\"943b497a7c68c255e74c4c740595d1d8\", element=\"186c5aba-e83d-464b-9dc9-d9ccaabf5bc6\")>,\n",
       " <selenium.webdriver.remote.webelement.WebElement (session=\"943b497a7c68c255e74c4c740595d1d8\", element=\"79018b8b-d996-415e-818b-35d4a285df0e\")>,\n",
       " <selenium.webdriver.remote.webelement.WebElement (session=\"943b497a7c68c255e74c4c740595d1d8\", element=\"ba453c04-4615-4580-8e08-2ee80d979853\")>,\n",
       " <selenium.webdriver.remote.webelement.WebElement (session=\"943b497a7c68c255e74c4c740595d1d8\", element=\"d952e57b-857c-4c5f-8482-af75a15312ad\")>,\n",
       " <selenium.webdriver.remote.webelement.WebElement (session=\"943b497a7c68c255e74c4c740595d1d8\", element=\"0f13bacb-f5c2-49b3-a560-5a62349e0aee\")>,\n",
       " <selenium.webdriver.remote.webelement.WebElement (session=\"943b497a7c68c255e74c4c740595d1d8\", element=\"32738063-31ff-47c9-af15-1052a2c8c4e9\")>,\n",
       " <selenium.webdriver.remote.webelement.WebElement (session=\"943b497a7c68c255e74c4c740595d1d8\", element=\"b6584c4c-a223-4128-ae38-bec10ffd7a7f\")>,\n",
       " <selenium.webdriver.remote.webelement.WebElement (session=\"943b497a7c68c255e74c4c740595d1d8\", element=\"2b101ef4-98cf-4616-acb5-2105f5263c25\")>,\n",
       " <selenium.webdriver.remote.webelement.WebElement (session=\"943b497a7c68c255e74c4c740595d1d8\", element=\"82565e8e-724b-48ce-91d1-ab55cedd3f5d\")>,\n",
       " <selenium.webdriver.remote.webelement.WebElement (session=\"943b497a7c68c255e74c4c740595d1d8\", element=\"90029fbc-c037-4db1-b499-ecd8d57fdd4b\")>,\n",
       " <selenium.webdriver.remote.webelement.WebElement (session=\"943b497a7c68c255e74c4c740595d1d8\", element=\"8595e668-c03f-403c-af6a-72d7e2cb17c2\")>,\n",
       " <selenium.webdriver.remote.webelement.WebElement (session=\"943b497a7c68c255e74c4c740595d1d8\", element=\"b371aad4-1a88-4210-922c-aa8439b8b967\")>,\n",
       " <selenium.webdriver.remote.webelement.WebElement (session=\"943b497a7c68c255e74c4c740595d1d8\", element=\"e949798e-418e-4b5a-8b91-1e1dc8c272f6\")>,\n",
       " <selenium.webdriver.remote.webelement.WebElement (session=\"943b497a7c68c255e74c4c740595d1d8\", element=\"51631bc4-d354-469d-932e-d962fe27caa9\")>,\n",
       " <selenium.webdriver.remote.webelement.WebElement (session=\"943b497a7c68c255e74c4c740595d1d8\", element=\"55e1b2c3-026c-4bfc-ac41-038a453682f0\")>,\n",
       " <selenium.webdriver.remote.webelement.WebElement (session=\"943b497a7c68c255e74c4c740595d1d8\", element=\"1ddf004f-eb0e-4dde-a865-a847a2267969\")>,\n",
       " <selenium.webdriver.remote.webelement.WebElement (session=\"943b497a7c68c255e74c4c740595d1d8\", element=\"a3674582-befb-433f-8efb-23969f3b9bcd\")>]"
      ]
     },
     "execution_count": 120,
     "metadata": {},
     "output_type": "execute_result"
    }
   ],
   "source": [
    "title_tags"
   ]
  },
  {
   "cell_type": "code",
   "execution_count": 121,
   "id": "985e4ab7",
   "metadata": {},
   "outputs": [
    {
     "data": {
      "text/plain": [
       "20"
      ]
     },
     "execution_count": 121,
     "metadata": {},
     "output_type": "execute_result"
    }
   ],
   "source": [
    "#no the text of job title is inside the web element extracted above \n",
    "#so we will run a for loop to iterate over the tags and will extract text from them\n",
    "job_titles = []\n",
    "\n",
    "for i in title_tags:\n",
    "    job_titles.append(i.text)\n",
    "len(job_titles)"
   ]
  },
  {
   "cell_type": "code",
   "execution_count": 122,
   "id": "7abe7042",
   "metadata": {
    "collapsed": true
   },
   "outputs": [
    {
     "data": {
      "text/plain": [
       "['Hiring -Data Analyst, Business Analyst, MIS Analyst -3rd Party Payroll',\n",
       " 'Data analyst',\n",
       " 'Pipeline/Piping Data Analyst Trainee',\n",
       " 'Data Analyst',\n",
       " 'Senior Data Analyst - Collibra',\n",
       " 'Hiring For Data Analyst (SQL & Scala) || Coforge',\n",
       " 'Hiring Data Analyst(Immediate joiner preferred) - Globallogic!',\n",
       " 'Sr. Data Analyst',\n",
       " 'Data Analyst- 6-9 Years- Pan India-Permanent position',\n",
       " 'Data Analyst',\n",
       " 'Senior Data Analyst II',\n",
       " 'Senior Data Analyst',\n",
       " 'DATA ANALYST, IMPACT MEASUREMENT AND MANAGEMENT',\n",
       " 'Data Analyst',\n",
       " 'Data Analyst - Platform & Security',\n",
       " 'Global Tax Automation & Operations - Data Scientist Senior Analyst',\n",
       " 'Data Analyst',\n",
       " 'Data Analyst',\n",
       " 'Data Analyst',\n",
       " 'Business Analyst (Data Analyst role)']"
      ]
     },
     "execution_count": 122,
     "metadata": {},
     "output_type": "execute_result"
    }
   ],
   "source": [
    "job_titles"
   ]
  },
  {
   "cell_type": "markdown",
   "id": "1fb8dfb8",
   "metadata": {},
   "source": [
    "### Extracting company names"
   ]
  },
  {
   "cell_type": "code",
   "execution_count": 123,
   "id": "dcf6d377",
   "metadata": {},
   "outputs": [
    {
     "data": {
      "text/plain": [
       "20"
      ]
     },
     "execution_count": 123,
     "metadata": {},
     "output_type": "execute_result"
    }
   ],
   "source": [
    "#let's extract all web elements having company names\n",
    "com_tags = driver.find_elements_by_xpath('//a[@class=\"subTitle ellipsis fleft\"]')\n",
    "len(com_tags)"
   ]
  },
  {
   "cell_type": "code",
   "execution_count": 124,
   "id": "24c7443d",
   "metadata": {},
   "outputs": [
    {
     "data": {
      "text/plain": [
       "20"
      ]
     },
     "execution_count": 124,
     "metadata": {},
     "output_type": "execute_result"
    }
   ],
   "source": [
    "#so we will run a for loop to iterate over the tags and will extract text from them\n",
    "com_names = []\n",
    "\n",
    "for i in com_tags:\n",
    "    com_names.append(i.text)\n",
    "len(com_names)"
   ]
  },
  {
   "cell_type": "code",
   "execution_count": 125,
   "id": "63ae630e",
   "metadata": {
    "collapsed": true
   },
   "outputs": [
    {
     "data": {
      "text/plain": [
       "['Flipkart',\n",
       " 'GSK India',\n",
       " 'TIMS SOLUTIONS PRIVATE LIMITED',\n",
       " 'Insure Pro 2.0',\n",
       " 'Shell',\n",
       " 'Coforge',\n",
       " 'GlobalLogic',\n",
       " 'Born Commerce',\n",
       " 'Virtusa',\n",
       " 'Opkey',\n",
       " 'Flipkart',\n",
       " 'Flipkart',\n",
       " 'Upaya Social Ventures',\n",
       " 'DocsApp',\n",
       " 'Hotstar',\n",
       " 'Dell',\n",
       " 'BERKMEER INDIA PRIVATE LIMITED',\n",
       " 'Lifesight Technologies Pvt. Ltd.',\n",
       " 'GSK India',\n",
       " 'Xpheno']"
      ]
     },
     "execution_count": 125,
     "metadata": {},
     "output_type": "execute_result"
    }
   ],
   "source": [
    "com_names"
   ]
  },
  {
   "cell_type": "markdown",
   "id": "28645c57",
   "metadata": {},
   "source": [
    "### Extracting experience"
   ]
  },
  {
   "cell_type": "code",
   "execution_count": 126,
   "id": "4b96b8ef",
   "metadata": {},
   "outputs": [
    {
     "data": {
      "text/plain": [
       "20"
      ]
     },
     "execution_count": 126,
     "metadata": {},
     "output_type": "execute_result"
    }
   ],
   "source": [
    "#let's extract all web elements having experience using parent tag\n",
    "exp_tags = driver.find_elements_by_xpath('//li[@class=\"fleft grey-text br2 placeHolderLi experience\"]')\n",
    "len(exp_tags)"
   ]
  },
  {
   "cell_type": "code",
   "execution_count": 127,
   "id": "b4b0c681",
   "metadata": {},
   "outputs": [
    {
     "data": {
      "text/plain": [
       "20"
      ]
     },
     "execution_count": 127,
     "metadata": {},
     "output_type": "execute_result"
    }
   ],
   "source": [
    "#so we will run a for loop to iterate over the tags and will extract text from them\n",
    "experience = []\n",
    "\n",
    "for i in exp_tags:\n",
    "    experience.append(i.text)\n",
    "len(experience)"
   ]
  },
  {
   "cell_type": "code",
   "execution_count": 128,
   "id": "5e07183e",
   "metadata": {
    "collapsed": true
   },
   "outputs": [
    {
     "data": {
      "text/plain": [
       "['1-6 Yrs',\n",
       " '5-9 Yrs',\n",
       " '0-4 Yrs',\n",
       " '0-2 Yrs',\n",
       " '8-12 Yrs',\n",
       " '4-8 Yrs',\n",
       " '6-9 Yrs',\n",
       " '5-10 Yrs',\n",
       " '6-9 Yrs',\n",
       " '2-5 Yrs',\n",
       " '2-4 Yrs',\n",
       " '2-3 Yrs',\n",
       " '1-3 Yrs',\n",
       " '2-6 Yrs',\n",
       " '2-6 Yrs',\n",
       " '3-5 Yrs',\n",
       " '0-2 Yrs',\n",
       " '0-2 Yrs',\n",
       " '3-8 Yrs',\n",
       " '2-5 Yrs']"
      ]
     },
     "execution_count": 128,
     "metadata": {},
     "output_type": "execute_result"
    }
   ],
   "source": [
    "experience"
   ]
  },
  {
   "cell_type": "markdown",
   "id": "2811d16c",
   "metadata": {},
   "source": [
    "### Extracting Location"
   ]
  },
  {
   "cell_type": "code",
   "execution_count": 130,
   "id": "41ee6652",
   "metadata": {},
   "outputs": [
    {
     "data": {
      "text/plain": [
       "20"
      ]
     },
     "execution_count": 130,
     "metadata": {},
     "output_type": "execute_result"
    }
   ],
   "source": [
    "locn_tags = driver.find_elements_by_xpath('//li[@class=\"fleft grey-text br2 placeHolderLi location\"]')\n",
    "len(locn_tags)"
   ]
  },
  {
   "cell_type": "code",
   "execution_count": 131,
   "id": "a62e764e",
   "metadata": {},
   "outputs": [
    {
     "data": {
      "text/plain": [
       "20"
      ]
     },
     "execution_count": 131,
     "metadata": {},
     "output_type": "execute_result"
    }
   ],
   "source": [
    "location = []\n",
    "\n",
    "for i in locn_tags:\n",
    "    location.append(i.text)\n",
    "len(location)"
   ]
  },
  {
   "cell_type": "code",
   "execution_count": 134,
   "id": "a5590920",
   "metadata": {
    "collapsed": true
   },
   "outputs": [
    {
     "data": {
      "text/plain": [
       "['Bangalore/Bengaluru',\n",
       " 'Bangalore/Bengaluru',\n",
       " 'Bangalore/Bengaluru',\n",
       " 'Bangalore/Bengaluru(HSR Layout +7)',\n",
       " 'Bangalore/Bengaluru',\n",
       " 'Mumbai, Bangalore/Bengaluru, Greater Noida\\n(WFH during Covid)',\n",
       " 'Hyderabad/Secunderabad, Pune, Bangalore/Bengaluru\\n(WFH during Covid)',\n",
       " 'Bangalore/Bengaluru',\n",
       " 'Mumbai, Hyderabad/Secunderabad, Chennai, Bangalore/Bengaluru, Delhi / NCR',\n",
       " 'Bangalore/Bengaluru',\n",
       " 'Bangalore/Bengaluru',\n",
       " 'Bangalore/Bengaluru',\n",
       " 'Bangalore/Bengaluru',\n",
       " 'Bangalore/Bengaluru(Jayanagar +3)',\n",
       " 'Bangalore/Bengaluru',\n",
       " 'Bangalore/Bengaluru',\n",
       " 'Bangalore/Bengaluru',\n",
       " 'Bangalore/Bengaluru',\n",
       " 'Bangalore/Bengaluru',\n",
       " 'Mumbai, Hyderabad/Secunderabad, Pune, Chennai, Bangalore/Bengaluru']"
      ]
     },
     "execution_count": 134,
     "metadata": {},
     "output_type": "execute_result"
    }
   ],
   "source": [
    "location"
   ]
  },
  {
   "cell_type": "markdown",
   "id": "e8e37b24",
   "metadata": {},
   "source": [
    "### Extracting Salary "
   ]
  },
  {
   "cell_type": "code",
   "execution_count": 135,
   "id": "f6f8c8f6",
   "metadata": {},
   "outputs": [
    {
     "data": {
      "text/plain": [
       "20"
      ]
     },
     "execution_count": 135,
     "metadata": {},
     "output_type": "execute_result"
    }
   ],
   "source": [
    "sal = driver.find_elements_by_xpath('//li[@class=\"fleft grey-text br2 placeHolderLi salary\"]')\n",
    "len(sal)"
   ]
  },
  {
   "cell_type": "code",
   "execution_count": 136,
   "id": "8f6f3cfa",
   "metadata": {},
   "outputs": [
    {
     "data": {
      "text/plain": [
       "20"
      ]
     },
     "execution_count": 136,
     "metadata": {},
     "output_type": "execute_result"
    }
   ],
   "source": [
    "salary = []\n",
    "for i in sal:\n",
    "    salary.append(i.text)\n",
    "len(salary)"
   ]
  },
  {
   "cell_type": "code",
   "execution_count": 68,
   "id": "15b0ebaf",
   "metadata": {
    "collapsed": true
   },
   "outputs": [
    {
     "data": {
      "text/plain": [
       "['5,00,000 - 10,00,000 PA.',\n",
       " 'Not disclosed',\n",
       " '2,25,000 - 3,00,000 PA.',\n",
       " 'Not disclosed',\n",
       " 'Not disclosed',\n",
       " '4,00,000 - 9,00,000 PA.',\n",
       " 'Not disclosed',\n",
       " '5,00,000 - 15,00,000 PA.',\n",
       " 'Not disclosed',\n",
       " 'Not disclosed',\n",
       " 'Not disclosed',\n",
       " 'Not disclosed',\n",
       " 'Not disclosed',\n",
       " '2,00,000 - 6,00,000 PA.',\n",
       " 'Not disclosed',\n",
       " 'Not disclosed',\n",
       " '4,00,000 - 5,00,000 PA.',\n",
       " 'Not disclosed',\n",
       " 'Not disclosed',\n",
       " 'Not disclosed']"
      ]
     },
     "execution_count": 68,
     "metadata": {},
     "output_type": "execute_result"
    }
   ],
   "source": [
    "salary"
   ]
  },
  {
   "cell_type": "code",
   "execution_count": 137,
   "id": "45a091bb",
   "metadata": {},
   "outputs": [
    {
     "data": {
      "text/plain": [
       "(20, 20, 20, 20, 20)"
      ]
     },
     "execution_count": 137,
     "metadata": {},
     "output_type": "execute_result"
    }
   ],
   "source": [
    "len(job_titles), len(com_names), len(experience), len(location), len(salary)"
   ]
  },
  {
   "cell_type": "code",
   "execution_count": 138,
   "id": "a7465e82",
   "metadata": {
    "collapsed": true
   },
   "outputs": [
    {
     "data": {
      "text/html": [
       "<div>\n",
       "<style scoped>\n",
       "    .dataframe tbody tr th:only-of-type {\n",
       "        vertical-align: middle;\n",
       "    }\n",
       "\n",
       "    .dataframe tbody tr th {\n",
       "        vertical-align: top;\n",
       "    }\n",
       "\n",
       "    .dataframe thead th {\n",
       "        text-align: right;\n",
       "    }\n",
       "</style>\n",
       "<table border=\"1\" class=\"dataframe\">\n",
       "  <thead>\n",
       "    <tr style=\"text-align: right;\">\n",
       "      <th></th>\n",
       "      <th>\"Job Title\"</th>\n",
       "      <th>Company</th>\n",
       "      <th>Experience</th>\n",
       "      <th>Location</th>\n",
       "      <th>Salary</th>\n",
       "    </tr>\n",
       "  </thead>\n",
       "  <tbody>\n",
       "    <tr>\n",
       "      <th>0</th>\n",
       "      <td>Hiring -Data Analyst, Business Analyst, MIS An...</td>\n",
       "      <td>Flipkart</td>\n",
       "      <td>1-6 Yrs</td>\n",
       "      <td>Bangalore/Bengaluru</td>\n",
       "      <td>5,00,000 - 10,00,000 PA.</td>\n",
       "    </tr>\n",
       "    <tr>\n",
       "      <th>1</th>\n",
       "      <td>Data analyst</td>\n",
       "      <td>GSK India</td>\n",
       "      <td>5-9 Yrs</td>\n",
       "      <td>Bangalore/Bengaluru</td>\n",
       "      <td>Not disclosed</td>\n",
       "    </tr>\n",
       "    <tr>\n",
       "      <th>2</th>\n",
       "      <td>Pipeline/Piping Data Analyst Trainee</td>\n",
       "      <td>TIMS SOLUTIONS PRIVATE LIMITED</td>\n",
       "      <td>0-4 Yrs</td>\n",
       "      <td>Bangalore/Bengaluru</td>\n",
       "      <td>2,25,000 - 3,00,000 PA.</td>\n",
       "    </tr>\n",
       "    <tr>\n",
       "      <th>3</th>\n",
       "      <td>Data Analyst</td>\n",
       "      <td>Insure Pro 2.0</td>\n",
       "      <td>0-2 Yrs</td>\n",
       "      <td>Bangalore/Bengaluru(HSR Layout +7)</td>\n",
       "      <td>Not disclosed</td>\n",
       "    </tr>\n",
       "    <tr>\n",
       "      <th>4</th>\n",
       "      <td>Senior Data Analyst - Collibra</td>\n",
       "      <td>Shell</td>\n",
       "      <td>8-12 Yrs</td>\n",
       "      <td>Bangalore/Bengaluru</td>\n",
       "      <td>Not disclosed</td>\n",
       "    </tr>\n",
       "    <tr>\n",
       "      <th>5</th>\n",
       "      <td>Hiring For Data Analyst (SQL &amp; Scala) || Coforge</td>\n",
       "      <td>Coforge</td>\n",
       "      <td>4-8 Yrs</td>\n",
       "      <td>Mumbai, Bangalore/Bengaluru, Greater Noida\\n(W...</td>\n",
       "      <td>4,00,000 - 9,00,000 PA.</td>\n",
       "    </tr>\n",
       "    <tr>\n",
       "      <th>6</th>\n",
       "      <td>Hiring Data Analyst(Immediate joiner preferred...</td>\n",
       "      <td>GlobalLogic</td>\n",
       "      <td>6-9 Yrs</td>\n",
       "      <td>Hyderabad/Secunderabad, Pune, Bangalore/Bengal...</td>\n",
       "      <td>Not disclosed</td>\n",
       "    </tr>\n",
       "    <tr>\n",
       "      <th>7</th>\n",
       "      <td>Sr. Data Analyst</td>\n",
       "      <td>Born Commerce</td>\n",
       "      <td>5-10 Yrs</td>\n",
       "      <td>Bangalore/Bengaluru</td>\n",
       "      <td>5,00,000 - 15,00,000 PA.</td>\n",
       "    </tr>\n",
       "    <tr>\n",
       "      <th>8</th>\n",
       "      <td>Data Analyst- 6-9 Years- Pan India-Permanent p...</td>\n",
       "      <td>Virtusa</td>\n",
       "      <td>6-9 Yrs</td>\n",
       "      <td>Mumbai, Hyderabad/Secunderabad, Chennai, Banga...</td>\n",
       "      <td>Not disclosed</td>\n",
       "    </tr>\n",
       "    <tr>\n",
       "      <th>9</th>\n",
       "      <td>Data Analyst</td>\n",
       "      <td>Opkey</td>\n",
       "      <td>2-5 Yrs</td>\n",
       "      <td>Bangalore/Bengaluru</td>\n",
       "      <td>Not disclosed</td>\n",
       "    </tr>\n",
       "  </tbody>\n",
       "</table>\n",
       "</div>"
      ],
      "text/plain": [
       "                                         \"Job Title\"  \\\n",
       "0  Hiring -Data Analyst, Business Analyst, MIS An...   \n",
       "1                                       Data analyst   \n",
       "2               Pipeline/Piping Data Analyst Trainee   \n",
       "3                                       Data Analyst   \n",
       "4                     Senior Data Analyst - Collibra   \n",
       "5   Hiring For Data Analyst (SQL & Scala) || Coforge   \n",
       "6  Hiring Data Analyst(Immediate joiner preferred...   \n",
       "7                                   Sr. Data Analyst   \n",
       "8  Data Analyst- 6-9 Years- Pan India-Permanent p...   \n",
       "9                                       Data Analyst   \n",
       "\n",
       "                          Company Experience  \\\n",
       "0                        Flipkart    1-6 Yrs   \n",
       "1                       GSK India    5-9 Yrs   \n",
       "2  TIMS SOLUTIONS PRIVATE LIMITED    0-4 Yrs   \n",
       "3                  Insure Pro 2.0    0-2 Yrs   \n",
       "4                           Shell   8-12 Yrs   \n",
       "5                         Coforge    4-8 Yrs   \n",
       "6                     GlobalLogic    6-9 Yrs   \n",
       "7                   Born Commerce   5-10 Yrs   \n",
       "8                         Virtusa    6-9 Yrs   \n",
       "9                           Opkey    2-5 Yrs   \n",
       "\n",
       "                                            Location                    Salary  \n",
       "0                                Bangalore/Bengaluru  5,00,000 - 10,00,000 PA.  \n",
       "1                                Bangalore/Bengaluru             Not disclosed  \n",
       "2                                Bangalore/Bengaluru   2,25,000 - 3,00,000 PA.  \n",
       "3                 Bangalore/Bengaluru(HSR Layout +7)             Not disclosed  \n",
       "4                                Bangalore/Bengaluru             Not disclosed  \n",
       "5  Mumbai, Bangalore/Bengaluru, Greater Noida\\n(W...   4,00,000 - 9,00,000 PA.  \n",
       "6  Hyderabad/Secunderabad, Pune, Bangalore/Bengal...             Not disclosed  \n",
       "7                                Bangalore/Bengaluru  5,00,000 - 15,00,000 PA.  \n",
       "8  Mumbai, Hyderabad/Secunderabad, Chennai, Banga...             Not disclosed  \n",
       "9                                Bangalore/Bengaluru             Not disclosed  "
      ]
     },
     "execution_count": 138,
     "metadata": {},
     "output_type": "execute_result"
    }
   ],
   "source": [
    "df = pd.DataFrame({'\"Job Title\"': job_titles, 'Company': com_names, 'Experience': experience, 'Location': location, 'Salary' : salary })\n",
    "df.head(10)"
   ]
  },
  {
   "cell_type": "markdown",
   "id": "b47425ce",
   "metadata": {},
   "source": []
  },
  {
   "cell_type": "markdown",
   "id": "5803ec31",
   "metadata": {},
   "source": [
    "Q2: Write a python program to scrape data for “Data Scientist” Job position in “Bangalore” location. You\n",
    "have to scrape the job-title, job-location, company_name. You have to scrape first 10 jobs data.\n",
    "This task will be done in following steps:\n",
    "1. First get the webpage https://www.naukri.com/\n",
    "2. Enter “Data Scientist” in “Skill, Designations, Companies” field and enter “Bangalore” in “enter the\n",
    "location” field.\n",
    "3. Then click the search button.\n",
    "4. Then scrape the data for the first 10 jobs results you get.\n",
    "5. Finally create a dataframe of the scraped data."
   ]
  },
  {
   "cell_type": "code",
   "execution_count": 139,
   "id": "63aac0b7",
   "metadata": {},
   "outputs": [],
   "source": [
    "# connect the web driver\n",
    "driver = webdriver.Chrome(r'C:\\Users\\DELL\\Downloads\\chromedriver_win32\\chromedriver.exe')"
   ]
  },
  {
   "cell_type": "code",
   "execution_count": 140,
   "id": "ca8aeaf4",
   "metadata": {},
   "outputs": [],
   "source": [
    "url = 'https://www.naukri.com/'\n",
    "driver.get(url)"
   ]
  },
  {
   "cell_type": "code",
   "execution_count": 141,
   "id": "123f0024",
   "metadata": {},
   "outputs": [
    {
     "data": {
      "text/plain": [
       "<selenium.webdriver.remote.webelement.WebElement (session=\"6032b0c7bb8e705e636062fbc0bc05b2\", element=\"6c95a476-c4b2-4426-a1fb-ceead3af3284\")>"
      ]
     },
     "execution_count": 141,
     "metadata": {},
     "output_type": "execute_result"
    }
   ],
   "source": [
    "search_job = driver.find_element_by_xpath('/html/body/div/div[2]/div[3]/div/div/div[1]/div/div/div/input')\n",
    "search_job"
   ]
  },
  {
   "cell_type": "code",
   "execution_count": 142,
   "id": "9968b596",
   "metadata": {},
   "outputs": [],
   "source": [
    "search_job.send_keys('Data Scientist')"
   ]
  },
  {
   "cell_type": "code",
   "execution_count": 143,
   "id": "b02a3d9f",
   "metadata": {},
   "outputs": [
    {
     "data": {
      "text/plain": [
       "<selenium.webdriver.remote.webelement.WebElement (session=\"6032b0c7bb8e705e636062fbc0bc05b2\", element=\"87ce6d88-41c9-499b-90e0-37e602e88fe6\")>"
      ]
     },
     "execution_count": 143,
     "metadata": {},
     "output_type": "execute_result"
    }
   ],
   "source": [
    "search_locn = driver.find_element_by_xpath('/html/body/div/div[2]/div[3]/div/div/div[3]/div/div/div/input')\n",
    "search_locn"
   ]
  },
  {
   "cell_type": "code",
   "execution_count": 145,
   "id": "fab4030b",
   "metadata": {},
   "outputs": [],
   "source": [
    "search_locn.send_keys('Bangalore')"
   ]
  },
  {
   "cell_type": "code",
   "execution_count": 156,
   "id": "50b2c9af",
   "metadata": {},
   "outputs": [
    {
     "data": {
      "text/plain": [
       "<selenium.webdriver.remote.webelement.WebElement (session=\"6032b0c7bb8e705e636062fbc0bc05b2\", element=\"ebd454c4-4a41-4347-b8fc-49794cbb891b\")>"
      ]
     },
     "execution_count": 156,
     "metadata": {},
     "output_type": "execute_result"
    }
   ],
   "source": [
    "search_btn = driver.find_element_by_class_name('/html/body/div/div[2]/div[3]/div/div/div[6]')\n",
    "search_btn"
   ]
  },
  {
   "cell_type": "code",
   "execution_count": 157,
   "id": "813c99ce",
   "metadata": {},
   "outputs": [],
   "source": [
    "search_btn.click()"
   ]
  },
  {
   "cell_type": "markdown",
   "id": "f424b923",
   "metadata": {},
   "source": [
    "### Extacting job titles, Company Names, Location, Experience and Salary "
   ]
  },
  {
   "cell_type": "code",
   "execution_count": 158,
   "id": "4ad43dac",
   "metadata": {},
   "outputs": [
    {
     "data": {
      "text/plain": [
       "20"
      ]
     },
     "execution_count": 158,
     "metadata": {},
     "output_type": "execute_result"
    }
   ],
   "source": [
    "title_tags = driver.find_elements_by_xpath('//a[@class=\"title fw500 ellipsis\"]')\n",
    "len(title_tags)"
   ]
  },
  {
   "cell_type": "code",
   "execution_count": 159,
   "id": "26644a4c",
   "metadata": {
    "collapsed": true
   },
   "outputs": [
    {
     "data": {
      "text/plain": [
       "[<selenium.webdriver.remote.webelement.WebElement (session=\"6032b0c7bb8e705e636062fbc0bc05b2\", element=\"23e6f503-47fb-409f-bc0b-46790cca3ddf\")>,\n",
       " <selenium.webdriver.remote.webelement.WebElement (session=\"6032b0c7bb8e705e636062fbc0bc05b2\", element=\"9cef885a-b4d6-4747-af39-3ba262b70ca6\")>,\n",
       " <selenium.webdriver.remote.webelement.WebElement (session=\"6032b0c7bb8e705e636062fbc0bc05b2\", element=\"b54800e6-623a-4bf3-9a47-196559263d4b\")>,\n",
       " <selenium.webdriver.remote.webelement.WebElement (session=\"6032b0c7bb8e705e636062fbc0bc05b2\", element=\"5bef4961-ba87-4c19-b717-978d5f474a81\")>,\n",
       " <selenium.webdriver.remote.webelement.WebElement (session=\"6032b0c7bb8e705e636062fbc0bc05b2\", element=\"34db91ed-6524-4520-8636-c9e5c7705d5f\")>,\n",
       " <selenium.webdriver.remote.webelement.WebElement (session=\"6032b0c7bb8e705e636062fbc0bc05b2\", element=\"f454f7b6-ba22-4a1a-8147-0b318e977182\")>,\n",
       " <selenium.webdriver.remote.webelement.WebElement (session=\"6032b0c7bb8e705e636062fbc0bc05b2\", element=\"52f26c3c-b431-42f4-b19b-dc97b61e6dad\")>,\n",
       " <selenium.webdriver.remote.webelement.WebElement (session=\"6032b0c7bb8e705e636062fbc0bc05b2\", element=\"c96c61c3-1242-4983-916d-243272c1d5d8\")>,\n",
       " <selenium.webdriver.remote.webelement.WebElement (session=\"6032b0c7bb8e705e636062fbc0bc05b2\", element=\"2d4e5925-bad4-4823-8673-4886bcac0bec\")>,\n",
       " <selenium.webdriver.remote.webelement.WebElement (session=\"6032b0c7bb8e705e636062fbc0bc05b2\", element=\"f800963f-ae72-4b79-b4b5-3f780b04a5ae\")>,\n",
       " <selenium.webdriver.remote.webelement.WebElement (session=\"6032b0c7bb8e705e636062fbc0bc05b2\", element=\"531a1988-1920-439d-939e-c2b5a70b4ead\")>,\n",
       " <selenium.webdriver.remote.webelement.WebElement (session=\"6032b0c7bb8e705e636062fbc0bc05b2\", element=\"18375242-f76c-40d4-8683-82341a5c3324\")>,\n",
       " <selenium.webdriver.remote.webelement.WebElement (session=\"6032b0c7bb8e705e636062fbc0bc05b2\", element=\"2553473a-8216-4d7d-aa58-1f67fe78ec5f\")>,\n",
       " <selenium.webdriver.remote.webelement.WebElement (session=\"6032b0c7bb8e705e636062fbc0bc05b2\", element=\"84660b92-45c9-4284-a9f1-6ea5523af6dc\")>,\n",
       " <selenium.webdriver.remote.webelement.WebElement (session=\"6032b0c7bb8e705e636062fbc0bc05b2\", element=\"299f2697-9d54-4f1a-8a12-9333b0c8bda9\")>,\n",
       " <selenium.webdriver.remote.webelement.WebElement (session=\"6032b0c7bb8e705e636062fbc0bc05b2\", element=\"0a95f9e3-9647-4990-85c0-4b0e28f824ab\")>,\n",
       " <selenium.webdriver.remote.webelement.WebElement (session=\"6032b0c7bb8e705e636062fbc0bc05b2\", element=\"dab42277-d12f-46ff-9e07-33439da89c57\")>,\n",
       " <selenium.webdriver.remote.webelement.WebElement (session=\"6032b0c7bb8e705e636062fbc0bc05b2\", element=\"e0cde7e2-4cb2-48a3-9e6c-56694a091999\")>,\n",
       " <selenium.webdriver.remote.webelement.WebElement (session=\"6032b0c7bb8e705e636062fbc0bc05b2\", element=\"5261a21b-d2a9-441a-a434-daca033aa79b\")>,\n",
       " <selenium.webdriver.remote.webelement.WebElement (session=\"6032b0c7bb8e705e636062fbc0bc05b2\", element=\"79ffee6f-7014-46d0-9d40-86c7919b60d3\")>]"
      ]
     },
     "execution_count": 159,
     "metadata": {},
     "output_type": "execute_result"
    }
   ],
   "source": [
    "title_tags"
   ]
  },
  {
   "cell_type": "code",
   "execution_count": 161,
   "id": "74e0019e",
   "metadata": {
    "collapsed": true
   },
   "outputs": [
    {
     "data": {
      "text/plain": [
       "['Global Tax Automation & Operations - Data Scientist Senior Analyst',\n",
       " 'Associate Data Scientist',\n",
       " 'Data Scientist / Analyst',\n",
       " 'Principal Data Scientist',\n",
       " 'Senior Data Scientist, Speech Synthesis',\n",
       " 'Senior Data Scientist - Customer Analytics',\n",
       " 'Senior Data Scientist I',\n",
       " 'Senior Risk Data Scientist',\n",
       " 'Data Scientist / ML Engineer',\n",
       " 'Data Scientist - Lead / Architect - Looking For Early Joiners - Wipro',\n",
       " 'Sr Data Scientist',\n",
       " 'Data Scientist I',\n",
       " 'NLP Data Scientist',\n",
       " 'Hiring For Sr. Data Scientist. Operation Research - SCM- MNC',\n",
       " 'Data Scientist: Advanced Analytics',\n",
       " 'Data Scientist: Advanced Analytics',\n",
       " 'Data Scientist: Artificial Intelligence',\n",
       " 'Deputy Manager - Data Scientist',\n",
       " 'Global Tax Automation & Operations / Data Scientist Advisor',\n",
       " 'Data Scientist']"
      ]
     },
     "execution_count": 161,
     "metadata": {},
     "output_type": "execute_result"
    }
   ],
   "source": [
    "job_titles = []\n",
    "\n",
    "for i in title_tags:\n",
    "    job_titles.append(i.text)\n",
    "\n",
    "job_titles"
   ]
  },
  {
   "cell_type": "code",
   "execution_count": 162,
   "id": "4d2484d0",
   "metadata": {},
   "outputs": [
    {
     "data": {
      "text/plain": [
       "20"
      ]
     },
     "execution_count": 162,
     "metadata": {},
     "output_type": "execute_result"
    }
   ],
   "source": [
    "com_tags = driver.find_elements_by_xpath('//a[@class=\"subTitle ellipsis fleft\"]')\n",
    "len(com_tags)"
   ]
  },
  {
   "cell_type": "code",
   "execution_count": 163,
   "id": "b90f0917",
   "metadata": {
    "collapsed": true
   },
   "outputs": [
    {
     "data": {
      "text/plain": [
       "['Dell',\n",
       " 'Kaplan',\n",
       " 'Talentify',\n",
       " 'Signify',\n",
       " 'NVIDIA',\n",
       " 'Atlassian',\n",
       " 'Delhivery',\n",
       " 'GSK India',\n",
       " 'AVE-Promagne',\n",
       " 'Wipro',\n",
       " 'Fragma data systems pvt ltd',\n",
       " 'DAZN',\n",
       " 'Refinitiv',\n",
       " 'PERSOLKELLY INDIA PRIVATE LIMITED',\n",
       " 'IBM',\n",
       " 'IBM',\n",
       " 'IBM',\n",
       " 'HDFC LIFE INSURANCE COMPANY LIMITED',\n",
       " 'Dell',\n",
       " 'IBM']"
      ]
     },
     "execution_count": 163,
     "metadata": {},
     "output_type": "execute_result"
    }
   ],
   "source": [
    "com_names = []\n",
    "\n",
    "for i in com_tags:\n",
    "    com_names.append(i.text)\n",
    "\n",
    "com_names"
   ]
  },
  {
   "cell_type": "code",
   "execution_count": 164,
   "id": "5346e3f0",
   "metadata": {},
   "outputs": [
    {
     "data": {
      "text/plain": [
       "20"
      ]
     },
     "execution_count": 164,
     "metadata": {},
     "output_type": "execute_result"
    }
   ],
   "source": [
    "exp_tags = driver.find_elements_by_xpath('//li[@class=\"fleft grey-text br2 placeHolderLi experience\"]')\n",
    "len(exp_tags)"
   ]
  },
  {
   "cell_type": "code",
   "execution_count": 165,
   "id": "83b46584",
   "metadata": {
    "collapsed": true
   },
   "outputs": [
    {
     "data": {
      "text/plain": [
       "['3-5 Yrs',\n",
       " '0-3 Yrs',\n",
       " '0-1 Yrs',\n",
       " '6-12 Yrs',\n",
       " '4-7 Yrs',\n",
       " '4-8 Yrs',\n",
       " '3-7 Yrs',\n",
       " '5-10 Yrs',\n",
       " '3-8 Yrs',\n",
       " '5-10 Yrs',\n",
       " '5-10 Yrs',\n",
       " '1-3 Yrs',\n",
       " '3-6 Yrs',\n",
       " '6-11 Yrs',\n",
       " '5-10 Yrs',\n",
       " '5-10 Yrs',\n",
       " '12-15 Yrs',\n",
       " '3-7 Yrs',\n",
       " '5-7 Yrs',\n",
       " '3-4 Yrs']"
      ]
     },
     "execution_count": 165,
     "metadata": {},
     "output_type": "execute_result"
    }
   ],
   "source": [
    "experience = []\n",
    "\n",
    "for i in exp_tags:\n",
    "    experience.append(i.text)\n",
    "\n",
    "experience"
   ]
  },
  {
   "cell_type": "code",
   "execution_count": 166,
   "id": "45330c74",
   "metadata": {},
   "outputs": [
    {
     "data": {
      "text/plain": [
       "20"
      ]
     },
     "execution_count": 166,
     "metadata": {},
     "output_type": "execute_result"
    }
   ],
   "source": [
    "locn_tags = driver.find_elements_by_xpath('//li[@class=\"fleft grey-text br2 placeHolderLi location\"]')\n",
    "len(locn_tags)"
   ]
  },
  {
   "cell_type": "code",
   "execution_count": 168,
   "id": "38d5ddc1",
   "metadata": {
    "collapsed": true
   },
   "outputs": [
    {
     "data": {
      "text/plain": [
       "['Bangalore/Bengaluru',\n",
       " 'Bangalore/Bengaluru',\n",
       " 'Hyderabad/Secunderabad, Bangalore/Bengaluru, Delhi / NCR',\n",
       " 'Bangalore/Bengaluru',\n",
       " 'Hyderabad/Secunderabad, Pune, Bangalore/Bengaluru',\n",
       " 'Bangalore/Bengaluru',\n",
       " 'Bangalore/Bengaluru',\n",
       " 'Bangalore/Bengaluru',\n",
       " 'Noida, Kota, Mumbai, Chandigarh, Lucknow, Agra, Gurgaon/Gurugram, Jaipur, Bangalore/Bengaluru',\n",
       " 'Kochi/Cochin, Kolkata, Pune, Gurgaon/Gurugram, Chennai, Coimbatore, Bangalore/Bengaluru, Mumbai (All Areas), Hyderabad',\n",
       " 'Bangalore/Bengaluru\\n(WFH during Covid)',\n",
       " 'Bangalore/Bengaluru',\n",
       " 'Bangalore/Bengaluru',\n",
       " 'Bangalore/Bengaluru\\n(WFH during Covid)',\n",
       " 'Bangalore/Bengaluru',\n",
       " 'Bangalore/Bengaluru',\n",
       " 'Bangalore/Bengaluru',\n",
       " 'Bangalore/Bengaluru',\n",
       " 'Bangalore/Bengaluru',\n",
       " 'Bangalore/Bengaluru']"
      ]
     },
     "execution_count": 168,
     "metadata": {},
     "output_type": "execute_result"
    }
   ],
   "source": [
    "location = []\n",
    "\n",
    "for i in locn_tags:\n",
    "    location.append(i.text)\n",
    "\n",
    "location"
   ]
  },
  {
   "cell_type": "code",
   "execution_count": 169,
   "id": "624bb829",
   "metadata": {},
   "outputs": [
    {
     "data": {
      "text/plain": [
       "20"
      ]
     },
     "execution_count": 169,
     "metadata": {},
     "output_type": "execute_result"
    }
   ],
   "source": [
    "sal = driver.find_elements_by_xpath('//li[@class=\"fleft grey-text br2 placeHolderLi salary\"]')\n",
    "len(sal)"
   ]
  },
  {
   "cell_type": "code",
   "execution_count": 170,
   "id": "d2018a93",
   "metadata": {
    "collapsed": true
   },
   "outputs": [
    {
     "data": {
      "text/plain": [
       "['Not disclosed',\n",
       " 'Not disclosed',\n",
       " '65,00,000 - 1 Cr and above PA.',\n",
       " 'Not disclosed',\n",
       " 'Not disclosed',\n",
       " 'Not disclosed',\n",
       " 'Not disclosed',\n",
       " 'Not disclosed',\n",
       " 'Not disclosed',\n",
       " 'Not disclosed',\n",
       " 'Not disclosed',\n",
       " 'Not disclosed',\n",
       " 'Not disclosed',\n",
       " 'Not disclosed',\n",
       " 'Not disclosed',\n",
       " 'Not disclosed',\n",
       " 'Not disclosed',\n",
       " 'Not disclosed',\n",
       " 'Not disclosed',\n",
       " 'Not disclosed']"
      ]
     },
     "execution_count": 170,
     "metadata": {},
     "output_type": "execute_result"
    }
   ],
   "source": [
    "salary = []\n",
    "for i in sal:\n",
    "    salary.append(i.text)\n",
    "\n",
    "salary"
   ]
  },
  {
   "cell_type": "code",
   "execution_count": 171,
   "id": "abc81f8f",
   "metadata": {
    "collapsed": true
   },
   "outputs": [
    {
     "data": {
      "text/html": [
       "<div>\n",
       "<style scoped>\n",
       "    .dataframe tbody tr th:only-of-type {\n",
       "        vertical-align: middle;\n",
       "    }\n",
       "\n",
       "    .dataframe tbody tr th {\n",
       "        vertical-align: top;\n",
       "    }\n",
       "\n",
       "    .dataframe thead th {\n",
       "        text-align: right;\n",
       "    }\n",
       "</style>\n",
       "<table border=\"1\" class=\"dataframe\">\n",
       "  <thead>\n",
       "    <tr style=\"text-align: right;\">\n",
       "      <th></th>\n",
       "      <th>\"Job Title\"</th>\n",
       "      <th>Company</th>\n",
       "      <th>Experience</th>\n",
       "      <th>Location</th>\n",
       "      <th>Salary</th>\n",
       "    </tr>\n",
       "  </thead>\n",
       "  <tbody>\n",
       "    <tr>\n",
       "      <th>0</th>\n",
       "      <td>Global Tax Automation &amp; Operations - Data Scie...</td>\n",
       "      <td>Dell</td>\n",
       "      <td>3-5 Yrs</td>\n",
       "      <td>Bangalore/Bengaluru</td>\n",
       "      <td>Not disclosed</td>\n",
       "    </tr>\n",
       "    <tr>\n",
       "      <th>1</th>\n",
       "      <td>Associate Data Scientist</td>\n",
       "      <td>Kaplan</td>\n",
       "      <td>0-3 Yrs</td>\n",
       "      <td>Bangalore/Bengaluru</td>\n",
       "      <td>Not disclosed</td>\n",
       "    </tr>\n",
       "    <tr>\n",
       "      <th>2</th>\n",
       "      <td>Data Scientist / Analyst</td>\n",
       "      <td>Talentify</td>\n",
       "      <td>0-1 Yrs</td>\n",
       "      <td>Hyderabad/Secunderabad, Bangalore/Bengaluru, D...</td>\n",
       "      <td>65,00,000 - 1 Cr and above PA.</td>\n",
       "    </tr>\n",
       "    <tr>\n",
       "      <th>3</th>\n",
       "      <td>Principal Data Scientist</td>\n",
       "      <td>Signify</td>\n",
       "      <td>6-12 Yrs</td>\n",
       "      <td>Bangalore/Bengaluru</td>\n",
       "      <td>Not disclosed</td>\n",
       "    </tr>\n",
       "    <tr>\n",
       "      <th>4</th>\n",
       "      <td>Senior Data Scientist, Speech Synthesis</td>\n",
       "      <td>NVIDIA</td>\n",
       "      <td>4-7 Yrs</td>\n",
       "      <td>Hyderabad/Secunderabad, Pune, Bangalore/Bengaluru</td>\n",
       "      <td>Not disclosed</td>\n",
       "    </tr>\n",
       "    <tr>\n",
       "      <th>5</th>\n",
       "      <td>Senior Data Scientist - Customer Analytics</td>\n",
       "      <td>Atlassian</td>\n",
       "      <td>4-8 Yrs</td>\n",
       "      <td>Bangalore/Bengaluru</td>\n",
       "      <td>Not disclosed</td>\n",
       "    </tr>\n",
       "    <tr>\n",
       "      <th>6</th>\n",
       "      <td>Senior Data Scientist I</td>\n",
       "      <td>Delhivery</td>\n",
       "      <td>3-7 Yrs</td>\n",
       "      <td>Bangalore/Bengaluru</td>\n",
       "      <td>Not disclosed</td>\n",
       "    </tr>\n",
       "    <tr>\n",
       "      <th>7</th>\n",
       "      <td>Senior Risk Data Scientist</td>\n",
       "      <td>GSK India</td>\n",
       "      <td>5-10 Yrs</td>\n",
       "      <td>Bangalore/Bengaluru</td>\n",
       "      <td>Not disclosed</td>\n",
       "    </tr>\n",
       "    <tr>\n",
       "      <th>8</th>\n",
       "      <td>Data Scientist / ML Engineer</td>\n",
       "      <td>AVE-Promagne</td>\n",
       "      <td>3-8 Yrs</td>\n",
       "      <td>Noida, Kota, Mumbai, Chandigarh, Lucknow, Agra...</td>\n",
       "      <td>Not disclosed</td>\n",
       "    </tr>\n",
       "    <tr>\n",
       "      <th>9</th>\n",
       "      <td>Data Scientist - Lead / Architect - Looking Fo...</td>\n",
       "      <td>Wipro</td>\n",
       "      <td>5-10 Yrs</td>\n",
       "      <td>Kochi/Cochin, Kolkata, Pune, Gurgaon/Gurugram,...</td>\n",
       "      <td>Not disclosed</td>\n",
       "    </tr>\n",
       "  </tbody>\n",
       "</table>\n",
       "</div>"
      ],
      "text/plain": [
       "                                         \"Job Title\"       Company Experience  \\\n",
       "0  Global Tax Automation & Operations - Data Scie...          Dell    3-5 Yrs   \n",
       "1                           Associate Data Scientist        Kaplan    0-3 Yrs   \n",
       "2                           Data Scientist / Analyst     Talentify    0-1 Yrs   \n",
       "3                           Principal Data Scientist       Signify   6-12 Yrs   \n",
       "4            Senior Data Scientist, Speech Synthesis        NVIDIA    4-7 Yrs   \n",
       "5         Senior Data Scientist - Customer Analytics     Atlassian    4-8 Yrs   \n",
       "6                            Senior Data Scientist I     Delhivery    3-7 Yrs   \n",
       "7                         Senior Risk Data Scientist     GSK India   5-10 Yrs   \n",
       "8                       Data Scientist / ML Engineer  AVE-Promagne    3-8 Yrs   \n",
       "9  Data Scientist - Lead / Architect - Looking Fo...         Wipro   5-10 Yrs   \n",
       "\n",
       "                                            Location  \\\n",
       "0                                Bangalore/Bengaluru   \n",
       "1                                Bangalore/Bengaluru   \n",
       "2  Hyderabad/Secunderabad, Bangalore/Bengaluru, D...   \n",
       "3                                Bangalore/Bengaluru   \n",
       "4  Hyderabad/Secunderabad, Pune, Bangalore/Bengaluru   \n",
       "5                                Bangalore/Bengaluru   \n",
       "6                                Bangalore/Bengaluru   \n",
       "7                                Bangalore/Bengaluru   \n",
       "8  Noida, Kota, Mumbai, Chandigarh, Lucknow, Agra...   \n",
       "9  Kochi/Cochin, Kolkata, Pune, Gurgaon/Gurugram,...   \n",
       "\n",
       "                           Salary  \n",
       "0                   Not disclosed  \n",
       "1                   Not disclosed  \n",
       "2  65,00,000 - 1 Cr and above PA.  \n",
       "3                   Not disclosed  \n",
       "4                   Not disclosed  \n",
       "5                   Not disclosed  \n",
       "6                   Not disclosed  \n",
       "7                   Not disclosed  \n",
       "8                   Not disclosed  \n",
       "9                   Not disclosed  "
      ]
     },
     "execution_count": 171,
     "metadata": {},
     "output_type": "execute_result"
    }
   ],
   "source": [
    "df = pd.DataFrame({'\"Job Title\"': job_titles, 'Company': com_names, 'Experience': experience, 'Location': location, 'Salary' : salary })\n",
    "df.head(10)"
   ]
  },
  {
   "cell_type": "code",
   "execution_count": null,
   "id": "a14abe51",
   "metadata": {},
   "outputs": [],
   "source": []
  },
  {
   "cell_type": "markdown",
   "id": "ec0b2671",
   "metadata": {},
   "source": [
    "Q3: In this question you have to scrape data using the filters available on the webpage as shown below\n",
    "You have to use the location and salary filter.\n",
    "You have to scrape data for “Data Scientist” designation for first 10 job results.\n",
    "You have to scrape the job-title, job-location, company name, experience required.\n",
    "The location filter to be used is “Delhi/NCR”. The salary filter to be used is “3-6” lakhs\n",
    "The task will be done as shown in the below steps:\n",
    "1. first get the webpage https://www.naukri.com/\n",
    "2. Enter “Data Scientist” in “Skill, Designations, and Companies” field.\n",
    "3. Then click the search button.\n",
    "4. Then apply the location filter and salary filter by checking the respective boxes\n",
    "5. Then scrape the data for the first 10 jobs results you get.\n",
    "6. Finally create a dataframe of the scraped data."
   ]
  },
  {
   "cell_type": "code",
   "execution_count": 172,
   "id": "322d25b8",
   "metadata": {},
   "outputs": [],
   "source": [
    "driver = webdriver.Chrome(r'C:\\Users\\DELL\\Downloads\\chromedriver_win32\\chromedriver.exe')"
   ]
  },
  {
   "cell_type": "code",
   "execution_count": 173,
   "id": "f48c3855",
   "metadata": {},
   "outputs": [],
   "source": [
    "url = 'https://www.naukri.com/'\n",
    "driver.get(url)"
   ]
  },
  {
   "cell_type": "code",
   "execution_count": 174,
   "id": "4d3d5b6f",
   "metadata": {},
   "outputs": [
    {
     "data": {
      "text/plain": [
       "<selenium.webdriver.remote.webelement.WebElement (session=\"cf749f1250e78710996e3436e00f9c38\", element=\"b0dfdb3a-4b4b-49e1-bbd7-66aa3b944256\")>"
      ]
     },
     "execution_count": 174,
     "metadata": {},
     "output_type": "execute_result"
    }
   ],
   "source": [
    "search_job = driver.find_element_by_class_name('suggestor-input')\n",
    "search_job"
   ]
  },
  {
   "cell_type": "code",
   "execution_count": 175,
   "id": "2856207e",
   "metadata": {},
   "outputs": [],
   "source": [
    "search_job.send_keys('Data Scientist')"
   ]
  },
  {
   "cell_type": "code",
   "execution_count": 176,
   "id": "3fd438fb",
   "metadata": {},
   "outputs": [],
   "source": [
    "search_btn = driver.find_element_by_xpath('/html/body/div/div[2]/div[3]/div/div/div[6]')\n",
    "search_btn\n",
    "search_btn.click()"
   ]
  },
  {
   "cell_type": "markdown",
   "id": "405eb88d",
   "metadata": {},
   "source": [
    "CLICKING FILTERS BY SELECTING CHECK BOXES USING ABSOLUTE xpath"
   ]
  },
  {
   "cell_type": "code",
   "execution_count": 178,
   "id": "d1cbea46",
   "metadata": {},
   "outputs": [],
   "source": [
    "sal_check = driver.find_element_by_xpath('/html/body/div[1]/div[3]/div[2]/section[1]/div[2]/div[4]/div[2]/div[2]/label/i')\n",
    "sal_check.click()"
   ]
  },
  {
   "cell_type": "code",
   "execution_count": 180,
   "id": "a4b50f97",
   "metadata": {},
   "outputs": [],
   "source": [
    "loc_check = driver.find_element_by_xpath('/html/body/div[1]/div[3]/div[2]/section[1]/div[2]/div[4]/div[2]/div[3]/label/i')\n",
    "loc_check.click()\n"
   ]
  },
  {
   "cell_type": "markdown",
   "id": "1dac5964",
   "metadata": {},
   "source": [
    "### Extacting job titles, Location, Company Names and Experience "
   ]
  },
  {
   "cell_type": "code",
   "execution_count": 181,
   "id": "1630fe86",
   "metadata": {
    "collapsed": true
   },
   "outputs": [
    {
     "data": {
      "text/plain": [
       "['Data Scientist II',\n",
       " 'Opening For Data Scientist',\n",
       " 'Data & Applied Scientist',\n",
       " 'Data and applied Scientist',\n",
       " 'Data Scientist',\n",
       " 'Data Scientist / Senior DS/ Team Lead',\n",
       " 'Data Scientist Internship',\n",
       " 'Data Scientist',\n",
       " 'Data Scientist (ML AI Engineer) / InfoObjects Inc.',\n",
       " 'Urgent Requirement || Data Scientist || Noida',\n",
       " 'Data Analyst / Data Scientist / Business Analytics / Fresher - MNC',\n",
       " 'Data Scientist',\n",
       " 'Data Scientist',\n",
       " 'Senior Data Scientist',\n",
       " 'Lead Data Scientist - KYC/Fraud/Marketing',\n",
       " 'Data Scientist role',\n",
       " 'Data Scientist',\n",
       " 'Data Scientist',\n",
       " 'Data Scientist',\n",
       " 'Data Scientist']"
      ]
     },
     "execution_count": 181,
     "metadata": {},
     "output_type": "execute_result"
    }
   ],
   "source": [
    "title_tags = driver.find_elements_by_xpath('//a[@class=\"title fw500 ellipsis\"]')\n",
    "\n",
    "job_titles = []\n",
    "\n",
    "for i in title_tags:\n",
    "    job_titles.append(i.text)\n",
    "\n",
    "job_titles"
   ]
  },
  {
   "cell_type": "code",
   "execution_count": null,
   "id": "e3272bae",
   "metadata": {},
   "outputs": [],
   "source": [
    "locn_tags = driver.find_elements_by_xpath('//li[@class=\"fleft grey-text br2 placeHolderLi location\"]')\n",
    "\n",
    "location = []\n",
    "\n",
    "for i in locn_tags:\n",
    "    location.append(i.text)\n",
    "\n",
    "location"
   ]
  },
  {
   "cell_type": "code",
   "execution_count": 182,
   "id": "3ea5989a",
   "metadata": {
    "collapsed": true
   },
   "outputs": [
    {
     "data": {
      "text/plain": [
       "['Chegg',\n",
       " 'Care Health Insurance',\n",
       " 'Microsoft',\n",
       " 'Microsoft',\n",
       " 'Stefanini',\n",
       " 'NebulARC Technologies Private Limited',\n",
       " 'iHackers Inc',\n",
       " 'Cloudstrats Technologies Private Limited',\n",
       " 'INFOOBJECTS SOFTWARE ( INDIA) PRIVATE LIMITED',\n",
       " 'HCL',\n",
       " 'GABA Consultancy services',\n",
       " 'Boston Consulting Group',\n",
       " 'Kyndryl',\n",
       " 'iNICU',\n",
       " 'Tide Software',\n",
       " 'Mount Talent Consulting Private Limited',\n",
       " 'BlackBuck',\n",
       " 'Country Veggie',\n",
       " 'Mahajan Imaging',\n",
       " 'Mahajan Imaging']"
      ]
     },
     "execution_count": 182,
     "metadata": {},
     "output_type": "execute_result"
    }
   ],
   "source": [
    "com_tags = driver.find_elements_by_xpath('//a[@class=\"subTitle ellipsis fleft\"]')\n",
    "\n",
    "com_names = []\n",
    "\n",
    "for i in com_tags:\n",
    "    com_names.append(i.text)\n",
    "\n",
    "com_names"
   ]
  },
  {
   "cell_type": "code",
   "execution_count": 183,
   "id": "5d35c154",
   "metadata": {
    "collapsed": true
   },
   "outputs": [
    {
     "data": {
      "text/plain": [
       "['2-6 Yrs',\n",
       " '1-5 Yrs',\n",
       " '3-7 Yrs',\n",
       " '3-7 Yrs',\n",
       " '3-8 Yrs',\n",
       " '0-4 Yrs',\n",
       " '0-1 Yrs',\n",
       " '3-5 Yrs',\n",
       " '3-7 Yrs',\n",
       " '3-8 Yrs',\n",
       " '0-0 Yrs',\n",
       " '2-5 Yrs',\n",
       " '6-11 Yrs',\n",
       " '1-5 Yrs',\n",
       " '1-6 Yrs',\n",
       " '1-3 Yrs',\n",
       " '3-7 Yrs',\n",
       " '1-3 Yrs',\n",
       " '2-6 Yrs',\n",
       " '2-6 Yrs']"
      ]
     },
     "execution_count": 183,
     "metadata": {},
     "output_type": "execute_result"
    }
   ],
   "source": [
    "exp_tags = driver.find_elements_by_xpath('//li[@class=\"fleft grey-text br2 placeHolderLi experience\"]')\n",
    "\n",
    "experience = []\n",
    "\n",
    "for i in exp_tags:\n",
    "    experience.append(i.text)\n",
    "\n",
    "experience"
   ]
  },
  {
   "cell_type": "code",
   "execution_count": 184,
   "id": "c7fa938f",
   "metadata": {},
   "outputs": [
    {
     "data": {
      "text/plain": [
       "(20, 20, 20, 20)"
      ]
     },
     "execution_count": 184,
     "metadata": {},
     "output_type": "execute_result"
    }
   ],
   "source": [
    "len(job_titles), len(com_names), len(location), len(experience)"
   ]
  },
  {
   "cell_type": "code",
   "execution_count": 185,
   "id": "3360b35e",
   "metadata": {
    "collapsed": true
   },
   "outputs": [
    {
     "data": {
      "text/html": [
       "<div>\n",
       "<style scoped>\n",
       "    .dataframe tbody tr th:only-of-type {\n",
       "        vertical-align: middle;\n",
       "    }\n",
       "\n",
       "    .dataframe tbody tr th {\n",
       "        vertical-align: top;\n",
       "    }\n",
       "\n",
       "    .dataframe thead th {\n",
       "        text-align: right;\n",
       "    }\n",
       "</style>\n",
       "<table border=\"1\" class=\"dataframe\">\n",
       "  <thead>\n",
       "    <tr style=\"text-align: right;\">\n",
       "      <th></th>\n",
       "      <th>\"Job Title\"</th>\n",
       "      <th>Company</th>\n",
       "      <th>Experience</th>\n",
       "      <th>Location</th>\n",
       "    </tr>\n",
       "  </thead>\n",
       "  <tbody>\n",
       "    <tr>\n",
       "      <th>0</th>\n",
       "      <td>Data Scientist II</td>\n",
       "      <td>Chegg</td>\n",
       "      <td>2-6 Yrs</td>\n",
       "      <td>Bangalore/Bengaluru</td>\n",
       "    </tr>\n",
       "    <tr>\n",
       "      <th>1</th>\n",
       "      <td>Opening For Data Scientist</td>\n",
       "      <td>Care Health Insurance</td>\n",
       "      <td>1-5 Yrs</td>\n",
       "      <td>Bangalore/Bengaluru</td>\n",
       "    </tr>\n",
       "    <tr>\n",
       "      <th>2</th>\n",
       "      <td>Data &amp; Applied Scientist</td>\n",
       "      <td>Microsoft</td>\n",
       "      <td>3-7 Yrs</td>\n",
       "      <td>Hyderabad/Secunderabad, Bangalore/Bengaluru, D...</td>\n",
       "    </tr>\n",
       "    <tr>\n",
       "      <th>3</th>\n",
       "      <td>Data and applied Scientist</td>\n",
       "      <td>Microsoft</td>\n",
       "      <td>3-7 Yrs</td>\n",
       "      <td>Bangalore/Bengaluru</td>\n",
       "    </tr>\n",
       "    <tr>\n",
       "      <th>4</th>\n",
       "      <td>Data Scientist</td>\n",
       "      <td>Stefanini</td>\n",
       "      <td>3-8 Yrs</td>\n",
       "      <td>Hyderabad/Secunderabad, Pune, Bangalore/Bengaluru</td>\n",
       "    </tr>\n",
       "    <tr>\n",
       "      <th>5</th>\n",
       "      <td>Data Scientist / Senior DS/ Team Lead</td>\n",
       "      <td>NebulARC Technologies Private Limited</td>\n",
       "      <td>0-4 Yrs</td>\n",
       "      <td>Bangalore/Bengaluru</td>\n",
       "    </tr>\n",
       "    <tr>\n",
       "      <th>6</th>\n",
       "      <td>Data Scientist Internship</td>\n",
       "      <td>iHackers Inc</td>\n",
       "      <td>0-1 Yrs</td>\n",
       "      <td>Bangalore/Bengaluru</td>\n",
       "    </tr>\n",
       "    <tr>\n",
       "      <th>7</th>\n",
       "      <td>Data Scientist</td>\n",
       "      <td>Cloudstrats Technologies Private Limited</td>\n",
       "      <td>3-5 Yrs</td>\n",
       "      <td>Bangalore/Bengaluru</td>\n",
       "    </tr>\n",
       "    <tr>\n",
       "      <th>8</th>\n",
       "      <td>Data Scientist (ML AI Engineer) / InfoObjects ...</td>\n",
       "      <td>INFOOBJECTS SOFTWARE ( INDIA) PRIVATE LIMITED</td>\n",
       "      <td>3-7 Yrs</td>\n",
       "      <td>Noida, Kota, Mumbai, Chandigarh, Lucknow, Agra...</td>\n",
       "    </tr>\n",
       "    <tr>\n",
       "      <th>9</th>\n",
       "      <td>Urgent Requirement || Data Scientist || Noida</td>\n",
       "      <td>HCL</td>\n",
       "      <td>3-8 Yrs</td>\n",
       "      <td>Kochi/Cochin, Kolkata, Pune, Gurgaon/Gurugram,...</td>\n",
       "    </tr>\n",
       "  </tbody>\n",
       "</table>\n",
       "</div>"
      ],
      "text/plain": [
       "                                         \"Job Title\"  \\\n",
       "0                                  Data Scientist II   \n",
       "1                         Opening For Data Scientist   \n",
       "2                           Data & Applied Scientist   \n",
       "3                         Data and applied Scientist   \n",
       "4                                     Data Scientist   \n",
       "5              Data Scientist / Senior DS/ Team Lead   \n",
       "6                          Data Scientist Internship   \n",
       "7                                     Data Scientist   \n",
       "8  Data Scientist (ML AI Engineer) / InfoObjects ...   \n",
       "9      Urgent Requirement || Data Scientist || Noida   \n",
       "\n",
       "                                         Company Experience  \\\n",
       "0                                          Chegg    2-6 Yrs   \n",
       "1                          Care Health Insurance    1-5 Yrs   \n",
       "2                                      Microsoft    3-7 Yrs   \n",
       "3                                      Microsoft    3-7 Yrs   \n",
       "4                                      Stefanini    3-8 Yrs   \n",
       "5          NebulARC Technologies Private Limited    0-4 Yrs   \n",
       "6                                   iHackers Inc    0-1 Yrs   \n",
       "7       Cloudstrats Technologies Private Limited    3-5 Yrs   \n",
       "8  INFOOBJECTS SOFTWARE ( INDIA) PRIVATE LIMITED    3-7 Yrs   \n",
       "9                                            HCL    3-8 Yrs   \n",
       "\n",
       "                                            Location  \n",
       "0                                Bangalore/Bengaluru  \n",
       "1                                Bangalore/Bengaluru  \n",
       "2  Hyderabad/Secunderabad, Bangalore/Bengaluru, D...  \n",
       "3                                Bangalore/Bengaluru  \n",
       "4  Hyderabad/Secunderabad, Pune, Bangalore/Bengaluru  \n",
       "5                                Bangalore/Bengaluru  \n",
       "6                                Bangalore/Bengaluru  \n",
       "7                                Bangalore/Bengaluru  \n",
       "8  Noida, Kota, Mumbai, Chandigarh, Lucknow, Agra...  \n",
       "9  Kochi/Cochin, Kolkata, Pune, Gurgaon/Gurugram,...  "
      ]
     },
     "execution_count": 185,
     "metadata": {},
     "output_type": "execute_result"
    }
   ],
   "source": [
    "df = pd.DataFrame({'\"Job Title\"': job_titles, 'Company': com_names, 'Experience': experience, 'Location': location })\n",
    "df.head(10)"
   ]
  },
  {
   "cell_type": "code",
   "execution_count": null,
   "id": "82bdbf72",
   "metadata": {},
   "outputs": [],
   "source": []
  },
  {
   "cell_type": "markdown",
   "id": "dbfc61c2",
   "metadata": {},
   "source": [
    "Q4: Scrape data of first 100 sunglasses listings on flipkart.com. You have to scrape four attributes:\n",
    "1. Brand\n",
    "2. Product Description\n",
    "3. Price\n",
    "The attributes which you have to scrape is ticked marked in the below image.\n",
    "To scrape the data you have to go through following steps:\n",
    "1. Go to Flipkart webpage by url : https://www.flipkart.com/\n",
    "2. Enter “sunglasses” in the search field where “search for products, brands andmore” is written and\n",
    "click the search icon\n",
    "3. After that you will reach to the page having a lot of sunglasses. From this pageyou can scrap the\n",
    "required data as usual.\n",
    "4. After scraping data from the first page, go to the “Next” Button at the bottom ofthe page , then\n",
    "click on it.\n",
    "5. Now scrape data from this page as usual\n",
    "6. Repeat this until you get data for 100 sunglasses"
   ]
  },
  {
   "cell_type": "code",
   "execution_count": 313,
   "id": "b3cfb4b0",
   "metadata": {},
   "outputs": [],
   "source": [
    "driver = webdriver.Chrome(r'C:\\Users\\DELL\\Downloads\\chromedriver_win32\\chromedriver.exe')\n",
    "url = 'https://www.flipkart.com/'\n",
    "driver.get(url)"
   ]
  },
  {
   "cell_type": "code",
   "execution_count": 314,
   "id": "240a7ae1",
   "metadata": {
    "scrolled": true
   },
   "outputs": [],
   "source": [
    "close_btn = driver.find_element_by_xpath('/html/body/div[2]/div/div/button')\n",
    "close_btn\n",
    "close_btn.click()"
   ]
  },
  {
   "cell_type": "code",
   "execution_count": 315,
   "id": "331c0d8f",
   "metadata": {
    "scrolled": true
   },
   "outputs": [
    {
     "data": {
      "text/plain": [
       "<selenium.webdriver.remote.webelement.WebElement (session=\"41450a16c9c40cda4b251895fc644fe1\", element=\"b5eb2095-faab-4ff8-ac2c-0761ea48ba37\")>"
      ]
     },
     "execution_count": 315,
     "metadata": {},
     "output_type": "execute_result"
    }
   ],
   "source": [
    "search = driver.find_element_by_xpath('/html/body/div[1]/div/div[1]/div[1]/div[2]/div[2]/form/div/div/input')\n",
    "search"
   ]
  },
  {
   "cell_type": "code",
   "execution_count": 316,
   "id": "aaa78061",
   "metadata": {},
   "outputs": [],
   "source": [
    "search.send_keys('sunglasses')"
   ]
  },
  {
   "cell_type": "code",
   "execution_count": 317,
   "id": "76deb8af",
   "metadata": {},
   "outputs": [],
   "source": [
    "srch_btn = driver.find_element_by_xpath('//button[@class=\"L0Z3Pu\"]')\n",
    "srch_btn\n",
    "srch_btn.click()"
   ]
  },
  {
   "cell_type": "markdown",
   "id": "1cc569bd",
   "metadata": {},
   "source": [
    "### Extacting brand, Product Description and Price "
   ]
  },
  {
   "cell_type": "code",
   "execution_count": 318,
   "id": "7393c75f",
   "metadata": {
    "collapsed": true
   },
   "outputs": [
    {
     "data": {
      "text/plain": [
       "['VINCENT CHASE',\n",
       " 'ROZZETTA CRAFT',\n",
       " 'Elligator',\n",
       " 'SHAAH COLLECTIONS',\n",
       " 'SUNBEE',\n",
       " 'SUNBEE',\n",
       " 'Fastrack',\n",
       " 'ROZZETTA CRAFT',\n",
       " 'SRPM',\n",
       " 'New Specs',\n",
       " 'kingsunglasses',\n",
       " 'VINCENT CHASE',\n",
       " 'Fastrack',\n",
       " 'PIRASO',\n",
       " 'PIRASO',\n",
       " 'ROZZETTA CRAFT',\n",
       " 'PHENOMENAL',\n",
       " 'Johaena',\n",
       " 'SHAAH COLLECTIONS',\n",
       " 'VINCENT CHASE',\n",
       " 'PHENOMENAL',\n",
       " 'PIRASO',\n",
       " 'Elligator',\n",
       " 'VINCENT CHASE',\n",
       " 'PHENOMENAL',\n",
       " 'SUNBEE',\n",
       " 'Fastrack',\n",
       " 'ROZZETTA CRAFT',\n",
       " 'PHENOMENAL',\n",
       " 'DEIXELS',\n",
       " 'ROZZETTA CRAFT',\n",
       " 'ROZZETTA CRAFT',\n",
       " 'kingsunglasses',\n",
       " 'maxa',\n",
       " 'Elligator',\n",
       " 'VINCENT CHASE',\n",
       " 'New Specs',\n",
       " 'GANSTA',\n",
       " 'kingsunglasses',\n",
       " 'VINCENT CHASE']"
      ]
     },
     "execution_count": 318,
     "metadata": {},
     "output_type": "execute_result"
    }
   ],
   "source": [
    "brand = driver.find_elements_by_xpath('//div[@class=\"_2WkVRV\"]')\n",
    "\n",
    "brand_name = []\n",
    "\n",
    "for i in brand:\n",
    "    brand_name.append(i.text)\n",
    "\n",
    "brand_name"
   ]
  },
  {
   "cell_type": "code",
   "execution_count": 319,
   "id": "26c7e077",
   "metadata": {
    "collapsed": true
   },
   "outputs": [
    {
     "data": {
      "text/plain": [
       "['by Lenskart Polarized, UV Protection Round Sunglasses (...',\n",
       " 'UV Protection Round Sunglasses (Free Size)',\n",
       " 'UV Protection Round Sunglasses (54)',\n",
       " 'UV Protection, Polarized, Mirrored Rectangular Sunglass...',\n",
       " 'UV Protection, Polarized Wayfarer Sunglasses (Free Size...',\n",
       " 'UV Protection, Polarized, Mirrored Round Sunglasses (Fr...',\n",
       " 'UV Protection Rectangular Sunglasses (Free Size)',\n",
       " 'UV Protection, Gradient Retro Square Sunglasses (62)',\n",
       " 'UV Protection Wayfarer Sunglasses (50)',\n",
       " 'UV Protection Rectangular Sunglasses (Free Size)',\n",
       " 'UV Protection Round Sunglasses (54)',\n",
       " 'by Lenskart Polarized, UV Protection Wayfarer Sunglasse...',\n",
       " 'Gradient, UV Protection Wayfarer Sunglasses (Free Size)',\n",
       " 'UV Protection Aviator Sunglasses (54)',\n",
       " 'UV Protection Aviator Sunglasses (54)',\n",
       " 'UV Protection, Gradient Rectangular Sunglasses (Free Si...',\n",
       " 'UV Protection, Mirrored Retro Square Sunglasses (53)',\n",
       " 'Riding Glasses, UV Protection Oval Sunglasses (48)',\n",
       " 'UV Protection, Polarized, Mirrored Rectangular Sunglass...',\n",
       " 'by Lenskart UV Protection Aviator Sunglasses (53)',\n",
       " 'UV Protection Retro Square Sunglasses (Free Size)',\n",
       " 'UV Protection Aviator Sunglasses (54)',\n",
       " 'UV Protection Round Sunglasses (53)',\n",
       " 'by Lenskart Polarized, UV Protection Wayfarer Sunglasse...',\n",
       " 'UV Protection, Mirrored Retro Square Sunglasses (53)',\n",
       " 'UV Protection, Polarized, Mirrored Retro Square Sunglas...',\n",
       " 'UV Protection Wayfarer Sunglasses (Free Size)',\n",
       " 'UV Protection Aviator Sunglasses (Free Size)',\n",
       " 'UV Protection Retro Square Sunglasses (53)',\n",
       " 'UV Protection Aviator, Wayfarer Sunglasses (Free Size)',\n",
       " 'Polarized, Night Vision, Riding Glasses Sports, Wrap-ar...',\n",
       " 'UV Protection, Riding Glasses Rectangular Sunglasses (F...',\n",
       " 'Mirrored, UV Protection Wayfarer Sunglasses (Free Size)',\n",
       " 'UV Protection, Riding Glasses Rectangular, Wayfarer, Ov...',\n",
       " 'UV Protection Round Sunglasses (54)',\n",
       " 'by Lenskart Polarized, UV Protection Wayfarer Sunglasse...',\n",
       " 'UV Protection Round Sunglasses (Free Size)',\n",
       " 'UV Protection Aviator Sunglasses (57)',\n",
       " 'UV Protection, Riding Glasses, Mirrored Wayfarer Sungla...',\n",
       " 'by Lenskart Polarized, UV Protection Wayfarer Sunglasse...']"
      ]
     },
     "execution_count": 319,
     "metadata": {},
     "output_type": "execute_result"
    }
   ],
   "source": [
    "description = driver.find_elements_by_xpath('//a[@class=\"IRpwTa\"]')\n",
    "\n",
    "pro_des = []\n",
    "\n",
    "for i in description:\n",
    "    pro_des.append(i.text)\n",
    "\n",
    "pro_des"
   ]
  },
  {
   "cell_type": "code",
   "execution_count": 320,
   "id": "6dad8f77",
   "metadata": {
    "collapsed": true
   },
   "outputs": [
    {
     "data": {
      "text/plain": [
       "['₹1,179',\n",
       " '₹426',\n",
       " '₹248',\n",
       " '₹165',\n",
       " '₹243',\n",
       " '₹271',\n",
       " '₹599',\n",
       " '₹499',\n",
       " '₹188',\n",
       " '₹234',\n",
       " '₹186',\n",
       " '₹1,179',\n",
       " '₹639',\n",
       " '₹229',\n",
       " '₹225',\n",
       " '₹330',\n",
       " '₹299',\n",
       " '₹146',\n",
       " '₹181',\n",
       " '₹849',\n",
       " '₹309',\n",
       " '₹225',\n",
       " '₹189',\n",
       " '₹1,415',\n",
       " '₹299',\n",
       " '₹235',\n",
       " '₹689',\n",
       " '₹616',\n",
       " '₹265',\n",
       " '₹202',\n",
       " '₹474',\n",
       " '₹449',\n",
       " '₹229',\n",
       " '₹144',\n",
       " '₹265',\n",
       " '₹849',\n",
       " '₹232',\n",
       " '₹269',\n",
       " '₹179',\n",
       " '₹679']"
      ]
     },
     "execution_count": 320,
     "metadata": {},
     "output_type": "execute_result"
    }
   ],
   "source": [
    "price = driver.find_elements_by_xpath('//div[@class=\"_30jeq3\"]')\n",
    "\n",
    "pro_price = []\n",
    "\n",
    "for i in price:\n",
    "    pro_price.append(i.text)\n",
    "\n",
    "pro_price"
   ]
  },
  {
   "cell_type": "code",
   "execution_count": 321,
   "id": "3483cfd7",
   "metadata": {},
   "outputs": [
    {
     "data": {
      "text/plain": [
       "(40, 40, 40)"
      ]
     },
     "execution_count": 321,
     "metadata": {},
     "output_type": "execute_result"
    }
   ],
   "source": [
    "len(brand_name), len(pro_des), len(pro_price)"
   ]
  },
  {
   "cell_type": "code",
   "execution_count": 322,
   "id": "7d439a3a",
   "metadata": {
    "collapsed": true
   },
   "outputs": [
    {
     "data": {
      "text/html": [
       "<div>\n",
       "<style scoped>\n",
       "    .dataframe tbody tr th:only-of-type {\n",
       "        vertical-align: middle;\n",
       "    }\n",
       "\n",
       "    .dataframe tbody tr th {\n",
       "        vertical-align: top;\n",
       "    }\n",
       "\n",
       "    .dataframe thead th {\n",
       "        text-align: right;\n",
       "    }\n",
       "</style>\n",
       "<table border=\"1\" class=\"dataframe\">\n",
       "  <thead>\n",
       "    <tr style=\"text-align: right;\">\n",
       "      <th></th>\n",
       "      <th>\"Brand\"</th>\n",
       "      <th>Description</th>\n",
       "      <th>Price</th>\n",
       "    </tr>\n",
       "  </thead>\n",
       "  <tbody>\n",
       "    <tr>\n",
       "      <th>0</th>\n",
       "      <td>VINCENT CHASE</td>\n",
       "      <td>by Lenskart Polarized, UV Protection Round Sun...</td>\n",
       "      <td>₹1,179</td>\n",
       "    </tr>\n",
       "    <tr>\n",
       "      <th>1</th>\n",
       "      <td>ROZZETTA CRAFT</td>\n",
       "      <td>UV Protection Round Sunglasses (Free Size)</td>\n",
       "      <td>₹426</td>\n",
       "    </tr>\n",
       "    <tr>\n",
       "      <th>2</th>\n",
       "      <td>Elligator</td>\n",
       "      <td>UV Protection Round Sunglasses (54)</td>\n",
       "      <td>₹248</td>\n",
       "    </tr>\n",
       "    <tr>\n",
       "      <th>3</th>\n",
       "      <td>SHAAH COLLECTIONS</td>\n",
       "      <td>UV Protection, Polarized, Mirrored Rectangular...</td>\n",
       "      <td>₹165</td>\n",
       "    </tr>\n",
       "    <tr>\n",
       "      <th>4</th>\n",
       "      <td>SUNBEE</td>\n",
       "      <td>UV Protection, Polarized Wayfarer Sunglasses (...</td>\n",
       "      <td>₹243</td>\n",
       "    </tr>\n",
       "    <tr>\n",
       "      <th>5</th>\n",
       "      <td>SUNBEE</td>\n",
       "      <td>UV Protection, Polarized, Mirrored Round Sungl...</td>\n",
       "      <td>₹271</td>\n",
       "    </tr>\n",
       "    <tr>\n",
       "      <th>6</th>\n",
       "      <td>Fastrack</td>\n",
       "      <td>UV Protection Rectangular Sunglasses (Free Size)</td>\n",
       "      <td>₹599</td>\n",
       "    </tr>\n",
       "    <tr>\n",
       "      <th>7</th>\n",
       "      <td>ROZZETTA CRAFT</td>\n",
       "      <td>UV Protection, Gradient Retro Square Sunglasse...</td>\n",
       "      <td>₹499</td>\n",
       "    </tr>\n",
       "    <tr>\n",
       "      <th>8</th>\n",
       "      <td>SRPM</td>\n",
       "      <td>UV Protection Wayfarer Sunglasses (50)</td>\n",
       "      <td>₹188</td>\n",
       "    </tr>\n",
       "    <tr>\n",
       "      <th>9</th>\n",
       "      <td>New Specs</td>\n",
       "      <td>UV Protection Rectangular Sunglasses (Free Size)</td>\n",
       "      <td>₹234</td>\n",
       "    </tr>\n",
       "    <tr>\n",
       "      <th>10</th>\n",
       "      <td>kingsunglasses</td>\n",
       "      <td>UV Protection Round Sunglasses (54)</td>\n",
       "      <td>₹186</td>\n",
       "    </tr>\n",
       "    <tr>\n",
       "      <th>11</th>\n",
       "      <td>VINCENT CHASE</td>\n",
       "      <td>by Lenskart Polarized, UV Protection Wayfarer ...</td>\n",
       "      <td>₹1,179</td>\n",
       "    </tr>\n",
       "    <tr>\n",
       "      <th>12</th>\n",
       "      <td>Fastrack</td>\n",
       "      <td>Gradient, UV Protection Wayfarer Sunglasses (F...</td>\n",
       "      <td>₹639</td>\n",
       "    </tr>\n",
       "    <tr>\n",
       "      <th>13</th>\n",
       "      <td>PIRASO</td>\n",
       "      <td>UV Protection Aviator Sunglasses (54)</td>\n",
       "      <td>₹229</td>\n",
       "    </tr>\n",
       "    <tr>\n",
       "      <th>14</th>\n",
       "      <td>PIRASO</td>\n",
       "      <td>UV Protection Aviator Sunglasses (54)</td>\n",
       "      <td>₹225</td>\n",
       "    </tr>\n",
       "    <tr>\n",
       "      <th>15</th>\n",
       "      <td>ROZZETTA CRAFT</td>\n",
       "      <td>UV Protection, Gradient Rectangular Sunglasses...</td>\n",
       "      <td>₹330</td>\n",
       "    </tr>\n",
       "    <tr>\n",
       "      <th>16</th>\n",
       "      <td>PHENOMENAL</td>\n",
       "      <td>UV Protection, Mirrored Retro Square Sunglasse...</td>\n",
       "      <td>₹299</td>\n",
       "    </tr>\n",
       "    <tr>\n",
       "      <th>17</th>\n",
       "      <td>Johaena</td>\n",
       "      <td>Riding Glasses, UV Protection Oval Sunglasses ...</td>\n",
       "      <td>₹146</td>\n",
       "    </tr>\n",
       "    <tr>\n",
       "      <th>18</th>\n",
       "      <td>SHAAH COLLECTIONS</td>\n",
       "      <td>UV Protection, Polarized, Mirrored Rectangular...</td>\n",
       "      <td>₹181</td>\n",
       "    </tr>\n",
       "    <tr>\n",
       "      <th>19</th>\n",
       "      <td>VINCENT CHASE</td>\n",
       "      <td>by Lenskart UV Protection Aviator Sunglasses (53)</td>\n",
       "      <td>₹849</td>\n",
       "    </tr>\n",
       "    <tr>\n",
       "      <th>20</th>\n",
       "      <td>PHENOMENAL</td>\n",
       "      <td>UV Protection Retro Square Sunglasses (Free Size)</td>\n",
       "      <td>₹309</td>\n",
       "    </tr>\n",
       "    <tr>\n",
       "      <th>21</th>\n",
       "      <td>PIRASO</td>\n",
       "      <td>UV Protection Aviator Sunglasses (54)</td>\n",
       "      <td>₹225</td>\n",
       "    </tr>\n",
       "    <tr>\n",
       "      <th>22</th>\n",
       "      <td>Elligator</td>\n",
       "      <td>UV Protection Round Sunglasses (53)</td>\n",
       "      <td>₹189</td>\n",
       "    </tr>\n",
       "    <tr>\n",
       "      <th>23</th>\n",
       "      <td>VINCENT CHASE</td>\n",
       "      <td>by Lenskart Polarized, UV Protection Wayfarer ...</td>\n",
       "      <td>₹1,415</td>\n",
       "    </tr>\n",
       "    <tr>\n",
       "      <th>24</th>\n",
       "      <td>PHENOMENAL</td>\n",
       "      <td>UV Protection, Mirrored Retro Square Sunglasse...</td>\n",
       "      <td>₹299</td>\n",
       "    </tr>\n",
       "    <tr>\n",
       "      <th>25</th>\n",
       "      <td>SUNBEE</td>\n",
       "      <td>UV Protection, Polarized, Mirrored Retro Squar...</td>\n",
       "      <td>₹235</td>\n",
       "    </tr>\n",
       "    <tr>\n",
       "      <th>26</th>\n",
       "      <td>Fastrack</td>\n",
       "      <td>UV Protection Wayfarer Sunglasses (Free Size)</td>\n",
       "      <td>₹689</td>\n",
       "    </tr>\n",
       "    <tr>\n",
       "      <th>27</th>\n",
       "      <td>ROZZETTA CRAFT</td>\n",
       "      <td>UV Protection Aviator Sunglasses (Free Size)</td>\n",
       "      <td>₹616</td>\n",
       "    </tr>\n",
       "    <tr>\n",
       "      <th>28</th>\n",
       "      <td>PHENOMENAL</td>\n",
       "      <td>UV Protection Retro Square Sunglasses (53)</td>\n",
       "      <td>₹265</td>\n",
       "    </tr>\n",
       "    <tr>\n",
       "      <th>29</th>\n",
       "      <td>DEIXELS</td>\n",
       "      <td>UV Protection Aviator, Wayfarer Sunglasses (Fr...</td>\n",
       "      <td>₹202</td>\n",
       "    </tr>\n",
       "    <tr>\n",
       "      <th>30</th>\n",
       "      <td>ROZZETTA CRAFT</td>\n",
       "      <td>Polarized, Night Vision, Riding Glasses Sports...</td>\n",
       "      <td>₹474</td>\n",
       "    </tr>\n",
       "    <tr>\n",
       "      <th>31</th>\n",
       "      <td>ROZZETTA CRAFT</td>\n",
       "      <td>UV Protection, Riding Glasses Rectangular Sung...</td>\n",
       "      <td>₹449</td>\n",
       "    </tr>\n",
       "    <tr>\n",
       "      <th>32</th>\n",
       "      <td>kingsunglasses</td>\n",
       "      <td>Mirrored, UV Protection Wayfarer Sunglasses (F...</td>\n",
       "      <td>₹229</td>\n",
       "    </tr>\n",
       "    <tr>\n",
       "      <th>33</th>\n",
       "      <td>maxa</td>\n",
       "      <td>UV Protection, Riding Glasses Rectangular, Way...</td>\n",
       "      <td>₹144</td>\n",
       "    </tr>\n",
       "    <tr>\n",
       "      <th>34</th>\n",
       "      <td>Elligator</td>\n",
       "      <td>UV Protection Round Sunglasses (54)</td>\n",
       "      <td>₹265</td>\n",
       "    </tr>\n",
       "    <tr>\n",
       "      <th>35</th>\n",
       "      <td>VINCENT CHASE</td>\n",
       "      <td>by Lenskart Polarized, UV Protection Wayfarer ...</td>\n",
       "      <td>₹849</td>\n",
       "    </tr>\n",
       "    <tr>\n",
       "      <th>36</th>\n",
       "      <td>New Specs</td>\n",
       "      <td>UV Protection Round Sunglasses (Free Size)</td>\n",
       "      <td>₹232</td>\n",
       "    </tr>\n",
       "    <tr>\n",
       "      <th>37</th>\n",
       "      <td>GANSTA</td>\n",
       "      <td>UV Protection Aviator Sunglasses (57)</td>\n",
       "      <td>₹269</td>\n",
       "    </tr>\n",
       "    <tr>\n",
       "      <th>38</th>\n",
       "      <td>kingsunglasses</td>\n",
       "      <td>UV Protection, Riding Glasses, Mirrored Wayfar...</td>\n",
       "      <td>₹179</td>\n",
       "    </tr>\n",
       "    <tr>\n",
       "      <th>39</th>\n",
       "      <td>VINCENT CHASE</td>\n",
       "      <td>by Lenskart Polarized, UV Protection Wayfarer ...</td>\n",
       "      <td>₹679</td>\n",
       "    </tr>\n",
       "  </tbody>\n",
       "</table>\n",
       "</div>"
      ],
      "text/plain": [
       "              \"Brand\"                                        Description  \\\n",
       "0       VINCENT CHASE  by Lenskart Polarized, UV Protection Round Sun...   \n",
       "1      ROZZETTA CRAFT         UV Protection Round Sunglasses (Free Size)   \n",
       "2           Elligator                UV Protection Round Sunglasses (54)   \n",
       "3   SHAAH COLLECTIONS  UV Protection, Polarized, Mirrored Rectangular...   \n",
       "4              SUNBEE  UV Protection, Polarized Wayfarer Sunglasses (...   \n",
       "5              SUNBEE  UV Protection, Polarized, Mirrored Round Sungl...   \n",
       "6            Fastrack   UV Protection Rectangular Sunglasses (Free Size)   \n",
       "7      ROZZETTA CRAFT  UV Protection, Gradient Retro Square Sunglasse...   \n",
       "8                SRPM             UV Protection Wayfarer Sunglasses (50)   \n",
       "9           New Specs   UV Protection Rectangular Sunglasses (Free Size)   \n",
       "10     kingsunglasses                UV Protection Round Sunglasses (54)   \n",
       "11      VINCENT CHASE  by Lenskart Polarized, UV Protection Wayfarer ...   \n",
       "12           Fastrack  Gradient, UV Protection Wayfarer Sunglasses (F...   \n",
       "13             PIRASO              UV Protection Aviator Sunglasses (54)   \n",
       "14             PIRASO              UV Protection Aviator Sunglasses (54)   \n",
       "15     ROZZETTA CRAFT  UV Protection, Gradient Rectangular Sunglasses...   \n",
       "16         PHENOMENAL  UV Protection, Mirrored Retro Square Sunglasse...   \n",
       "17            Johaena  Riding Glasses, UV Protection Oval Sunglasses ...   \n",
       "18  SHAAH COLLECTIONS  UV Protection, Polarized, Mirrored Rectangular...   \n",
       "19      VINCENT CHASE  by Lenskart UV Protection Aviator Sunglasses (53)   \n",
       "20         PHENOMENAL  UV Protection Retro Square Sunglasses (Free Size)   \n",
       "21             PIRASO              UV Protection Aviator Sunglasses (54)   \n",
       "22          Elligator                UV Protection Round Sunglasses (53)   \n",
       "23      VINCENT CHASE  by Lenskart Polarized, UV Protection Wayfarer ...   \n",
       "24         PHENOMENAL  UV Protection, Mirrored Retro Square Sunglasse...   \n",
       "25             SUNBEE  UV Protection, Polarized, Mirrored Retro Squar...   \n",
       "26           Fastrack      UV Protection Wayfarer Sunglasses (Free Size)   \n",
       "27     ROZZETTA CRAFT       UV Protection Aviator Sunglasses (Free Size)   \n",
       "28         PHENOMENAL         UV Protection Retro Square Sunglasses (53)   \n",
       "29            DEIXELS  UV Protection Aviator, Wayfarer Sunglasses (Fr...   \n",
       "30     ROZZETTA CRAFT  Polarized, Night Vision, Riding Glasses Sports...   \n",
       "31     ROZZETTA CRAFT  UV Protection, Riding Glasses Rectangular Sung...   \n",
       "32     kingsunglasses  Mirrored, UV Protection Wayfarer Sunglasses (F...   \n",
       "33               maxa  UV Protection, Riding Glasses Rectangular, Way...   \n",
       "34          Elligator                UV Protection Round Sunglasses (54)   \n",
       "35      VINCENT CHASE  by Lenskart Polarized, UV Protection Wayfarer ...   \n",
       "36          New Specs         UV Protection Round Sunglasses (Free Size)   \n",
       "37             GANSTA              UV Protection Aviator Sunglasses (57)   \n",
       "38     kingsunglasses  UV Protection, Riding Glasses, Mirrored Wayfar...   \n",
       "39      VINCENT CHASE  by Lenskart Polarized, UV Protection Wayfarer ...   \n",
       "\n",
       "     Price  \n",
       "0   ₹1,179  \n",
       "1     ₹426  \n",
       "2     ₹248  \n",
       "3     ₹165  \n",
       "4     ₹243  \n",
       "5     ₹271  \n",
       "6     ₹599  \n",
       "7     ₹499  \n",
       "8     ₹188  \n",
       "9     ₹234  \n",
       "10    ₹186  \n",
       "11  ₹1,179  \n",
       "12    ₹639  \n",
       "13    ₹229  \n",
       "14    ₹225  \n",
       "15    ₹330  \n",
       "16    ₹299  \n",
       "17    ₹146  \n",
       "18    ₹181  \n",
       "19    ₹849  \n",
       "20    ₹309  \n",
       "21    ₹225  \n",
       "22    ₹189  \n",
       "23  ₹1,415  \n",
       "24    ₹299  \n",
       "25    ₹235  \n",
       "26    ₹689  \n",
       "27    ₹616  \n",
       "28    ₹265  \n",
       "29    ₹202  \n",
       "30    ₹474  \n",
       "31    ₹449  \n",
       "32    ₹229  \n",
       "33    ₹144  \n",
       "34    ₹265  \n",
       "35    ₹849  \n",
       "36    ₹232  \n",
       "37    ₹269  \n",
       "38    ₹179  \n",
       "39    ₹679  "
      ]
     },
     "execution_count": 322,
     "metadata": {},
     "output_type": "execute_result"
    }
   ],
   "source": [
    "df = pd.DataFrame({'\"Brand\"': brand_name, 'Description': pro_des, 'Price': pro_price})\n",
    "df"
   ]
  },
  {
   "cell_type": "code",
   "execution_count": 323,
   "id": "4283a685",
   "metadata": {},
   "outputs": [],
   "source": [
    "next_btn = driver.find_element_by_xpath('/html/body/div[1]/div/div[3]/div[1]/div[2]/div[12]/div/div/nav/a[11]/span')\n",
    "next_btn\n",
    "next_btn.click()"
   ]
  },
  {
   "cell_type": "code",
   "execution_count": 324,
   "id": "accb5b53",
   "metadata": {
    "collapsed": true
   },
   "outputs": [
    {
     "data": {
      "text/plain": [
       "['PIRASO',\n",
       " 'ROZZETTA CRAFT',\n",
       " 'Lee Topper',\n",
       " 'VINCENT CHASE',\n",
       " 'kingsunglasses',\n",
       " 'Fastrack',\n",
       " 'Rich Club',\n",
       " 'VILLAIN',\n",
       " 'kingsunglasses',\n",
       " 'Singco India',\n",
       " 'New Specs',\n",
       " 'Kanishka',\n",
       " 'PIRASO',\n",
       " 'Elligator',\n",
       " 'Fastrack',\n",
       " 'VINCENT CHASE',\n",
       " 'Lee Topper',\n",
       " 'kingsunglasses',\n",
       " 'New Specs',\n",
       " 'VINCENT CHASE',\n",
       " 'agera',\n",
       " 'Johaena',\n",
       " 'ROYAL SON',\n",
       " 'VINCENT CHASE',\n",
       " 'ROYAL SON',\n",
       " 'hipe',\n",
       " 'Silver Kartz',\n",
       " 'VINCENT CHASE',\n",
       " 'Elligator',\n",
       " 'kingsunglasses',\n",
       " 'Singco India',\n",
       " 'ROZZETTA CRAFT',\n",
       " 'Fastrack',\n",
       " 'kingsunglasses',\n",
       " 'SRPM',\n",
       " 'Singco India',\n",
       " 'Fastrack',\n",
       " 'Rich Club',\n",
       " 'ROZZETTA CRAFT',\n",
       " 'VINCENT CHASE']"
      ]
     },
     "execution_count": 324,
     "metadata": {},
     "output_type": "execute_result"
    }
   ],
   "source": [
    "brand = driver.find_elements_by_xpath('//div[@class=\"_2WkVRV\"]')\n",
    "\n",
    "brand_name = []\n",
    "\n",
    "for i in brand:\n",
    "    brand_name.append(i.text)\n",
    "\n",
    "brand_name"
   ]
  },
  {
   "cell_type": "code",
   "execution_count": 325,
   "id": "cad3fd6f",
   "metadata": {
    "collapsed": true
   },
   "outputs": [
    {
     "data": {
      "text/plain": [
       "['UV Protection Wayfarer Sunglasses (32)',\n",
       " 'UV Protection, Gradient Rectangular Sunglasses (Free Si...',\n",
       " 'UV Protection Rectangular Sunglasses (Free Size)',\n",
       " 'by Lenskart Polarized, UV Protection Wayfarer Sunglasse...',\n",
       " 'UV Protection Rectangular Sunglasses (Free Size)',\n",
       " 'UV Protection Wayfarer Sunglasses (55)',\n",
       " 'Polarized Round Sunglasses (48)',\n",
       " 'UV Protection Round Sunglasses (Free Size)',\n",
       " 'UV Protection, Riding Glasses, Others Aviator, Wayfarer...',\n",
       " 'Mirrored, UV Protection, Riding Glasses, Others Round S...',\n",
       " 'UV Protection Retro Square, Rectangular, Shield Sunglas...',\n",
       " 'UV Protection Aviator Sunglasses (Free Size)',\n",
       " 'UV Protection, Gradient Aviator Sunglasses (50)',\n",
       " 'UV Protection Wayfarer Sunglasses (Free Size)',\n",
       " 'by Lenskart UV Protection Wayfarer Sunglasses (49)',\n",
       " 'Riding Glasses, Night Vision Wrap-around Sunglasses (Fr...',\n",
       " 'UV Protection Round Sunglasses (Free Size)',\n",
       " 'UV Protection Rectangular Sunglasses (Free Size)',\n",
       " 'by Lenskart Polarized, UV Protection Rectangular Sungla...',\n",
       " 'Gradient Aviator Sunglasses (55)',\n",
       " 'Riding Glasses, UV Protection Oval Sunglasses (52)',\n",
       " 'UV Protection Rectangular Sunglasses (58)',\n",
       " 'by Lenskart Polarized, UV Protection Round Sunglasses (...',\n",
       " 'Mirrored Aviator Sunglasses (55)',\n",
       " 'Mirrored, UV Protection, Gradient Round Sunglasses (55)',\n",
       " 'UV Protection Aviator Sunglasses (88)',\n",
       " 'by Lenskart Polarized, UV Protection Round Sunglasses (...',\n",
       " 'UV Protection Round Sunglasses (50)',\n",
       " 'UV Protection, Others Round, Aviator Sunglasses (54)',\n",
       " 'Gradient, Toughened Glass Lens, UV Protection Retro Squ...',\n",
       " 'UV Protection Round Sunglasses (Free Size)',\n",
       " 'UV Protection Shield Sunglasses (Free Size)',\n",
       " 'Mirrored, UV Protection Aviator Sunglasses (56)',\n",
       " 'UV Protection Wayfarer Sunglasses (53)',\n",
       " 'UV Protection, Riding Glasses, Others Wayfarer, Retro S...',\n",
       " 'UV Protection Wayfarer Sunglasses (Free Size)',\n",
       " 'UV Protection Round Sunglasses (48)',\n",
       " 'UV Protection, Gradient Round Sunglasses (Free Size)',\n",
       " 'by Lenskart Polarized, UV Protection Wayfarer Sunglasse...']"
      ]
     },
     "execution_count": 325,
     "metadata": {},
     "output_type": "execute_result"
    }
   ],
   "source": [
    "description = driver.find_elements_by_xpath('//a[@class=\"IRpwTa\"]')\n",
    "\n",
    "pro_des = []\n",
    "\n",
    "for i in description:\n",
    "    pro_des.append(i.text)\n",
    "\n",
    "pro_des"
   ]
  },
  {
   "cell_type": "code",
   "execution_count": 326,
   "id": "541fac31",
   "metadata": {
    "collapsed": true
   },
   "outputs": [
    {
     "data": {
      "text/plain": [
       "['₹225',\n",
       " '₹383',\n",
       " '₹199',\n",
       " '₹1,303',\n",
       " '₹180',\n",
       " '₹494',\n",
       " '₹165',\n",
       " '₹1,099',\n",
       " '₹276',\n",
       " '₹203',\n",
       " '₹259',\n",
       " '₹150',\n",
       " '₹299',\n",
       " '₹263',\n",
       " '₹692',\n",
       " '₹1,179',\n",
       " '₹276',\n",
       " '₹170',\n",
       " '₹156',\n",
       " '₹679',\n",
       " '₹196',\n",
       " '₹156',\n",
       " '₹449',\n",
       " '₹1,415',\n",
       " '₹359',\n",
       " '₹189',\n",
       " '₹255',\n",
       " '₹1,415',\n",
       " '₹230',\n",
       " '₹174',\n",
       " '₹664',\n",
       " '₹426',\n",
       " '₹719',\n",
       " '₹209',\n",
       " '₹207',\n",
       " '₹299',\n",
       " '₹599',\n",
       " '₹220',\n",
       " '₹342',\n",
       " '₹1,415']"
      ]
     },
     "execution_count": 326,
     "metadata": {},
     "output_type": "execute_result"
    }
   ],
   "source": [
    "price = driver.find_elements_by_xpath('//div[@class=\"_30jeq3\"]')\n",
    "\n",
    "pro_price = []\n",
    "\n",
    "for i in price:\n",
    "    pro_price.append(i.text)\n",
    "\n",
    "pro_price"
   ]
  },
  {
   "cell_type": "code",
   "execution_count": 329,
   "id": "2c8cc338",
   "metadata": {
    "scrolled": true
   },
   "outputs": [
    {
     "data": {
      "text/plain": [
       "(40, 39, 40)"
      ]
     },
     "execution_count": 329,
     "metadata": {},
     "output_type": "execute_result"
    }
   ],
   "source": [
    "len(brand_name), len(pro_des), len(pro_price)"
   ]
  },
  {
   "cell_type": "code",
   "execution_count": 377,
   "id": "b25a3ab8",
   "metadata": {
    "collapsed": true
   },
   "outputs": [
    {
     "data": {
      "text/html": [
       "<div>\n",
       "<style scoped>\n",
       "    .dataframe tbody tr th:only-of-type {\n",
       "        vertical-align: middle;\n",
       "    }\n",
       "\n",
       "    .dataframe tbody tr th {\n",
       "        vertical-align: top;\n",
       "    }\n",
       "\n",
       "    .dataframe thead th {\n",
       "        text-align: right;\n",
       "    }\n",
       "</style>\n",
       "<table border=\"1\" class=\"dataframe\">\n",
       "  <thead>\n",
       "    <tr style=\"text-align: right;\">\n",
       "      <th></th>\n",
       "      <th>\"Brand\"</th>\n",
       "      <th>Price</th>\n",
       "    </tr>\n",
       "  </thead>\n",
       "  <tbody>\n",
       "    <tr>\n",
       "      <th>0</th>\n",
       "      <td>RapidBox</td>\n",
       "      <td>₹630</td>\n",
       "    </tr>\n",
       "    <tr>\n",
       "      <th>1</th>\n",
       "      <td>FLYING MACHINE</td>\n",
       "      <td>₹1,499</td>\n",
       "    </tr>\n",
       "    <tr>\n",
       "      <th>2</th>\n",
       "      <td>BRUTON</td>\n",
       "      <td>₹599</td>\n",
       "    </tr>\n",
       "    <tr>\n",
       "      <th>3</th>\n",
       "      <td>Chevit</td>\n",
       "      <td>₹649</td>\n",
       "    </tr>\n",
       "    <tr>\n",
       "      <th>4</th>\n",
       "      <td>BRUTON</td>\n",
       "      <td>₹189</td>\n",
       "    </tr>\n",
       "    <tr>\n",
       "      <th>5</th>\n",
       "      <td>World Wear Footwear</td>\n",
       "      <td>₹199</td>\n",
       "    </tr>\n",
       "    <tr>\n",
       "      <th>6</th>\n",
       "      <td>BRUTON</td>\n",
       "      <td>₹259</td>\n",
       "    </tr>\n",
       "    <tr>\n",
       "      <th>7</th>\n",
       "      <td>Roadster</td>\n",
       "      <td>₹1,399</td>\n",
       "    </tr>\n",
       "    <tr>\n",
       "      <th>8</th>\n",
       "      <td>CLYMB</td>\n",
       "      <td>₹249</td>\n",
       "    </tr>\n",
       "    <tr>\n",
       "      <th>9</th>\n",
       "      <td>Labbin</td>\n",
       "      <td>₹474</td>\n",
       "    </tr>\n",
       "    <tr>\n",
       "      <th>10</th>\n",
       "      <td>SCATCHITE</td>\n",
       "      <td>₹377</td>\n",
       "    </tr>\n",
       "    <tr>\n",
       "      <th>11</th>\n",
       "      <td>HRX by Hrithik Roshan</td>\n",
       "      <td>₹2,499</td>\n",
       "    </tr>\n",
       "    <tr>\n",
       "      <th>12</th>\n",
       "      <td>CLYMB</td>\n",
       "      <td>₹259</td>\n",
       "    </tr>\n",
       "    <tr>\n",
       "      <th>13</th>\n",
       "      <td>Chevit</td>\n",
       "      <td>₹489</td>\n",
       "    </tr>\n",
       "    <tr>\n",
       "      <th>14</th>\n",
       "      <td>BRUTON</td>\n",
       "      <td>₹449</td>\n",
       "    </tr>\n",
       "    <tr>\n",
       "      <th>15</th>\n",
       "      <td>PACIFIKOT</td>\n",
       "      <td>₹399</td>\n",
       "    </tr>\n",
       "    <tr>\n",
       "      <th>16</th>\n",
       "      <td>BIRDE</td>\n",
       "      <td>₹299</td>\n",
       "    </tr>\n",
       "    <tr>\n",
       "      <th>17</th>\n",
       "      <td>ASTEROID</td>\n",
       "      <td>₹474</td>\n",
       "    </tr>\n",
       "    <tr>\n",
       "      <th>18</th>\n",
       "      <td>DRESTA</td>\n",
       "      <td>₹448</td>\n",
       "    </tr>\n",
       "    <tr>\n",
       "      <th>19</th>\n",
       "      <td>sixXplus</td>\n",
       "      <td>₹599</td>\n",
       "    </tr>\n",
       "    <tr>\n",
       "      <th>20</th>\n",
       "      <td>Shoes Bank</td>\n",
       "      <td>₹345</td>\n",
       "    </tr>\n",
       "    <tr>\n",
       "      <th>21</th>\n",
       "      <td>Numenzo</td>\n",
       "      <td>₹426</td>\n",
       "    </tr>\n",
       "    <tr>\n",
       "      <th>22</th>\n",
       "      <td>PUMA</td>\n",
       "      <td>₹3,849</td>\n",
       "    </tr>\n",
       "    <tr>\n",
       "      <th>23</th>\n",
       "      <td>RapidBox</td>\n",
       "      <td>₹640</td>\n",
       "    </tr>\n",
       "    <tr>\n",
       "      <th>24</th>\n",
       "      <td>World Wear Footwear</td>\n",
       "      <td>₹259</td>\n",
       "    </tr>\n",
       "    <tr>\n",
       "      <th>25</th>\n",
       "      <td>Noztile</td>\n",
       "      <td>₹429</td>\n",
       "    </tr>\n",
       "    <tr>\n",
       "      <th>26</th>\n",
       "      <td>luxury fashion</td>\n",
       "      <td>₹429</td>\n",
       "    </tr>\n",
       "    <tr>\n",
       "      <th>27</th>\n",
       "      <td>HRX by Hrithik Roshan</td>\n",
       "      <td>₹2,299</td>\n",
       "    </tr>\n",
       "    <tr>\n",
       "      <th>28</th>\n",
       "      <td>BRUTON</td>\n",
       "      <td>₹499</td>\n",
       "    </tr>\n",
       "    <tr>\n",
       "      <th>29</th>\n",
       "      <td>RapidBox</td>\n",
       "      <td>₹680</td>\n",
       "    </tr>\n",
       "    <tr>\n",
       "      <th>30</th>\n",
       "      <td>Xtoon</td>\n",
       "      <td>₹499</td>\n",
       "    </tr>\n",
       "    <tr>\n",
       "      <th>31</th>\n",
       "      <td>FLYING MACHINE</td>\n",
       "      <td>₹2,248</td>\n",
       "    </tr>\n",
       "    <tr>\n",
       "      <th>32</th>\n",
       "      <td>URBANBOX</td>\n",
       "      <td>₹247</td>\n",
       "    </tr>\n",
       "    <tr>\n",
       "      <th>33</th>\n",
       "      <td>BRUTON</td>\n",
       "      <td>₹259</td>\n",
       "    </tr>\n",
       "    <tr>\n",
       "      <th>34</th>\n",
       "      <td>Kraasa</td>\n",
       "      <td>₹499</td>\n",
       "    </tr>\n",
       "    <tr>\n",
       "      <th>35</th>\n",
       "      <td>bluemaker</td>\n",
       "      <td>₹499</td>\n",
       "    </tr>\n",
       "    <tr>\n",
       "      <th>36</th>\n",
       "      <td>Rzisbo</td>\n",
       "      <td>₹549</td>\n",
       "    </tr>\n",
       "    <tr>\n",
       "      <th>37</th>\n",
       "      <td>Kraasa</td>\n",
       "      <td>₹499</td>\n",
       "    </tr>\n",
       "    <tr>\n",
       "      <th>38</th>\n",
       "      <td>aadi</td>\n",
       "      <td>₹399</td>\n",
       "    </tr>\n",
       "    <tr>\n",
       "      <th>39</th>\n",
       "      <td>HRX by Hrithik Roshan</td>\n",
       "      <td>₹2,699</td>\n",
       "    </tr>\n",
       "  </tbody>\n",
       "</table>\n",
       "</div>"
      ],
      "text/plain": [
       "                  \"Brand\"   Price\n",
       "0                RapidBox    ₹630\n",
       "1          FLYING MACHINE  ₹1,499\n",
       "2                  BRUTON    ₹599\n",
       "3                  Chevit    ₹649\n",
       "4                  BRUTON    ₹189\n",
       "5     World Wear Footwear    ₹199\n",
       "6                  BRUTON    ₹259\n",
       "7                Roadster  ₹1,399\n",
       "8                   CLYMB    ₹249\n",
       "9                  Labbin    ₹474\n",
       "10              SCATCHITE    ₹377\n",
       "11  HRX by Hrithik Roshan  ₹2,499\n",
       "12                  CLYMB    ₹259\n",
       "13                 Chevit    ₹489\n",
       "14                 BRUTON    ₹449\n",
       "15              PACIFIKOT    ₹399\n",
       "16                  BIRDE    ₹299\n",
       "17               ASTEROID    ₹474\n",
       "18                 DRESTA    ₹448\n",
       "19               sixXplus    ₹599\n",
       "20             Shoes Bank    ₹345\n",
       "21                Numenzo    ₹426\n",
       "22                   PUMA  ₹3,849\n",
       "23               RapidBox    ₹640\n",
       "24    World Wear Footwear    ₹259\n",
       "25                Noztile    ₹429\n",
       "26         luxury fashion    ₹429\n",
       "27  HRX by Hrithik Roshan  ₹2,299\n",
       "28                 BRUTON    ₹499\n",
       "29               RapidBox    ₹680\n",
       "30                  Xtoon    ₹499\n",
       "31         FLYING MACHINE  ₹2,248\n",
       "32               URBANBOX    ₹247\n",
       "33                 BRUTON    ₹259\n",
       "34                 Kraasa    ₹499\n",
       "35              bluemaker    ₹499\n",
       "36                 Rzisbo    ₹549\n",
       "37                 Kraasa    ₹499\n",
       "38                   aadi    ₹399\n",
       "39  HRX by Hrithik Roshan  ₹2,699"
      ]
     },
     "execution_count": 377,
     "metadata": {},
     "output_type": "execute_result"
    }
   ],
   "source": [
    "df = pd.DataFrame({'\"Brand\"': brand_name, 'Price': pro_price})\n",
    "df"
   ]
  },
  {
   "cell_type": "code",
   "execution_count": 330,
   "id": "ec9ee667",
   "metadata": {
    "collapsed": true
   },
   "outputs": [
    {
     "ename": "NoSuchElementException",
     "evalue": "Message: no such element: Unable to locate element: {\"method\":\"xpath\",\"selector\":\"/html/body/div[1]/div/div[3]/div[1]/div[2]/div[12]/div/div/nav/a[11]/span\"}\n  (Session info: chrome=98.0.4758.82)\nStacktrace:\nBacktrace:\n\tOrdinal0 [0x01017AC3+2587331]\n\tOrdinal0 [0x00FAADD1+2141649]\n\tOrdinal0 [0x00EA3BB8+1063864]\n\tOrdinal0 [0x00ED01CE+1245646]\n\tOrdinal0 [0x00ED03CB+1246155]\n\tOrdinal0 [0x00EFA612+1418770]\n\tOrdinal0 [0x00EE86D4+1345236]\n\tOrdinal0 [0x00EF8A0A+1411594]\n\tOrdinal0 [0x00EE84A6+1344678]\n\tOrdinal0 [0x00EC53F6+1201142]\n\tOrdinal0 [0x00EC62E6+1204966]\n\tGetHandleVerifier [0x011BDF22+1680738]\n\tGetHandleVerifier [0x01270DBC+2413564]\n\tGetHandleVerifier [0x010AD151+563089]\n\tGetHandleVerifier [0x010ABF13+558419]\n\tOrdinal0 [0x00FB081E+2164766]\n\tOrdinal0 [0x00FB5508+2184456]\n\tOrdinal0 [0x00FB5650+2184784]\n\tOrdinal0 [0x00FBF5BC+2225596]\n\tBaseThreadInitThunk [0x7719FA29+25]\n\tRtlGetAppContainerNamedObjectPath [0x775D7A9E+286]\n\tRtlGetAppContainerNamedObjectPath [0x775D7A6E+238]\n",
     "output_type": "error",
     "traceback": [
      "\u001b[1;31m---------------------------------------------------------------------------\u001b[0m",
      "\u001b[1;31mNoSuchElementException\u001b[0m                    Traceback (most recent call last)",
      "\u001b[1;32m<ipython-input-330-f2d670abaea9>\u001b[0m in \u001b[0;36m<module>\u001b[1;34m\u001b[0m\n\u001b[1;32m----> 1\u001b[1;33m \u001b[0mnext_btn\u001b[0m \u001b[1;33m=\u001b[0m \u001b[0mdriver\u001b[0m\u001b[1;33m.\u001b[0m\u001b[0mfind_element_by_xpath\u001b[0m\u001b[1;33m(\u001b[0m\u001b[1;34m'/html/body/div[1]/div/div[3]/div[1]/div[2]/div[12]/div/div/nav/a[11]/span'\u001b[0m\u001b[1;33m)\u001b[0m\u001b[1;33m\u001b[0m\u001b[1;33m\u001b[0m\u001b[0m\n\u001b[0m\u001b[0;32m      2\u001b[0m \u001b[0mnext_btn\u001b[0m\u001b[1;33m\u001b[0m\u001b[1;33m\u001b[0m\u001b[0m\n\u001b[0;32m      3\u001b[0m \u001b[0mnext_btn\u001b[0m\u001b[1;33m.\u001b[0m\u001b[0mclick\u001b[0m\u001b[1;33m(\u001b[0m\u001b[1;33m)\u001b[0m\u001b[1;33m\u001b[0m\u001b[1;33m\u001b[0m\u001b[0m\n",
      "\u001b[1;32m~\\anaconda3\\lib\\site-packages\\selenium\\webdriver\\remote\\webdriver.py\u001b[0m in \u001b[0;36mfind_element_by_xpath\u001b[1;34m(self, xpath)\u001b[0m\n\u001b[0;32m    518\u001b[0m             \u001b[0mstacklevel\u001b[0m\u001b[1;33m=\u001b[0m\u001b[1;36m2\u001b[0m\u001b[1;33m,\u001b[0m\u001b[1;33m\u001b[0m\u001b[1;33m\u001b[0m\u001b[0m\n\u001b[0;32m    519\u001b[0m         )\n\u001b[1;32m--> 520\u001b[1;33m         \u001b[1;32mreturn\u001b[0m \u001b[0mself\u001b[0m\u001b[1;33m.\u001b[0m\u001b[0mfind_element\u001b[0m\u001b[1;33m(\u001b[0m\u001b[0mby\u001b[0m\u001b[1;33m=\u001b[0m\u001b[0mBy\u001b[0m\u001b[1;33m.\u001b[0m\u001b[0mXPATH\u001b[0m\u001b[1;33m,\u001b[0m \u001b[0mvalue\u001b[0m\u001b[1;33m=\u001b[0m\u001b[0mxpath\u001b[0m\u001b[1;33m)\u001b[0m\u001b[1;33m\u001b[0m\u001b[1;33m\u001b[0m\u001b[0m\n\u001b[0m\u001b[0;32m    521\u001b[0m \u001b[1;33m\u001b[0m\u001b[0m\n\u001b[0;32m    522\u001b[0m     \u001b[1;32mdef\u001b[0m \u001b[0mfind_elements_by_xpath\u001b[0m\u001b[1;33m(\u001b[0m\u001b[0mself\u001b[0m\u001b[1;33m,\u001b[0m \u001b[0mxpath\u001b[0m\u001b[1;33m)\u001b[0m \u001b[1;33m->\u001b[0m \u001b[0mWebElement\u001b[0m\u001b[1;33m:\u001b[0m\u001b[1;33m\u001b[0m\u001b[1;33m\u001b[0m\u001b[0m\n",
      "\u001b[1;32m~\\anaconda3\\lib\\site-packages\\selenium\\webdriver\\remote\\webdriver.py\u001b[0m in \u001b[0;36mfind_element\u001b[1;34m(self, by, value)\u001b[0m\n\u001b[0;32m   1242\u001b[0m             \u001b[0mvalue\u001b[0m \u001b[1;33m=\u001b[0m \u001b[1;34m'[name=\"%s\"]'\u001b[0m \u001b[1;33m%\u001b[0m \u001b[0mvalue\u001b[0m\u001b[1;33m\u001b[0m\u001b[1;33m\u001b[0m\u001b[0m\n\u001b[0;32m   1243\u001b[0m \u001b[1;33m\u001b[0m\u001b[0m\n\u001b[1;32m-> 1244\u001b[1;33m         return self.execute(Command.FIND_ELEMENT, {\n\u001b[0m\u001b[0;32m   1245\u001b[0m             \u001b[1;34m'using'\u001b[0m\u001b[1;33m:\u001b[0m \u001b[0mby\u001b[0m\u001b[1;33m,\u001b[0m\u001b[1;33m\u001b[0m\u001b[1;33m\u001b[0m\u001b[0m\n\u001b[0;32m   1246\u001b[0m             'value': value})['value']\n",
      "\u001b[1;32m~\\anaconda3\\lib\\site-packages\\selenium\\webdriver\\remote\\webdriver.py\u001b[0m in \u001b[0;36mexecute\u001b[1;34m(self, driver_command, params)\u001b[0m\n\u001b[0;32m    422\u001b[0m         \u001b[0mresponse\u001b[0m \u001b[1;33m=\u001b[0m \u001b[0mself\u001b[0m\u001b[1;33m.\u001b[0m\u001b[0mcommand_executor\u001b[0m\u001b[1;33m.\u001b[0m\u001b[0mexecute\u001b[0m\u001b[1;33m(\u001b[0m\u001b[0mdriver_command\u001b[0m\u001b[1;33m,\u001b[0m \u001b[0mparams\u001b[0m\u001b[1;33m)\u001b[0m\u001b[1;33m\u001b[0m\u001b[1;33m\u001b[0m\u001b[0m\n\u001b[0;32m    423\u001b[0m         \u001b[1;32mif\u001b[0m \u001b[0mresponse\u001b[0m\u001b[1;33m:\u001b[0m\u001b[1;33m\u001b[0m\u001b[1;33m\u001b[0m\u001b[0m\n\u001b[1;32m--> 424\u001b[1;33m             \u001b[0mself\u001b[0m\u001b[1;33m.\u001b[0m\u001b[0merror_handler\u001b[0m\u001b[1;33m.\u001b[0m\u001b[0mcheck_response\u001b[0m\u001b[1;33m(\u001b[0m\u001b[0mresponse\u001b[0m\u001b[1;33m)\u001b[0m\u001b[1;33m\u001b[0m\u001b[1;33m\u001b[0m\u001b[0m\n\u001b[0m\u001b[0;32m    425\u001b[0m             response['value'] = self._unwrap_value(\n\u001b[0;32m    426\u001b[0m                 response.get('value', None))\n",
      "\u001b[1;32m~\\anaconda3\\lib\\site-packages\\selenium\\webdriver\\remote\\errorhandler.py\u001b[0m in \u001b[0;36mcheck_response\u001b[1;34m(self, response)\u001b[0m\n\u001b[0;32m    245\u001b[0m                 \u001b[0malert_text\u001b[0m \u001b[1;33m=\u001b[0m \u001b[0mvalue\u001b[0m\u001b[1;33m[\u001b[0m\u001b[1;34m'alert'\u001b[0m\u001b[1;33m]\u001b[0m\u001b[1;33m.\u001b[0m\u001b[0mget\u001b[0m\u001b[1;33m(\u001b[0m\u001b[1;34m'text'\u001b[0m\u001b[1;33m)\u001b[0m\u001b[1;33m\u001b[0m\u001b[1;33m\u001b[0m\u001b[0m\n\u001b[0;32m    246\u001b[0m             \u001b[1;32mraise\u001b[0m \u001b[0mexception_class\u001b[0m\u001b[1;33m(\u001b[0m\u001b[0mmessage\u001b[0m\u001b[1;33m,\u001b[0m \u001b[0mscreen\u001b[0m\u001b[1;33m,\u001b[0m \u001b[0mstacktrace\u001b[0m\u001b[1;33m,\u001b[0m \u001b[0malert_text\u001b[0m\u001b[1;33m)\u001b[0m  \u001b[1;31m# type: ignore[call-arg]  # mypy is not smart enough here\u001b[0m\u001b[1;33m\u001b[0m\u001b[1;33m\u001b[0m\u001b[0m\n\u001b[1;32m--> 247\u001b[1;33m         \u001b[1;32mraise\u001b[0m \u001b[0mexception_class\u001b[0m\u001b[1;33m(\u001b[0m\u001b[0mmessage\u001b[0m\u001b[1;33m,\u001b[0m \u001b[0mscreen\u001b[0m\u001b[1;33m,\u001b[0m \u001b[0mstacktrace\u001b[0m\u001b[1;33m)\u001b[0m\u001b[1;33m\u001b[0m\u001b[1;33m\u001b[0m\u001b[0m\n\u001b[0m\u001b[0;32m    248\u001b[0m \u001b[1;33m\u001b[0m\u001b[0m\n\u001b[0;32m    249\u001b[0m     \u001b[1;32mdef\u001b[0m \u001b[0m_value_or_default\u001b[0m\u001b[1;33m(\u001b[0m\u001b[0mself\u001b[0m\u001b[1;33m,\u001b[0m \u001b[0mobj\u001b[0m\u001b[1;33m:\u001b[0m \u001b[0mMapping\u001b[0m\u001b[1;33m[\u001b[0m\u001b[0m_KT\u001b[0m\u001b[1;33m,\u001b[0m \u001b[0m_VT\u001b[0m\u001b[1;33m]\u001b[0m\u001b[1;33m,\u001b[0m \u001b[0mkey\u001b[0m\u001b[1;33m:\u001b[0m \u001b[0m_KT\u001b[0m\u001b[1;33m,\u001b[0m \u001b[0mdefault\u001b[0m\u001b[1;33m:\u001b[0m \u001b[0m_VT\u001b[0m\u001b[1;33m)\u001b[0m \u001b[1;33m->\u001b[0m \u001b[0m_VT\u001b[0m\u001b[1;33m:\u001b[0m\u001b[1;33m\u001b[0m\u001b[1;33m\u001b[0m\u001b[0m\n",
      "\u001b[1;31mNoSuchElementException\u001b[0m: Message: no such element: Unable to locate element: {\"method\":\"xpath\",\"selector\":\"/html/body/div[1]/div/div[3]/div[1]/div[2]/div[12]/div/div/nav/a[11]/span\"}\n  (Session info: chrome=98.0.4758.82)\nStacktrace:\nBacktrace:\n\tOrdinal0 [0x01017AC3+2587331]\n\tOrdinal0 [0x00FAADD1+2141649]\n\tOrdinal0 [0x00EA3BB8+1063864]\n\tOrdinal0 [0x00ED01CE+1245646]\n\tOrdinal0 [0x00ED03CB+1246155]\n\tOrdinal0 [0x00EFA612+1418770]\n\tOrdinal0 [0x00EE86D4+1345236]\n\tOrdinal0 [0x00EF8A0A+1411594]\n\tOrdinal0 [0x00EE84A6+1344678]\n\tOrdinal0 [0x00EC53F6+1201142]\n\tOrdinal0 [0x00EC62E6+1204966]\n\tGetHandleVerifier [0x011BDF22+1680738]\n\tGetHandleVerifier [0x01270DBC+2413564]\n\tGetHandleVerifier [0x010AD151+563089]\n\tGetHandleVerifier [0x010ABF13+558419]\n\tOrdinal0 [0x00FB081E+2164766]\n\tOrdinal0 [0x00FB5508+2184456]\n\tOrdinal0 [0x00FB5650+2184784]\n\tOrdinal0 [0x00FBF5BC+2225596]\n\tBaseThreadInitThunk [0x7719FA29+25]\n\tRtlGetAppContainerNamedObjectPath [0x775D7A9E+286]\n\tRtlGetAppContainerNamedObjectPath [0x775D7A6E+238]\n"
     ]
    }
   ],
   "source": [
    "next_btn = driver.find_element_by_xpath('/html/body/div[1]/div/div[3]/div[1]/div[2]/div[12]/div/div/nav/a[11]/span')\n",
    "next_btn\n",
    "next_btn.click()"
   ]
  },
  {
   "cell_type": "code",
   "execution_count": 331,
   "id": "824aae3f",
   "metadata": {
    "collapsed": true
   },
   "outputs": [
    {
     "data": {
      "text/plain": [
       "['PIRASO',\n",
       " 'ROZZETTA CRAFT',\n",
       " 'Lee Topper',\n",
       " 'VINCENT CHASE',\n",
       " 'kingsunglasses',\n",
       " 'Fastrack',\n",
       " 'Rich Club',\n",
       " 'VILLAIN',\n",
       " 'kingsunglasses',\n",
       " 'Singco India',\n",
       " 'New Specs',\n",
       " 'Kanishka',\n",
       " 'PIRASO',\n",
       " 'Elligator',\n",
       " 'Fastrack',\n",
       " 'VINCENT CHASE',\n",
       " 'Lee Topper',\n",
       " 'kingsunglasses',\n",
       " 'New Specs',\n",
       " 'VINCENT CHASE',\n",
       " 'agera',\n",
       " 'Johaena',\n",
       " 'ROYAL SON',\n",
       " 'VINCENT CHASE',\n",
       " 'ROYAL SON',\n",
       " 'hipe',\n",
       " 'Silver Kartz',\n",
       " 'VINCENT CHASE',\n",
       " 'Elligator',\n",
       " 'kingsunglasses',\n",
       " 'Singco India',\n",
       " 'ROZZETTA CRAFT',\n",
       " 'Fastrack',\n",
       " 'kingsunglasses',\n",
       " 'SRPM',\n",
       " 'Singco India',\n",
       " 'Fastrack',\n",
       " 'Rich Club',\n",
       " 'ROZZETTA CRAFT',\n",
       " 'VINCENT CHASE']"
      ]
     },
     "execution_count": 331,
     "metadata": {},
     "output_type": "execute_result"
    }
   ],
   "source": [
    "brand = driver.find_elements_by_xpath('//div[@class=\"_2WkVRV\"]')\n",
    "\n",
    "brand_name = []\n",
    "\n",
    "for i in brand:\n",
    "    brand_name.append(i.text)\n",
    "\n",
    "brand_name"
   ]
  },
  {
   "cell_type": "code",
   "execution_count": 303,
   "id": "36ac2211",
   "metadata": {
    "collapsed": true
   },
   "outputs": [
    {
     "data": {
      "text/plain": [
       "['UV Protection Rectangular Sunglasses (Free Size)',\n",
       " 'UV Protection Rectangular Sunglasses (Free Size)',\n",
       " 'UV Protection Wayfarer Sunglasses (55)',\n",
       " 'UV Protection Round Sunglasses (Free Size)',\n",
       " 'UV Protection Round Sunglasses (Free Size)',\n",
       " 'Polarized Round Sunglasses (48)',\n",
       " 'UV Protection Aviator Sunglasses (Free Size)',\n",
       " 'Polarized Butterfly Sunglasses (Free Size)',\n",
       " 'Mirrored, UV Protection, Riding Glasses, Others Round S...',\n",
       " 'UV Protection Round Sunglasses (Free Size)',\n",
       " 'UV Protection Wayfarer Sunglasses (32)',\n",
       " 'UV Protection Retro Square Sunglasses (Free Size)',\n",
       " 'Riding Glasses, Night Vision Wrap-around Sunglasses (Fr...',\n",
       " 'UV Protection Wayfarer Sunglasses (Free Size)',\n",
       " 'Riding Glasses, UV Protection Oval Sunglasses (52)',\n",
       " 'by Lenskart Polarized, UV Protection Wayfarer Sunglasse...',\n",
       " 'UV Protection Rectangular Sunglasses (Free Size)',\n",
       " 'Gradient Aviator Sunglasses (55)',\n",
       " 'UV Protection Rectangular Sunglasses (58)',\n",
       " 'by Lenskart Polarized, UV Protection Wayfarer Sunglasse...',\n",
       " 'UV Protection, Riding Glasses, Mirrored Wayfarer Sungla...',\n",
       " 'UV Protection Round Sunglasses (50)',\n",
       " 'UV Protection Aviator Sunglasses (88)',\n",
       " 'Mirrored, UV Protection, Gradient Round Sunglasses (55)',\n",
       " 'UV Protection, Riding Glasses, Others Aviator, Wayfarer...',\n",
       " 'Mirrored Aviator Sunglasses (55)',\n",
       " 'by Lenskart Polarized, UV Protection Round Sunglasses (...',\n",
       " 'Gradient, Toughened Glass Lens, UV Protection Retro Squ...',\n",
       " 'UV Protection, Gradient Aviator Sunglasses (50)',\n",
       " 'UV Protection Shield Sunglasses (Free Size)',\n",
       " 'by Lenskart Polarized, UV Protection Rectangular Sungla...',\n",
       " 'UV Protection, Others Round, Aviator Sunglasses (54)',\n",
       " 'UV Protection Wayfarer Sunglasses (Free Size)',\n",
       " 'UV Protection Wayfarer Sunglasses (53)',\n",
       " 'UV Protection, Gradient Rectangular Sunglasses (Free Si...',\n",
       " 'Mirrored, UV Protection Aviator Sunglasses (56)',\n",
       " 'UV Protection Round Sunglasses (48)',\n",
       " 'UV Protection Wayfarer Sunglasses (Free Size)',\n",
       " 'UV Protection, Gradient Cat-eye Sunglasses (58)']"
      ]
     },
     "execution_count": 303,
     "metadata": {},
     "output_type": "execute_result"
    }
   ],
   "source": [
    "description = driver.find_elements_by_xpath('//a[@class=\"IRpwTa\"]')\n",
    "\n",
    "pro_des = []\n",
    "\n",
    "for i in description:\n",
    "    pro_des.append(i.text)\n",
    "\n",
    "pro_des"
   ]
  },
  {
   "cell_type": "code",
   "execution_count": 304,
   "id": "347ec147",
   "metadata": {
    "collapsed": true
   },
   "outputs": [
    {
     "data": {
      "text/plain": [
       "['₹199',\n",
       " '₹180',\n",
       " '₹494',\n",
       " '₹426',\n",
       " '₹276',\n",
       " '₹165',\n",
       " '₹299',\n",
       " '₹498',\n",
       " '₹259',\n",
       " '₹170',\n",
       " '₹225',\n",
       " '₹354',\n",
       " '₹276',\n",
       " '₹692',\n",
       " '₹156',\n",
       " '₹1,533',\n",
       " '₹156',\n",
       " '₹196',\n",
       " '₹449',\n",
       " '₹679',\n",
       " '₹179',\n",
       " '₹230',\n",
       " '₹255',\n",
       " '₹1,099',\n",
       " '₹189',\n",
       " '₹203',\n",
       " '₹359',\n",
       " '₹1,415',\n",
       " '₹664',\n",
       " '₹263',\n",
       " '₹719',\n",
       " '₹679',\n",
       " '₹174',\n",
       " '₹599',\n",
       " '₹207',\n",
       " '₹335',\n",
       " '₹209',\n",
       " '₹220',\n",
       " '₹199',\n",
       " '₹459']"
      ]
     },
     "execution_count": 304,
     "metadata": {},
     "output_type": "execute_result"
    }
   ],
   "source": [
    "price = driver.find_elements_by_xpath('//div[@class=\"_30jeq3\"]')\n",
    "\n",
    "pro_price = []\n",
    "\n",
    "for i in price:\n",
    "    pro_price.append(i.text)\n",
    "\n",
    "pro_price"
   ]
  },
  {
   "cell_type": "code",
   "execution_count": 305,
   "id": "443612cf",
   "metadata": {},
   "outputs": [
    {
     "data": {
      "text/plain": [
       "(40, 39, 40)"
      ]
     },
     "execution_count": 305,
     "metadata": {},
     "output_type": "execute_result"
    }
   ],
   "source": [
    "len(brand_name), len(pro_des), len(pro_price)"
   ]
  },
  {
   "cell_type": "code",
   "execution_count": null,
   "id": "1049b85f",
   "metadata": {},
   "outputs": [],
   "source": [
    "df = pd.DataFrame({'\"Brand\"': brand_name, 'Description': pro_des, 'Price': pro_price})\n",
    "df"
   ]
  },
  {
   "cell_type": "code",
   "execution_count": null,
   "id": "e4285a9f",
   "metadata": {},
   "outputs": [],
   "source": []
  },
  {
   "cell_type": "markdown",
   "id": "fd608b75",
   "metadata": {},
   "source": [
    "Q5: Scrape 100 reviews data from flipkart.com for iphone11 phone. You have to go the link:\n",
    "https://www.flipkart.com/apple-iphone-11-black-64-gb-includes-earpods-power\u0002adapter/p/itm0f37c2240b217pid=MOBFKCTSVZAXUHGR&lid=LSTMOBFKC\n",
    "TSVZAXUHGREPBFGI&marketplace.\n",
    "When you will open the above link you will reach to the below shown webpage \n",
    "As shown in the above page you have to scrape the tick marked attributes.These are:\n",
    "1. Rating\n",
    "2. Review summary\n",
    "3. Full review\n",
    "4. You have to scrape this data for first 100 reviews.\n",
    "Note: All the steps required during scraping should be done through code only and not manually.\n"
   ]
  },
  {
   "cell_type": "code",
   "execution_count": 354,
   "id": "1489a08b",
   "metadata": {},
   "outputs": [],
   "source": [
    "driver = webdriver.Chrome(r'C:\\Users\\DELL\\Downloads\\chromedriver_win32\\chromedriver.exe')\n",
    "url = 'https://www.flipkart.com/apple-iphone-11-black-64-gb-includes- earpods-power\u0002adapter/p/itm0f37c2240b217?pid=MOBFKCTSVZAXUHGR&lid=LSTMOBFKCTSVZAXUHGREPBFGI&marketplace.'\n",
    "driver.get(url)"
   ]
  },
  {
   "cell_type": "markdown",
   "id": "44f81f0c",
   "metadata": {},
   "source": [
    "### Extracting Rating, Review Summary and Full Review  "
   ]
  },
  {
   "cell_type": "code",
   "execution_count": 355,
   "id": "67bae1dd",
   "metadata": {
    "collapsed": true
   },
   "outputs": [
    {
     "data": {
      "text/plain": [
       "['5', '5', '5', '', '', '', '', '', '', '']"
      ]
     },
     "execution_count": 355,
     "metadata": {},
     "output_type": "execute_result"
    }
   ],
   "source": [
    "pro_rating = driver.find_elements_by_xpath('//div[@class=\"_3LWZlK _1BLPMq\"]')\n",
    "\n",
    "rating = []\n",
    "\n",
    "for i in pro_rating:\n",
    "    rating.append(i.text)\n",
    "\n",
    "rating"
   ]
  },
  {
   "cell_type": "code",
   "execution_count": 356,
   "id": "486f68d5",
   "metadata": {
    "collapsed": true
   },
   "outputs": [
    {
     "data": {
      "text/plain": [
       "['Brilliant',\n",
       " 'Simply awesome',\n",
       " 'Best in the market!',\n",
       " '',\n",
       " '',\n",
       " '',\n",
       " '',\n",
       " '',\n",
       " '',\n",
       " '']"
      ]
     },
     "execution_count": 356,
     "metadata": {},
     "output_type": "execute_result"
    }
   ],
   "source": [
    "review_summary = driver.find_elements_by_xpath('//p[@class=\"_2-N8zT\"]')\n",
    "\n",
    "summary = []\n",
    "\n",
    "for i in review_summary:\n",
    "    summary.append(i.text)\n",
    "\n",
    "summary"
   ]
  },
  {
   "cell_type": "code",
   "execution_count": 357,
   "id": "f3b484ea",
   "metadata": {
    "collapsed": true
   },
   "outputs": [
    {
     "data": {
      "text/plain": [
       "['The Best Phone for the Money\\n\\nThe iPhone 11 offers superb cameras, a more durable design and excellent battery life for an affordable price.\\n\\nCompelling ultra-wide camera\\nNew Night mode is excellent\\nLong battery life',\n",
       " 'Really satisfied with the Product I received... It’s totally genuine and the packaging was also really good so if ur planning to buy just go for it.',\n",
       " 'Great iPhone very snappy experience as apple kind. Upgraded from iPhone 7.\\nPros\\n-Camera top class\\n- Battery top performed\\n-Chipset no need to say as apple kind\\n-Security as you expect from apple\\n- Display super bright industry leading colour\\naccuracy and super responsive\\n-Build quality as expect from apple sturdy\\npremium durable beautiful stylish.\\n-Os most stable os in smartphone industry\\n\\nCons\\n-No 5G\\n-Display is not based on OLED technology\\n-Charger headphones and 1 apple stic...\\nREAD MORE',\n",
       " '',\n",
       " '',\n",
       " '',\n",
       " '',\n",
       " '',\n",
       " '',\n",
       " '']"
      ]
     },
     "execution_count": 357,
     "metadata": {},
     "output_type": "execute_result"
    }
   ],
   "source": [
    "pro_review = driver.find_elements_by_xpath('//div[@class=\"t-ZTKy\"]')\n",
    "\n",
    "review = []\n",
    "\n",
    "for i in pro_review:\n",
    "    review.append(i.text)\n",
    "\n",
    "review"
   ]
  },
  {
   "cell_type": "code",
   "execution_count": 381,
   "id": "c9a89546",
   "metadata": {},
   "outputs": [
    {
     "data": {
      "text/plain": [
       "(10, 10, 10)"
      ]
     },
     "execution_count": 381,
     "metadata": {},
     "output_type": "execute_result"
    }
   ],
   "source": [
    "len(rating), len(summary), len(review)"
   ]
  },
  {
   "cell_type": "code",
   "execution_count": 383,
   "id": "45ca0573",
   "metadata": {
    "collapsed": true
   },
   "outputs": [
    {
     "data": {
      "text/html": [
       "<div>\n",
       "<style scoped>\n",
       "    .dataframe tbody tr th:only-of-type {\n",
       "        vertical-align: middle;\n",
       "    }\n",
       "\n",
       "    .dataframe tbody tr th {\n",
       "        vertical-align: top;\n",
       "    }\n",
       "\n",
       "    .dataframe thead th {\n",
       "        text-align: right;\n",
       "    }\n",
       "</style>\n",
       "<table border=\"1\" class=\"dataframe\">\n",
       "  <thead>\n",
       "    <tr style=\"text-align: right;\">\n",
       "      <th></th>\n",
       "      <th>Product Rating</th>\n",
       "      <th>Review Summary</th>\n",
       "      <th>Full Review</th>\n",
       "    </tr>\n",
       "  </thead>\n",
       "  <tbody>\n",
       "    <tr>\n",
       "      <th>0</th>\n",
       "      <td>5</td>\n",
       "      <td>Brilliant</td>\n",
       "      <td>The Best Phone for the Money\\n\\nThe iPhone 11 ...</td>\n",
       "    </tr>\n",
       "    <tr>\n",
       "      <th>1</th>\n",
       "      <td>5</td>\n",
       "      <td>Simply awesome</td>\n",
       "      <td>Really satisfied with the Product I received.....</td>\n",
       "    </tr>\n",
       "    <tr>\n",
       "      <th>2</th>\n",
       "      <td>5</td>\n",
       "      <td>Best in the market!</td>\n",
       "      <td>Great iPhone very snappy experience as apple k...</td>\n",
       "    </tr>\n",
       "    <tr>\n",
       "      <th>3</th>\n",
       "      <td></td>\n",
       "      <td></td>\n",
       "      <td></td>\n",
       "    </tr>\n",
       "    <tr>\n",
       "      <th>4</th>\n",
       "      <td></td>\n",
       "      <td></td>\n",
       "      <td></td>\n",
       "    </tr>\n",
       "    <tr>\n",
       "      <th>5</th>\n",
       "      <td></td>\n",
       "      <td></td>\n",
       "      <td></td>\n",
       "    </tr>\n",
       "    <tr>\n",
       "      <th>6</th>\n",
       "      <td></td>\n",
       "      <td></td>\n",
       "      <td></td>\n",
       "    </tr>\n",
       "    <tr>\n",
       "      <th>7</th>\n",
       "      <td></td>\n",
       "      <td></td>\n",
       "      <td></td>\n",
       "    </tr>\n",
       "    <tr>\n",
       "      <th>8</th>\n",
       "      <td></td>\n",
       "      <td></td>\n",
       "      <td></td>\n",
       "    </tr>\n",
       "    <tr>\n",
       "      <th>9</th>\n",
       "      <td></td>\n",
       "      <td></td>\n",
       "      <td></td>\n",
       "    </tr>\n",
       "  </tbody>\n",
       "</table>\n",
       "</div>"
      ],
      "text/plain": [
       "  Product Rating       Review Summary  \\\n",
       "0              5            Brilliant   \n",
       "1              5       Simply awesome   \n",
       "2              5  Best in the market!   \n",
       "3                                       \n",
       "4                                       \n",
       "5                                       \n",
       "6                                       \n",
       "7                                       \n",
       "8                                       \n",
       "9                                       \n",
       "\n",
       "                                         Full Review  \n",
       "0  The Best Phone for the Money\\n\\nThe iPhone 11 ...  \n",
       "1  Really satisfied with the Product I received.....  \n",
       "2  Great iPhone very snappy experience as apple k...  \n",
       "3                                                     \n",
       "4                                                     \n",
       "5                                                     \n",
       "6                                                     \n",
       "7                                                     \n",
       "8                                                     \n",
       "9                                                     "
      ]
     },
     "execution_count": 383,
     "metadata": {},
     "output_type": "execute_result"
    }
   ],
   "source": [
    "df = pd.DataFrame({'Product Rating': rating, 'Review Summary': summary, 'Full Review': review})\n",
    "df"
   ]
  },
  {
   "cell_type": "code",
   "execution_count": null,
   "id": "956afd99",
   "metadata": {},
   "outputs": [],
   "source": []
  },
  {
   "cell_type": "markdown",
   "id": "d9d60d65",
   "metadata": {},
   "source": [
    "Q6: Scrape data for first 100 sneakers you find when you visit flipkart.com andsearch for “sneakers” in the\n",
    "search field.\n",
    "You have to scrape 4 attributes of each sneaker:\n",
    "1. Brand\n",
    "2. Product Description\n",
    "3. Price\n",
    "As shown in the below image, you have to scrape the tick marked attributes\n"
   ]
  },
  {
   "cell_type": "code",
   "execution_count": 369,
   "id": "7681fa5c",
   "metadata": {},
   "outputs": [],
   "source": [
    "driver = webdriver.Chrome(r'C:\\Users\\DELL\\Downloads\\chromedriver_win32\\chromedriver.exe')\n",
    "url = 'https://www.flipkart.com/'\n",
    "driver.get(url)"
   ]
  },
  {
   "cell_type": "code",
   "execution_count": 370,
   "id": "b59e6122",
   "metadata": {},
   "outputs": [],
   "source": [
    "close_btn = driver.find_element_by_xpath('/html/body/div[2]/div/div/button')\n",
    "close_btn\n",
    "close_btn.click()"
   ]
  },
  {
   "cell_type": "code",
   "execution_count": 371,
   "id": "c63bdb30",
   "metadata": {},
   "outputs": [
    {
     "data": {
      "text/plain": [
       "<selenium.webdriver.remote.webelement.WebElement (session=\"330dd6ce1c6095f827198be87812e2bf\", element=\"336d399a-5db8-4b49-bdd8-f6a03a1ac060\")>"
      ]
     },
     "execution_count": 371,
     "metadata": {},
     "output_type": "execute_result"
    }
   ],
   "source": [
    "search = driver.find_element_by_xpath('/html/body/div[1]/div/div[1]/div[1]/div[2]/div[2]/form/div/div/input')\n",
    "search"
   ]
  },
  {
   "cell_type": "code",
   "execution_count": 372,
   "id": "658e30ce",
   "metadata": {},
   "outputs": [],
   "source": [
    "search.send_keys(\"sneakers\")"
   ]
  },
  {
   "cell_type": "code",
   "execution_count": 373,
   "id": "04f02640",
   "metadata": {},
   "outputs": [],
   "source": [
    "srch_btn = driver.find_element_by_xpath('//button[@class=\"L0Z3Pu\"]')\n",
    "srch_btn\n",
    "srch_btn.click()"
   ]
  },
  {
   "cell_type": "markdown",
   "id": "481c0a04",
   "metadata": {},
   "source": [
    "### Extracting Data "
   ]
  },
  {
   "cell_type": "code",
   "execution_count": 374,
   "id": "e83d60fa",
   "metadata": {
    "collapsed": true
   },
   "outputs": [
    {
     "data": {
      "text/plain": [
       "['RapidBox',\n",
       " 'FLYING MACHINE',\n",
       " 'BRUTON',\n",
       " 'Chevit',\n",
       " 'BRUTON',\n",
       " 'World Wear Footwear',\n",
       " 'BRUTON',\n",
       " 'Roadster',\n",
       " 'CLYMB',\n",
       " 'Labbin',\n",
       " 'SCATCHITE',\n",
       " 'HRX by Hrithik Roshan',\n",
       " 'CLYMB',\n",
       " 'Chevit',\n",
       " 'BRUTON',\n",
       " 'PACIFIKOT',\n",
       " 'BIRDE',\n",
       " 'ASTEROID',\n",
       " 'DRESTA',\n",
       " 'sixXplus',\n",
       " 'Shoes Bank',\n",
       " 'Numenzo',\n",
       " 'PUMA',\n",
       " 'RapidBox',\n",
       " 'World Wear Footwear',\n",
       " 'Noztile',\n",
       " 'luxury fashion',\n",
       " 'HRX by Hrithik Roshan',\n",
       " 'BRUTON',\n",
       " 'RapidBox',\n",
       " 'Xtoon',\n",
       " 'FLYING MACHINE',\n",
       " 'URBANBOX',\n",
       " 'BRUTON',\n",
       " 'Kraasa',\n",
       " 'bluemaker',\n",
       " 'Rzisbo',\n",
       " 'Kraasa',\n",
       " 'aadi',\n",
       " 'HRX by Hrithik Roshan']"
      ]
     },
     "execution_count": 374,
     "metadata": {},
     "output_type": "execute_result"
    }
   ],
   "source": [
    "brand = driver.find_elements_by_xpath('//div[@class=\"_2WkVRV\"]')\n",
    "\n",
    "brand_name = []\n",
    "\n",
    "for i in brand:\n",
    "    brand_name.append(i.text)\n",
    "\n",
    "brand_name"
   ]
  },
  {
   "cell_type": "code",
   "execution_count": 375,
   "id": "cc4b9b2d",
   "metadata": {
    "collapsed": true
   },
   "outputs": [
    {
     "data": {
      "text/plain": [
       "['Combo Pack Of 4 Casual Shoes Loafer Shoes Sneakers For ...',\n",
       " 'Super Stylish & Trendy Combo Pack of 02 Pairs Sneakers ...',\n",
       " 'Lightweight Pack Of 1 Trendy Sneakers Sneakers Sneakers...',\n",
       " '5011-Latest Collection Stylish Casual Loafer Sneakers S...',\n",
       " 'Modern Trendy Sneakers Shoes Sneakers For Men',\n",
       " 'Men Blue Solid Sneakers Sneakers For Men',\n",
       " \"Perfect Sports Shoes for Men's Running ,Cycling & Trekk...\",\n",
       " 'Sneakers For Men',\n",
       " 'Sneakers Sneakers For Men',\n",
       " 'Men White Printed Sneakers Sneakers For Men',\n",
       " 'Sports/Running/Training/Gym Sneakers For Men',\n",
       " 'Perfect & Affordable Combo Pack of 02 Pairs Sneakers Ou...',\n",
       " 'Modern & Trendy Collection Combo Pack of 02 Shoes for M...',\n",
       " 'Sports Running Shoes Sneakers For Men',\n",
       " \"Original Luxury Branded Fashionable Men's Casual Walkin...\",\n",
       " \"Original Luxury Branded Fashionable Men's Casual Walkin...\",\n",
       " \"White Sneaker For Men's/Boy's Sneakers For Men\",\n",
       " '411 Casual Sneakers For Men',\n",
       " 'X-Ray Millenium Sneakers For Men',\n",
       " 'Sneakers For Men',\n",
       " 'Sneakers For Men',\n",
       " 'Luxury Fashionable casual shoes Sneakers For Men',\n",
       " 'Men White Red Solid Sneakers Sneakers For Men',\n",
       " 'Combo Pack Of 2 Latest Stylish Casual Shoes for Men Lac...',\n",
       " \"white Casual shoes,Sneakers for men's Sneakers For Men\",\n",
       " 'Sneakers For Men',\n",
       " 'Lattest Sneakers Shoe Sneakers For Men',\n",
       " 'Shark-41 Sneakers For Men',\n",
       " 'casual for men (beige 10) Sneakers For Men',\n",
       " 'Sneakers For Men',\n",
       " 'Series 7 Sneakers For Men',\n",
       " 'Sneakers For Men',\n",
       " 'Men Grey Woven Design Sneakers Sneakers For Men']"
      ]
     },
     "execution_count": 375,
     "metadata": {},
     "output_type": "execute_result"
    }
   ],
   "source": [
    "description = driver.find_elements_by_xpath('//a[@class=\"IRpwTa\"]')\n",
    "\n",
    "pro_des = []\n",
    "\n",
    "for i in description:\n",
    "    pro_des.append(i.text)\n",
    "\n",
    "pro_des"
   ]
  },
  {
   "cell_type": "code",
   "execution_count": 376,
   "id": "7f4aa3f5",
   "metadata": {
    "collapsed": true
   },
   "outputs": [
    {
     "data": {
      "text/plain": [
       "['₹630',\n",
       " '₹1,499',\n",
       " '₹599',\n",
       " '₹649',\n",
       " '₹189',\n",
       " '₹199',\n",
       " '₹259',\n",
       " '₹1,399',\n",
       " '₹249',\n",
       " '₹474',\n",
       " '₹377',\n",
       " '₹2,499',\n",
       " '₹259',\n",
       " '₹489',\n",
       " '₹449',\n",
       " '₹399',\n",
       " '₹299',\n",
       " '₹474',\n",
       " '₹448',\n",
       " '₹599',\n",
       " '₹345',\n",
       " '₹426',\n",
       " '₹3,849',\n",
       " '₹640',\n",
       " '₹259',\n",
       " '₹429',\n",
       " '₹429',\n",
       " '₹2,299',\n",
       " '₹499',\n",
       " '₹680',\n",
       " '₹499',\n",
       " '₹2,248',\n",
       " '₹247',\n",
       " '₹259',\n",
       " '₹499',\n",
       " '₹499',\n",
       " '₹549',\n",
       " '₹499',\n",
       " '₹399',\n",
       " '₹2,699']"
      ]
     },
     "execution_count": 376,
     "metadata": {},
     "output_type": "execute_result"
    }
   ],
   "source": [
    "price = driver.find_elements_by_xpath('//div[@class=\"_30jeq3\"]')\n",
    "\n",
    "pro_price = []\n",
    "\n",
    "for i in price:\n",
    "    pro_price.append(i.text)\n",
    "\n",
    "pro_price"
   ]
  },
  {
   "cell_type": "code",
   "execution_count": 379,
   "id": "c358bdf1",
   "metadata": {},
   "outputs": [
    {
     "data": {
      "text/plain": [
       "(40, 33, 40)"
      ]
     },
     "execution_count": 379,
     "metadata": {},
     "output_type": "execute_result"
    }
   ],
   "source": [
    "len(brand_name),len(pro_des), len(pro_price)"
   ]
  },
  {
   "cell_type": "code",
   "execution_count": 380,
   "id": "f4062301",
   "metadata": {
    "collapsed": true
   },
   "outputs": [
    {
     "data": {
      "text/html": [
       "<div>\n",
       "<style scoped>\n",
       "    .dataframe tbody tr th:only-of-type {\n",
       "        vertical-align: middle;\n",
       "    }\n",
       "\n",
       "    .dataframe tbody tr th {\n",
       "        vertical-align: top;\n",
       "    }\n",
       "\n",
       "    .dataframe thead th {\n",
       "        text-align: right;\n",
       "    }\n",
       "</style>\n",
       "<table border=\"1\" class=\"dataframe\">\n",
       "  <thead>\n",
       "    <tr style=\"text-align: right;\">\n",
       "      <th></th>\n",
       "      <th>\"Brand\"</th>\n",
       "      <th>Price</th>\n",
       "    </tr>\n",
       "  </thead>\n",
       "  <tbody>\n",
       "    <tr>\n",
       "      <th>0</th>\n",
       "      <td>RapidBox</td>\n",
       "      <td>₹630</td>\n",
       "    </tr>\n",
       "    <tr>\n",
       "      <th>1</th>\n",
       "      <td>FLYING MACHINE</td>\n",
       "      <td>₹1,499</td>\n",
       "    </tr>\n",
       "    <tr>\n",
       "      <th>2</th>\n",
       "      <td>BRUTON</td>\n",
       "      <td>₹599</td>\n",
       "    </tr>\n",
       "    <tr>\n",
       "      <th>3</th>\n",
       "      <td>Chevit</td>\n",
       "      <td>₹649</td>\n",
       "    </tr>\n",
       "    <tr>\n",
       "      <th>4</th>\n",
       "      <td>BRUTON</td>\n",
       "      <td>₹189</td>\n",
       "    </tr>\n",
       "    <tr>\n",
       "      <th>5</th>\n",
       "      <td>World Wear Footwear</td>\n",
       "      <td>₹199</td>\n",
       "    </tr>\n",
       "    <tr>\n",
       "      <th>6</th>\n",
       "      <td>BRUTON</td>\n",
       "      <td>₹259</td>\n",
       "    </tr>\n",
       "    <tr>\n",
       "      <th>7</th>\n",
       "      <td>Roadster</td>\n",
       "      <td>₹1,399</td>\n",
       "    </tr>\n",
       "    <tr>\n",
       "      <th>8</th>\n",
       "      <td>CLYMB</td>\n",
       "      <td>₹249</td>\n",
       "    </tr>\n",
       "    <tr>\n",
       "      <th>9</th>\n",
       "      <td>Labbin</td>\n",
       "      <td>₹474</td>\n",
       "    </tr>\n",
       "    <tr>\n",
       "      <th>10</th>\n",
       "      <td>SCATCHITE</td>\n",
       "      <td>₹377</td>\n",
       "    </tr>\n",
       "    <tr>\n",
       "      <th>11</th>\n",
       "      <td>HRX by Hrithik Roshan</td>\n",
       "      <td>₹2,499</td>\n",
       "    </tr>\n",
       "    <tr>\n",
       "      <th>12</th>\n",
       "      <td>CLYMB</td>\n",
       "      <td>₹259</td>\n",
       "    </tr>\n",
       "    <tr>\n",
       "      <th>13</th>\n",
       "      <td>Chevit</td>\n",
       "      <td>₹489</td>\n",
       "    </tr>\n",
       "    <tr>\n",
       "      <th>14</th>\n",
       "      <td>BRUTON</td>\n",
       "      <td>₹449</td>\n",
       "    </tr>\n",
       "    <tr>\n",
       "      <th>15</th>\n",
       "      <td>PACIFIKOT</td>\n",
       "      <td>₹399</td>\n",
       "    </tr>\n",
       "    <tr>\n",
       "      <th>16</th>\n",
       "      <td>BIRDE</td>\n",
       "      <td>₹299</td>\n",
       "    </tr>\n",
       "    <tr>\n",
       "      <th>17</th>\n",
       "      <td>ASTEROID</td>\n",
       "      <td>₹474</td>\n",
       "    </tr>\n",
       "    <tr>\n",
       "      <th>18</th>\n",
       "      <td>DRESTA</td>\n",
       "      <td>₹448</td>\n",
       "    </tr>\n",
       "    <tr>\n",
       "      <th>19</th>\n",
       "      <td>sixXplus</td>\n",
       "      <td>₹599</td>\n",
       "    </tr>\n",
       "    <tr>\n",
       "      <th>20</th>\n",
       "      <td>Shoes Bank</td>\n",
       "      <td>₹345</td>\n",
       "    </tr>\n",
       "    <tr>\n",
       "      <th>21</th>\n",
       "      <td>Numenzo</td>\n",
       "      <td>₹426</td>\n",
       "    </tr>\n",
       "    <tr>\n",
       "      <th>22</th>\n",
       "      <td>PUMA</td>\n",
       "      <td>₹3,849</td>\n",
       "    </tr>\n",
       "    <tr>\n",
       "      <th>23</th>\n",
       "      <td>RapidBox</td>\n",
       "      <td>₹640</td>\n",
       "    </tr>\n",
       "    <tr>\n",
       "      <th>24</th>\n",
       "      <td>World Wear Footwear</td>\n",
       "      <td>₹259</td>\n",
       "    </tr>\n",
       "    <tr>\n",
       "      <th>25</th>\n",
       "      <td>Noztile</td>\n",
       "      <td>₹429</td>\n",
       "    </tr>\n",
       "    <tr>\n",
       "      <th>26</th>\n",
       "      <td>luxury fashion</td>\n",
       "      <td>₹429</td>\n",
       "    </tr>\n",
       "    <tr>\n",
       "      <th>27</th>\n",
       "      <td>HRX by Hrithik Roshan</td>\n",
       "      <td>₹2,299</td>\n",
       "    </tr>\n",
       "    <tr>\n",
       "      <th>28</th>\n",
       "      <td>BRUTON</td>\n",
       "      <td>₹499</td>\n",
       "    </tr>\n",
       "    <tr>\n",
       "      <th>29</th>\n",
       "      <td>RapidBox</td>\n",
       "      <td>₹680</td>\n",
       "    </tr>\n",
       "    <tr>\n",
       "      <th>30</th>\n",
       "      <td>Xtoon</td>\n",
       "      <td>₹499</td>\n",
       "    </tr>\n",
       "    <tr>\n",
       "      <th>31</th>\n",
       "      <td>FLYING MACHINE</td>\n",
       "      <td>₹2,248</td>\n",
       "    </tr>\n",
       "    <tr>\n",
       "      <th>32</th>\n",
       "      <td>URBANBOX</td>\n",
       "      <td>₹247</td>\n",
       "    </tr>\n",
       "    <tr>\n",
       "      <th>33</th>\n",
       "      <td>BRUTON</td>\n",
       "      <td>₹259</td>\n",
       "    </tr>\n",
       "    <tr>\n",
       "      <th>34</th>\n",
       "      <td>Kraasa</td>\n",
       "      <td>₹499</td>\n",
       "    </tr>\n",
       "    <tr>\n",
       "      <th>35</th>\n",
       "      <td>bluemaker</td>\n",
       "      <td>₹499</td>\n",
       "    </tr>\n",
       "    <tr>\n",
       "      <th>36</th>\n",
       "      <td>Rzisbo</td>\n",
       "      <td>₹549</td>\n",
       "    </tr>\n",
       "    <tr>\n",
       "      <th>37</th>\n",
       "      <td>Kraasa</td>\n",
       "      <td>₹499</td>\n",
       "    </tr>\n",
       "    <tr>\n",
       "      <th>38</th>\n",
       "      <td>aadi</td>\n",
       "      <td>₹399</td>\n",
       "    </tr>\n",
       "    <tr>\n",
       "      <th>39</th>\n",
       "      <td>HRX by Hrithik Roshan</td>\n",
       "      <td>₹2,699</td>\n",
       "    </tr>\n",
       "  </tbody>\n",
       "</table>\n",
       "</div>"
      ],
      "text/plain": [
       "                  \"Brand\"   Price\n",
       "0                RapidBox    ₹630\n",
       "1          FLYING MACHINE  ₹1,499\n",
       "2                  BRUTON    ₹599\n",
       "3                  Chevit    ₹649\n",
       "4                  BRUTON    ₹189\n",
       "5     World Wear Footwear    ₹199\n",
       "6                  BRUTON    ₹259\n",
       "7                Roadster  ₹1,399\n",
       "8                   CLYMB    ₹249\n",
       "9                  Labbin    ₹474\n",
       "10              SCATCHITE    ₹377\n",
       "11  HRX by Hrithik Roshan  ₹2,499\n",
       "12                  CLYMB    ₹259\n",
       "13                 Chevit    ₹489\n",
       "14                 BRUTON    ₹449\n",
       "15              PACIFIKOT    ₹399\n",
       "16                  BIRDE    ₹299\n",
       "17               ASTEROID    ₹474\n",
       "18                 DRESTA    ₹448\n",
       "19               sixXplus    ₹599\n",
       "20             Shoes Bank    ₹345\n",
       "21                Numenzo    ₹426\n",
       "22                   PUMA  ₹3,849\n",
       "23               RapidBox    ₹640\n",
       "24    World Wear Footwear    ₹259\n",
       "25                Noztile    ₹429\n",
       "26         luxury fashion    ₹429\n",
       "27  HRX by Hrithik Roshan  ₹2,299\n",
       "28                 BRUTON    ₹499\n",
       "29               RapidBox    ₹680\n",
       "30                  Xtoon    ₹499\n",
       "31         FLYING MACHINE  ₹2,248\n",
       "32               URBANBOX    ₹247\n",
       "33                 BRUTON    ₹259\n",
       "34                 Kraasa    ₹499\n",
       "35              bluemaker    ₹499\n",
       "36                 Rzisbo    ₹549\n",
       "37                 Kraasa    ₹499\n",
       "38                   aadi    ₹399\n",
       "39  HRX by Hrithik Roshan  ₹2,699"
      ]
     },
     "execution_count": 380,
     "metadata": {},
     "output_type": "execute_result"
    }
   ],
   "source": [
    "df = pd.DataFrame({'\"Brand\"': brand_name, 'Price': pro_price})\n",
    "df"
   ]
  },
  {
   "cell_type": "code",
   "execution_count": null,
   "id": "4701172c",
   "metadata": {},
   "outputs": [],
   "source": []
  },
  {
   "cell_type": "markdown",
   "id": "422cb907",
   "metadata": {},
   "source": [
    "Q7: Go to the link - https://www.myntra.com/shoes\n",
    "Set Price filter to “Rs. 7149 to Rs. 14099 ” , Color filter to “Black”, as shown in the below image.\n",
    "And then scrape First 100 shoes data you get. The data should include “Brand” of the shoes , Short Shoe\n",
    "description, price of the shoe as shown in the below image"
   ]
  },
  {
   "cell_type": "code",
   "execution_count": 390,
   "id": "1312b82e",
   "metadata": {},
   "outputs": [],
   "source": [
    "driver = webdriver.Chrome(r'C:\\Users\\DELL\\Downloads\\chromedriver_win32\\chromedriver.exe')\n",
    "url = 'https://www.myntra.com/shoes'\n",
    "driver.get(url)"
   ]
  },
  {
   "cell_type": "markdown",
   "id": "b7a14dc7",
   "metadata": {},
   "source": [
    "Clicking on filters by code"
   ]
  },
  {
   "cell_type": "code",
   "execution_count": 391,
   "id": "42543ba3",
   "metadata": {},
   "outputs": [],
   "source": [
    "price_check = driver.find_element_by_xpath('/html/body/div[2]/div/div[1]/main/div[3]/div[1]/section/div/div[5]/ul/li[2]/label/div')\n",
    "price_check.click()"
   ]
  },
  {
   "cell_type": "code",
   "execution_count": 392,
   "id": "e8a00d3c",
   "metadata": {},
   "outputs": [],
   "source": [
    "color_check = driver.find_element_by_xpath('/html/body/div[2]/div/div[1]/main/div[3]/div[1]/section/div/div[6]/ul/li[1]/label/div')\n",
    "color_check.click()"
   ]
  },
  {
   "cell_type": "markdown",
   "id": "868c0d2f",
   "metadata": {},
   "source": [
    "### Extracting Data"
   ]
  },
  {
   "cell_type": "code",
   "execution_count": 394,
   "id": "ba2b4700",
   "metadata": {
    "collapsed": true
   },
   "outputs": [
    {
     "data": {
      "text/plain": [
       "['Nike',\n",
       " 'ALDO',\n",
       " 'Nike',\n",
       " 'Tommy Hilfiger',\n",
       " 'Puma',\n",
       " 'Nike',\n",
       " 'Puma',\n",
       " 'Nike',\n",
       " 'Tommy Hilfiger',\n",
       " 'Tommy Hilfiger',\n",
       " 'Puma',\n",
       " 'Puma',\n",
       " 'Tommy Hilfiger',\n",
       " 'New Balance',\n",
       " 'RARE RABBIT',\n",
       " 'ALDO',\n",
       " 'Puma',\n",
       " 'PUMA Motorsport',\n",
       " 'Skechers',\n",
       " 'Puma',\n",
       " 'Hush Puppies',\n",
       " 'New Balance',\n",
       " 'Tommy Hilfiger',\n",
       " 'Reebok',\n",
       " 'Hush Puppies',\n",
       " 'Bugatti',\n",
       " 'Puma',\n",
       " 'New Balance',\n",
       " 'RARE RABBIT',\n",
       " 'Hush Puppies',\n",
       " 'Saint G',\n",
       " 'ASICS',\n",
       " 'Saint G',\n",
       " 'Bugatti',\n",
       " 'Xtep',\n",
       " 'Bugatti',\n",
       " 'Hush Puppies',\n",
       " 'Hush Puppies',\n",
       " 'DAVINCHI',\n",
       " 'Hush Puppies',\n",
       " 'Saint G',\n",
       " 'Saint G',\n",
       " 'Clarks',\n",
       " 'Puma',\n",
       " 'Geox',\n",
       " 'New Balance',\n",
       " 'Royal Enfield',\n",
       " 'J.FONTINI',\n",
       " 'J.FONTINI',\n",
       " 'Heel & Buckle London']"
      ]
     },
     "execution_count": 394,
     "metadata": {},
     "output_type": "execute_result"
    }
   ],
   "source": [
    "\n",
    "shoebrand = driver.find_elements_by_xpath('//h3[@class=\"product-brand\"]')\n",
    "\n",
    "brand_name = []\n",
    "\n",
    "for i in shoebrand:\n",
    "    brand_name.append(i.text)\n",
    "\n",
    "brand_name"
   ]
  },
  {
   "cell_type": "code",
   "execution_count": 395,
   "id": "77f40c6b",
   "metadata": {
    "collapsed": true
   },
   "outputs": [
    {
     "data": {
      "text/plain": [
       "['Men AIR ZOOM PEGASUS 38',\n",
       " 'Men Printed Sneakers',\n",
       " 'Unisex Metcon 7 Training Shoes',\n",
       " 'Men Leather Sneakers',\n",
       " 'Men Running Shoes',\n",
       " 'Men Zoom F3 Basketball Shoes',\n",
       " 'Men Jamming 2.0 Running Shoes',\n",
       " 'Men Blazer Court Skateboarding',\n",
       " 'Men Leather Sneakers',\n",
       " 'Men Textured Loafers',\n",
       " 'Men Magnify Nitro Running',\n",
       " 'Men Deviate Nitro Running Shoe',\n",
       " 'Men Leather Sneakers',\n",
       " 'Men Woven Design Running Shoes',\n",
       " 'Men Leather Slip-On Sneakers',\n",
       " 'Wedge Sandals',\n",
       " 'Men Training or Gym Shoes',\n",
       " 'Unisex Ferrari Drift8 Sneakers',\n",
       " 'Men Go Run Hyper Burst Running',\n",
       " 'Women Magnify Nitro Shoes',\n",
       " 'Men Solid Leather Formal Slip-Ons',\n",
       " 'Men Woven Design Running Shoes',\n",
       " 'Leather Sandals',\n",
       " 'Men Astroride Forever Running',\n",
       " 'Men Perforations Leather Slip-On Sneakers',\n",
       " 'Men Black Walking Shoes',\n",
       " 'Women Eternity NITRO Shoes',\n",
       " 'Men Woven Design Running Shoes',\n",
       " 'Men Leather Flat Boots',\n",
       " 'Men Solid Leather Formal Derbys',\n",
       " 'Men Mid-Top Chelsea Boots',\n",
       " 'Men Colourblocked PU Sneakers',\n",
       " 'Men Leather Chelsea Boots',\n",
       " 'Men Textured Leather High-Top Flat Boots',\n",
       " 'Men Running Shoes',\n",
       " 'Men Walking Shoes',\n",
       " 'Men Leather Derbys',\n",
       " 'Men Formal Derbys',\n",
       " 'Ustraa black',\n",
       " 'Men Solid Formal Slip-Ons',\n",
       " 'Women Leather Heeled Boots',\n",
       " 'Women Leather Heeled Boots',\n",
       " 'Men Leather Formal Loafers',\n",
       " 'Women Velocity NITRO Runners',\n",
       " 'Men Leather Driving Shoes',\n",
       " 'Women Woven Running Shoes',\n",
       " 'Cabo WP Riding Boots',\n",
       " 'Men Textured Leather Loafers',\n",
       " 'Men Black Leather Loafers',\n",
       " 'Men Solid Leather Formal Loafers']"
      ]
     },
     "execution_count": 395,
     "metadata": {},
     "output_type": "execute_result"
    }
   ],
   "source": [
    "description = driver.find_elements_by_xpath('//h4[@class=\"product-product\"]')\n",
    "\n",
    "shoe_des = []\n",
    "\n",
    "for i in description:\n",
    "    shoe_des.append(i.text)\n",
    "shoe_des"
   ]
  },
  {
   "cell_type": "code",
   "execution_count": 400,
   "id": "9c7da1db",
   "metadata": {
    "collapsed": true
   },
   "outputs": [
    {
     "data": {
      "text/plain": [
       "['Rs. 9770Rs. 11495(15% OFF)',\n",
       " 'Rs. 9099Rs. 12999(30% OFF)',\n",
       " 'Rs. 9770Rs. 11495(15% OFF)',\n",
       " 'Rs. 7999',\n",
       " 'Rs. 12999',\n",
       " 'Rs. 9260Rs. 10895(15% OFF)',\n",
       " 'Rs. 12999',\n",
       " 'Rs. 7495',\n",
       " 'Rs. 7999',\n",
       " 'Rs. 8599',\n",
       " 'Rs. 7799Rs. 12999(40% OFF)',\n",
       " 'Rs. 9749Rs. 14999(35% OFF)',\n",
       " 'Rs. 7999',\n",
       " 'Rs. 7999Rs. 9999(20% OFF)',\n",
       " 'Rs. 7999',\n",
       " 'Rs. 7999',\n",
       " 'Rs. 7999',\n",
       " 'Rs. 7999',\n",
       " 'Rs. 7224Rs. 8499(15% OFF)',\n",
       " 'Rs. 7799Rs. 12999(40% OFF)',\n",
       " 'Rs. 8999',\n",
       " 'Rs. 8799Rs. 10999(20% OFF)',\n",
       " 'Rs. 7599',\n",
       " 'Rs. 7199Rs. 7999(10% OFF)',\n",
       " 'Rs. 7999',\n",
       " 'Rs. 7199Rs. 8999(20% OFF)',\n",
       " 'Rs. 12999',\n",
       " 'Rs. 7999Rs. 9999(20% OFF)',\n",
       " 'Rs. 7999Rs. 9999(20% OFF)',\n",
       " 'Rs. 9999',\n",
       " 'Rs. 10500Rs. 10900(Rs. 400 OFF)',\n",
       " 'Rs. 9999',\n",
       " 'Rs. 10710Rs. 11900(Rs. 1190 OFF)',\n",
       " 'Rs. 8399Rs. 11999(30% OFF)',\n",
       " 'Rs. 7699',\n",
       " 'Rs. 7199Rs. 8999(20% OFF)',\n",
       " 'Rs. 7999',\n",
       " 'Rs. 9999',\n",
       " 'Rs. 8990',\n",
       " 'Rs. 9999',\n",
       " 'Rs. 11473Rs. 14900(23% OFF)',\n",
       " 'Rs. 12325Rs. 14500(15% OFF)',\n",
       " 'Rs. 7499',\n",
       " 'Rs. 7149Rs. 10999(35% OFF)',\n",
       " 'Rs. 9999',\n",
       " 'Rs. 7199Rs. 8999(20% OFF)',\n",
       " 'Rs. 8500',\n",
       " 'Rs. 8490',\n",
       " 'Rs. 8490',\n",
       " 'Rs. 10791Rs. 11990(10% OFF)']"
      ]
     },
     "execution_count": 400,
     "metadata": {},
     "output_type": "execute_result"
    }
   ],
   "source": [
    "price = driver.find_elements_by_xpath('//div[@class=\"product-price\"]')\n",
    "\n",
    "shoe_price = []\n",
    "\n",
    "for i in price:\n",
    "    shoe_price.append(i.text)\n",
    "\n",
    "shoe_price"
   ]
  },
  {
   "cell_type": "code",
   "execution_count": 401,
   "id": "e2b35747",
   "metadata": {},
   "outputs": [
    {
     "data": {
      "text/plain": [
       "(50, 50, 50)"
      ]
     },
     "execution_count": 401,
     "metadata": {},
     "output_type": "execute_result"
    }
   ],
   "source": [
    "len(brand_name),len(shoe_des), len(shoe_price)"
   ]
  },
  {
   "cell_type": "code",
   "execution_count": 402,
   "id": "815d11f5",
   "metadata": {
    "collapsed": true
   },
   "outputs": [
    {
     "data": {
      "text/html": [
       "<div>\n",
       "<style scoped>\n",
       "    .dataframe tbody tr th:only-of-type {\n",
       "        vertical-align: middle;\n",
       "    }\n",
       "\n",
       "    .dataframe tbody tr th {\n",
       "        vertical-align: top;\n",
       "    }\n",
       "\n",
       "    .dataframe thead th {\n",
       "        text-align: right;\n",
       "    }\n",
       "</style>\n",
       "<table border=\"1\" class=\"dataframe\">\n",
       "  <thead>\n",
       "    <tr style=\"text-align: right;\">\n",
       "      <th></th>\n",
       "      <th>\"Brand\"</th>\n",
       "      <th>Description</th>\n",
       "      <th>Price</th>\n",
       "    </tr>\n",
       "  </thead>\n",
       "  <tbody>\n",
       "    <tr>\n",
       "      <th>0</th>\n",
       "      <td>Nike</td>\n",
       "      <td>Men AIR ZOOM PEGASUS 38</td>\n",
       "      <td>Rs. 9770Rs. 11495(15% OFF)</td>\n",
       "    </tr>\n",
       "    <tr>\n",
       "      <th>1</th>\n",
       "      <td>ALDO</td>\n",
       "      <td>Men Printed Sneakers</td>\n",
       "      <td>Rs. 9099Rs. 12999(30% OFF)</td>\n",
       "    </tr>\n",
       "    <tr>\n",
       "      <th>2</th>\n",
       "      <td>Nike</td>\n",
       "      <td>Unisex Metcon 7 Training Shoes</td>\n",
       "      <td>Rs. 9770Rs. 11495(15% OFF)</td>\n",
       "    </tr>\n",
       "    <tr>\n",
       "      <th>3</th>\n",
       "      <td>Tommy Hilfiger</td>\n",
       "      <td>Men Leather Sneakers</td>\n",
       "      <td>Rs. 7999</td>\n",
       "    </tr>\n",
       "    <tr>\n",
       "      <th>4</th>\n",
       "      <td>Puma</td>\n",
       "      <td>Men Running Shoes</td>\n",
       "      <td>Rs. 12999</td>\n",
       "    </tr>\n",
       "    <tr>\n",
       "      <th>5</th>\n",
       "      <td>Nike</td>\n",
       "      <td>Men Zoom F3 Basketball Shoes</td>\n",
       "      <td>Rs. 9260Rs. 10895(15% OFF)</td>\n",
       "    </tr>\n",
       "    <tr>\n",
       "      <th>6</th>\n",
       "      <td>Puma</td>\n",
       "      <td>Men Jamming 2.0 Running Shoes</td>\n",
       "      <td>Rs. 12999</td>\n",
       "    </tr>\n",
       "    <tr>\n",
       "      <th>7</th>\n",
       "      <td>Nike</td>\n",
       "      <td>Men Blazer Court Skateboarding</td>\n",
       "      <td>Rs. 7495</td>\n",
       "    </tr>\n",
       "    <tr>\n",
       "      <th>8</th>\n",
       "      <td>Tommy Hilfiger</td>\n",
       "      <td>Men Leather Sneakers</td>\n",
       "      <td>Rs. 7999</td>\n",
       "    </tr>\n",
       "    <tr>\n",
       "      <th>9</th>\n",
       "      <td>Tommy Hilfiger</td>\n",
       "      <td>Men Textured Loafers</td>\n",
       "      <td>Rs. 8599</td>\n",
       "    </tr>\n",
       "    <tr>\n",
       "      <th>10</th>\n",
       "      <td>Puma</td>\n",
       "      <td>Men Magnify Nitro Running</td>\n",
       "      <td>Rs. 7799Rs. 12999(40% OFF)</td>\n",
       "    </tr>\n",
       "    <tr>\n",
       "      <th>11</th>\n",
       "      <td>Puma</td>\n",
       "      <td>Men Deviate Nitro Running Shoe</td>\n",
       "      <td>Rs. 9749Rs. 14999(35% OFF)</td>\n",
       "    </tr>\n",
       "    <tr>\n",
       "      <th>12</th>\n",
       "      <td>Tommy Hilfiger</td>\n",
       "      <td>Men Leather Sneakers</td>\n",
       "      <td>Rs. 7999</td>\n",
       "    </tr>\n",
       "    <tr>\n",
       "      <th>13</th>\n",
       "      <td>New Balance</td>\n",
       "      <td>Men Woven Design Running Shoes</td>\n",
       "      <td>Rs. 7999Rs. 9999(20% OFF)</td>\n",
       "    </tr>\n",
       "    <tr>\n",
       "      <th>14</th>\n",
       "      <td>RARE RABBIT</td>\n",
       "      <td>Men Leather Slip-On Sneakers</td>\n",
       "      <td>Rs. 7999</td>\n",
       "    </tr>\n",
       "    <tr>\n",
       "      <th>15</th>\n",
       "      <td>ALDO</td>\n",
       "      <td>Wedge Sandals</td>\n",
       "      <td>Rs. 7999</td>\n",
       "    </tr>\n",
       "    <tr>\n",
       "      <th>16</th>\n",
       "      <td>Puma</td>\n",
       "      <td>Men Training or Gym Shoes</td>\n",
       "      <td>Rs. 7999</td>\n",
       "    </tr>\n",
       "    <tr>\n",
       "      <th>17</th>\n",
       "      <td>PUMA Motorsport</td>\n",
       "      <td>Unisex Ferrari Drift8 Sneakers</td>\n",
       "      <td>Rs. 7999</td>\n",
       "    </tr>\n",
       "    <tr>\n",
       "      <th>18</th>\n",
       "      <td>Skechers</td>\n",
       "      <td>Men Go Run Hyper Burst Running</td>\n",
       "      <td>Rs. 7224Rs. 8499(15% OFF)</td>\n",
       "    </tr>\n",
       "    <tr>\n",
       "      <th>19</th>\n",
       "      <td>Puma</td>\n",
       "      <td>Women Magnify Nitro Shoes</td>\n",
       "      <td>Rs. 7799Rs. 12999(40% OFF)</td>\n",
       "    </tr>\n",
       "    <tr>\n",
       "      <th>20</th>\n",
       "      <td>Hush Puppies</td>\n",
       "      <td>Men Solid Leather Formal Slip-Ons</td>\n",
       "      <td>Rs. 8999</td>\n",
       "    </tr>\n",
       "    <tr>\n",
       "      <th>21</th>\n",
       "      <td>New Balance</td>\n",
       "      <td>Men Woven Design Running Shoes</td>\n",
       "      <td>Rs. 8799Rs. 10999(20% OFF)</td>\n",
       "    </tr>\n",
       "    <tr>\n",
       "      <th>22</th>\n",
       "      <td>Tommy Hilfiger</td>\n",
       "      <td>Leather Sandals</td>\n",
       "      <td>Rs. 7599</td>\n",
       "    </tr>\n",
       "    <tr>\n",
       "      <th>23</th>\n",
       "      <td>Reebok</td>\n",
       "      <td>Men Astroride Forever Running</td>\n",
       "      <td>Rs. 7199Rs. 7999(10% OFF)</td>\n",
       "    </tr>\n",
       "    <tr>\n",
       "      <th>24</th>\n",
       "      <td>Hush Puppies</td>\n",
       "      <td>Men Perforations Leather Slip-On Sneakers</td>\n",
       "      <td>Rs. 7999</td>\n",
       "    </tr>\n",
       "    <tr>\n",
       "      <th>25</th>\n",
       "      <td>Bugatti</td>\n",
       "      <td>Men Black Walking Shoes</td>\n",
       "      <td>Rs. 7199Rs. 8999(20% OFF)</td>\n",
       "    </tr>\n",
       "    <tr>\n",
       "      <th>26</th>\n",
       "      <td>Puma</td>\n",
       "      <td>Women Eternity NITRO Shoes</td>\n",
       "      <td>Rs. 12999</td>\n",
       "    </tr>\n",
       "    <tr>\n",
       "      <th>27</th>\n",
       "      <td>New Balance</td>\n",
       "      <td>Men Woven Design Running Shoes</td>\n",
       "      <td>Rs. 7999Rs. 9999(20% OFF)</td>\n",
       "    </tr>\n",
       "    <tr>\n",
       "      <th>28</th>\n",
       "      <td>RARE RABBIT</td>\n",
       "      <td>Men Leather Flat Boots</td>\n",
       "      <td>Rs. 7999Rs. 9999(20% OFF)</td>\n",
       "    </tr>\n",
       "    <tr>\n",
       "      <th>29</th>\n",
       "      <td>Hush Puppies</td>\n",
       "      <td>Men Solid Leather Formal Derbys</td>\n",
       "      <td>Rs. 9999</td>\n",
       "    </tr>\n",
       "    <tr>\n",
       "      <th>30</th>\n",
       "      <td>Saint G</td>\n",
       "      <td>Men Mid-Top Chelsea Boots</td>\n",
       "      <td>Rs. 10500Rs. 10900(Rs. 400 OFF)</td>\n",
       "    </tr>\n",
       "    <tr>\n",
       "      <th>31</th>\n",
       "      <td>ASICS</td>\n",
       "      <td>Men Colourblocked PU Sneakers</td>\n",
       "      <td>Rs. 9999</td>\n",
       "    </tr>\n",
       "    <tr>\n",
       "      <th>32</th>\n",
       "      <td>Saint G</td>\n",
       "      <td>Men Leather Chelsea Boots</td>\n",
       "      <td>Rs. 10710Rs. 11900(Rs. 1190 OFF)</td>\n",
       "    </tr>\n",
       "    <tr>\n",
       "      <th>33</th>\n",
       "      <td>Bugatti</td>\n",
       "      <td>Men Textured Leather High-Top Flat Boots</td>\n",
       "      <td>Rs. 8399Rs. 11999(30% OFF)</td>\n",
       "    </tr>\n",
       "    <tr>\n",
       "      <th>34</th>\n",
       "      <td>Xtep</td>\n",
       "      <td>Men Running Shoes</td>\n",
       "      <td>Rs. 7699</td>\n",
       "    </tr>\n",
       "    <tr>\n",
       "      <th>35</th>\n",
       "      <td>Bugatti</td>\n",
       "      <td>Men Walking Shoes</td>\n",
       "      <td>Rs. 7199Rs. 8999(20% OFF)</td>\n",
       "    </tr>\n",
       "    <tr>\n",
       "      <th>36</th>\n",
       "      <td>Hush Puppies</td>\n",
       "      <td>Men Leather Derbys</td>\n",
       "      <td>Rs. 7999</td>\n",
       "    </tr>\n",
       "    <tr>\n",
       "      <th>37</th>\n",
       "      <td>Hush Puppies</td>\n",
       "      <td>Men Formal Derbys</td>\n",
       "      <td>Rs. 9999</td>\n",
       "    </tr>\n",
       "    <tr>\n",
       "      <th>38</th>\n",
       "      <td>DAVINCHI</td>\n",
       "      <td>Ustraa black</td>\n",
       "      <td>Rs. 8990</td>\n",
       "    </tr>\n",
       "    <tr>\n",
       "      <th>39</th>\n",
       "      <td>Hush Puppies</td>\n",
       "      <td>Men Solid Formal Slip-Ons</td>\n",
       "      <td>Rs. 9999</td>\n",
       "    </tr>\n",
       "    <tr>\n",
       "      <th>40</th>\n",
       "      <td>Saint G</td>\n",
       "      <td>Women Leather Heeled Boots</td>\n",
       "      <td>Rs. 11473Rs. 14900(23% OFF)</td>\n",
       "    </tr>\n",
       "    <tr>\n",
       "      <th>41</th>\n",
       "      <td>Saint G</td>\n",
       "      <td>Women Leather Heeled Boots</td>\n",
       "      <td>Rs. 12325Rs. 14500(15% OFF)</td>\n",
       "    </tr>\n",
       "    <tr>\n",
       "      <th>42</th>\n",
       "      <td>Clarks</td>\n",
       "      <td>Men Leather Formal Loafers</td>\n",
       "      <td>Rs. 7499</td>\n",
       "    </tr>\n",
       "    <tr>\n",
       "      <th>43</th>\n",
       "      <td>Puma</td>\n",
       "      <td>Women Velocity NITRO Runners</td>\n",
       "      <td>Rs. 7149Rs. 10999(35% OFF)</td>\n",
       "    </tr>\n",
       "    <tr>\n",
       "      <th>44</th>\n",
       "      <td>Geox</td>\n",
       "      <td>Men Leather Driving Shoes</td>\n",
       "      <td>Rs. 9999</td>\n",
       "    </tr>\n",
       "    <tr>\n",
       "      <th>45</th>\n",
       "      <td>New Balance</td>\n",
       "      <td>Women Woven Running Shoes</td>\n",
       "      <td>Rs. 7199Rs. 8999(20% OFF)</td>\n",
       "    </tr>\n",
       "    <tr>\n",
       "      <th>46</th>\n",
       "      <td>Royal Enfield</td>\n",
       "      <td>Cabo WP Riding Boots</td>\n",
       "      <td>Rs. 8500</td>\n",
       "    </tr>\n",
       "    <tr>\n",
       "      <th>47</th>\n",
       "      <td>J.FONTINI</td>\n",
       "      <td>Men Textured Leather Loafers</td>\n",
       "      <td>Rs. 8490</td>\n",
       "    </tr>\n",
       "    <tr>\n",
       "      <th>48</th>\n",
       "      <td>J.FONTINI</td>\n",
       "      <td>Men Black Leather Loafers</td>\n",
       "      <td>Rs. 8490</td>\n",
       "    </tr>\n",
       "    <tr>\n",
       "      <th>49</th>\n",
       "      <td>Heel &amp; Buckle London</td>\n",
       "      <td>Men Solid Leather Formal Loafers</td>\n",
       "      <td>Rs. 10791Rs. 11990(10% OFF)</td>\n",
       "    </tr>\n",
       "  </tbody>\n",
       "</table>\n",
       "</div>"
      ],
      "text/plain": [
       "                 \"Brand\"                                Description  \\\n",
       "0                   Nike                    Men AIR ZOOM PEGASUS 38   \n",
       "1                   ALDO                       Men Printed Sneakers   \n",
       "2                   Nike             Unisex Metcon 7 Training Shoes   \n",
       "3         Tommy Hilfiger                       Men Leather Sneakers   \n",
       "4                   Puma                          Men Running Shoes   \n",
       "5                   Nike               Men Zoom F3 Basketball Shoes   \n",
       "6                   Puma              Men Jamming 2.0 Running Shoes   \n",
       "7                   Nike             Men Blazer Court Skateboarding   \n",
       "8         Tommy Hilfiger                       Men Leather Sneakers   \n",
       "9         Tommy Hilfiger                       Men Textured Loafers   \n",
       "10                  Puma                  Men Magnify Nitro Running   \n",
       "11                  Puma             Men Deviate Nitro Running Shoe   \n",
       "12        Tommy Hilfiger                       Men Leather Sneakers   \n",
       "13           New Balance             Men Woven Design Running Shoes   \n",
       "14           RARE RABBIT               Men Leather Slip-On Sneakers   \n",
       "15                  ALDO                              Wedge Sandals   \n",
       "16                  Puma                  Men Training or Gym Shoes   \n",
       "17       PUMA Motorsport             Unisex Ferrari Drift8 Sneakers   \n",
       "18              Skechers             Men Go Run Hyper Burst Running   \n",
       "19                  Puma                  Women Magnify Nitro Shoes   \n",
       "20          Hush Puppies          Men Solid Leather Formal Slip-Ons   \n",
       "21           New Balance             Men Woven Design Running Shoes   \n",
       "22        Tommy Hilfiger                            Leather Sandals   \n",
       "23                Reebok              Men Astroride Forever Running   \n",
       "24          Hush Puppies  Men Perforations Leather Slip-On Sneakers   \n",
       "25               Bugatti                    Men Black Walking Shoes   \n",
       "26                  Puma                 Women Eternity NITRO Shoes   \n",
       "27           New Balance             Men Woven Design Running Shoes   \n",
       "28           RARE RABBIT                     Men Leather Flat Boots   \n",
       "29          Hush Puppies            Men Solid Leather Formal Derbys   \n",
       "30               Saint G                  Men Mid-Top Chelsea Boots   \n",
       "31                 ASICS              Men Colourblocked PU Sneakers   \n",
       "32               Saint G                  Men Leather Chelsea Boots   \n",
       "33               Bugatti   Men Textured Leather High-Top Flat Boots   \n",
       "34                  Xtep                          Men Running Shoes   \n",
       "35               Bugatti                          Men Walking Shoes   \n",
       "36          Hush Puppies                         Men Leather Derbys   \n",
       "37          Hush Puppies                          Men Formal Derbys   \n",
       "38              DAVINCHI                               Ustraa black   \n",
       "39          Hush Puppies                  Men Solid Formal Slip-Ons   \n",
       "40               Saint G                 Women Leather Heeled Boots   \n",
       "41               Saint G                 Women Leather Heeled Boots   \n",
       "42                Clarks                 Men Leather Formal Loafers   \n",
       "43                  Puma               Women Velocity NITRO Runners   \n",
       "44                  Geox                  Men Leather Driving Shoes   \n",
       "45           New Balance                  Women Woven Running Shoes   \n",
       "46         Royal Enfield                       Cabo WP Riding Boots   \n",
       "47             J.FONTINI               Men Textured Leather Loafers   \n",
       "48             J.FONTINI                  Men Black Leather Loafers   \n",
       "49  Heel & Buckle London           Men Solid Leather Formal Loafers   \n",
       "\n",
       "                               Price  \n",
       "0         Rs. 9770Rs. 11495(15% OFF)  \n",
       "1         Rs. 9099Rs. 12999(30% OFF)  \n",
       "2         Rs. 9770Rs. 11495(15% OFF)  \n",
       "3                           Rs. 7999  \n",
       "4                          Rs. 12999  \n",
       "5         Rs. 9260Rs. 10895(15% OFF)  \n",
       "6                          Rs. 12999  \n",
       "7                           Rs. 7495  \n",
       "8                           Rs. 7999  \n",
       "9                           Rs. 8599  \n",
       "10        Rs. 7799Rs. 12999(40% OFF)  \n",
       "11        Rs. 9749Rs. 14999(35% OFF)  \n",
       "12                          Rs. 7999  \n",
       "13         Rs. 7999Rs. 9999(20% OFF)  \n",
       "14                          Rs. 7999  \n",
       "15                          Rs. 7999  \n",
       "16                          Rs. 7999  \n",
       "17                          Rs. 7999  \n",
       "18         Rs. 7224Rs. 8499(15% OFF)  \n",
       "19        Rs. 7799Rs. 12999(40% OFF)  \n",
       "20                          Rs. 8999  \n",
       "21        Rs. 8799Rs. 10999(20% OFF)  \n",
       "22                          Rs. 7599  \n",
       "23         Rs. 7199Rs. 7999(10% OFF)  \n",
       "24                          Rs. 7999  \n",
       "25         Rs. 7199Rs. 8999(20% OFF)  \n",
       "26                         Rs. 12999  \n",
       "27         Rs. 7999Rs. 9999(20% OFF)  \n",
       "28         Rs. 7999Rs. 9999(20% OFF)  \n",
       "29                          Rs. 9999  \n",
       "30   Rs. 10500Rs. 10900(Rs. 400 OFF)  \n",
       "31                          Rs. 9999  \n",
       "32  Rs. 10710Rs. 11900(Rs. 1190 OFF)  \n",
       "33        Rs. 8399Rs. 11999(30% OFF)  \n",
       "34                          Rs. 7699  \n",
       "35         Rs. 7199Rs. 8999(20% OFF)  \n",
       "36                          Rs. 7999  \n",
       "37                          Rs. 9999  \n",
       "38                          Rs. 8990  \n",
       "39                          Rs. 9999  \n",
       "40       Rs. 11473Rs. 14900(23% OFF)  \n",
       "41       Rs. 12325Rs. 14500(15% OFF)  \n",
       "42                          Rs. 7499  \n",
       "43        Rs. 7149Rs. 10999(35% OFF)  \n",
       "44                          Rs. 9999  \n",
       "45         Rs. 7199Rs. 8999(20% OFF)  \n",
       "46                          Rs. 8500  \n",
       "47                          Rs. 8490  \n",
       "48                          Rs. 8490  \n",
       "49       Rs. 10791Rs. 11990(10% OFF)  "
      ]
     },
     "execution_count": 402,
     "metadata": {},
     "output_type": "execute_result"
    }
   ],
   "source": [
    "df = pd.DataFrame({'\"Brand\"': brand_name,\"Description\": shoe_des, 'Price': shoe_price})\n",
    "df"
   ]
  },
  {
   "cell_type": "code",
   "execution_count": null,
   "id": "72c4d9bb",
   "metadata": {},
   "outputs": [],
   "source": []
  },
  {
   "cell_type": "markdown",
   "id": "4b8fe95c",
   "metadata": {},
   "source": [
    "Q8: Go to webpage https://www.amazon.in/\n",
    "Enter “Laptop” in the search field and then click the search icon.\n",
    "Then set CPU Type filter to “Intel Core i7” and “Intel Core i9” as shown in the below image\n",
    "After setting the filters scrape first 10 laptops data. You have to scrape 3 attributesfor each laptop:\n",
    "1. Title\n",
    "2. Ratings\n",
    "3. Price\n",
    "As shown in the below image as the tick marked attributes"
   ]
  },
  {
   "cell_type": "code",
   "execution_count": 440,
   "id": "61a98a43",
   "metadata": {},
   "outputs": [],
   "source": [
    "driver = webdriver.Chrome(r'C:\\Users\\DELL\\Downloads\\chromedriver_win32\\chromedriver.exe')\n",
    "url = 'https://www.amazon.in/'\n",
    "driver.get(url)"
   ]
  },
  {
   "cell_type": "code",
   "execution_count": 441,
   "id": "d551e1ce",
   "metadata": {},
   "outputs": [
    {
     "data": {
      "text/plain": [
       "<selenium.webdriver.remote.webelement.WebElement (session=\"8989e1f7acf48e673cf67e0f1eed41e1\", element=\"3dc6e6db-cb95-47f4-8025-aa376e0b9a1d\")>"
      ]
     },
     "execution_count": 441,
     "metadata": {},
     "output_type": "execute_result"
    }
   ],
   "source": [
    "search_icon = driver.find_element_by_xpath('//input[@type=\"text\"]')\n",
    "search_icon"
   ]
  },
  {
   "cell_type": "code",
   "execution_count": 442,
   "id": "45f274a4",
   "metadata": {},
   "outputs": [],
   "source": [
    "search_icon.send_keys(\"Laptop\")"
   ]
  },
  {
   "cell_type": "code",
   "execution_count": 443,
   "id": "15c870a3",
   "metadata": {},
   "outputs": [],
   "source": [
    "search_btn = driver.find_element_by_xpath('//input[@id=\"nav-search-submit-button\"]')\n",
    "search_btn\n",
    "search_btn.click()"
   ]
  },
  {
   "cell_type": "code",
   "execution_count": 444,
   "id": "83e749a7",
   "metadata": {},
   "outputs": [],
   "source": [
    "CPUType_check = driver.find_element_by_xpath('/html/body/div[1]/div[2]/div[1]/div[2]/div/div[3]/span/div[1]/div/div/div[6]/ul[3]/li[13]/span/a/div/label/i')\n",
    "CPUType_check.click()"
   ]
  },
  {
   "cell_type": "markdown",
   "id": "8bf920c5",
   "metadata": {},
   "source": [
    "### Extracting Data"
   ]
  },
  {
   "cell_type": "code",
   "execution_count": 445,
   "id": "a15da08c",
   "metadata": {
    "collapsed": true
   },
   "outputs": [
    {
     "data": {
      "text/plain": [
       "['ASUS TUF Gaming F15 (2021), 15.6\" (39.62 cms) FHD 240Hz, Intel Core i9-11900H 11th Gen, GeForce RTX 3060 6GB Graphics, Gaming Laptop(16GB/1TB SSD/Office 2019/Windows 10/Gray/2.3 Kg), FX566HM-AZ096TS',\n",
       " 'ASUS TUF Gaming F15 (2021), 15.6-inch (39.62 cms) FHD 240Hz/3ms, Intel Core i9-11900H 11th Gen, RTX 3060 6GB Graphics Gaming Laptop (16GB/1TB SSD/Office 2019/Windows 10/Black/2.3 kg), FX506HM-AZ099TS',\n",
       " 'ASUS TUF Gaming F15 (2021), 15.6-inch (39.62 cms) FHD 144Hz, Intel Core i9-11900H 11th Gen, RTX 3060 6GB Graphics Gaming Laptop (16GB RAM/1TB SSD/Office 2019/Windows 10/Gray/2.3 kg), FX566HM-HN097TS',\n",
       " 'HP ZBOOK Power G8/ Intel core i9-11900H 8 Core/32GB DDR4 3200 RAM/1TB PCIe NVMe TLC SSD /15.6” FHD /Nvidia Quadro T1200 Dedicated Graphics 4GB DDR6 /Windows 10 Pro / 3 Year Warranty',\n",
       " '(Renewed) Dell G7 7500 15.6inch FHD 300 Hz Display Gaming Laptop (10th Gen i9-10885H / 16 GB / 1TB SSD / NVIDIA RTX 2070 8GB Graphics / 1Yr Premium Warranty / Win 10 + MS Office H&S 2019) D560233WIN9B, Black',\n",
       " '(Renewed) DELL XPS 7590 15.6-inch UHD Display Laptop (9th Gen Core i9-9980HK/32GB/1TB SSD/Win 10 + MS Office/4GB Nvidia Graphics), Abyss Grey',\n",
       " 'HP Zbook - Intel i9, 15 inch(39.6 cm)FHD 400 Nits Display, Thin & Light , Anti-Glare(32GB RAM/1TB M.2 SSD/Nvidia RTX A2000 4GB Graphics/Win10 Pro/IR Camera/ HP Zbook Power G8 Mobile Workstation',\n",
       " 'Dell Precision 5550 || i9 -10885H || 16GB || 1TB NVMe || T2000 4 GB || Win 10 Pro (Free Upgrade Win 11Pro) / 15.6 FHD+ / 3 Year ADP',\n",
       " 'Z2 G5 Workstation 700W /Core i9-10900 (2.8GHz 10C) /16GB RAM/512GB SSD+1TB SATA/Nvidia RTX 3070 8GB Graphics/DVDRW/Windows 10 Pro/3 Year Warranty']"
      ]
     },
     "execution_count": 445,
     "metadata": {},
     "output_type": "execute_result"
    }
   ],
   "source": [
    "title = driver.find_elements_by_xpath('//a[@class=\"a-link-normal s-underline-text s-underline-link-text s-link-style a-text-normal\"]')\n",
    "\n",
    "brand_name = []\n",
    "\n",
    "for i in title:\n",
    "    brand_name.append(i.text)\n",
    "\n",
    "brand_name"
   ]
  },
  {
   "cell_type": "code",
   "execution_count": 447,
   "id": "030e899b",
   "metadata": {},
   "outputs": [
    {
     "data": {
      "text/plain": [
       "['', '', '']"
      ]
     },
     "execution_count": 447,
     "metadata": {},
     "output_type": "execute_result"
    }
   ],
   "source": [
    "pro_rating = driver.find_elements_by_xpath('//a[@class=\"a-popover-trigger a-declarative\"]')\n",
    "\n",
    "rating = []\n",
    "\n",
    "for i in pro_rating:\n",
    "    rating.append(i.text)\n",
    "\n",
    "rating"
   ]
  },
  {
   "cell_type": "code",
   "execution_count": 448,
   "id": "54f883b8",
   "metadata": {
    "collapsed": true
   },
   "outputs": [
    {
     "data": {
      "text/plain": [
       "['1,44,990',\n",
       " '1,43,990',\n",
       " '1,39,990',\n",
       " '2,45,000',\n",
       " '2,25,000',\n",
       " '1,75,000',\n",
       " '2,54,563',\n",
       " '2,39,000']"
      ]
     },
     "execution_count": 448,
     "metadata": {},
     "output_type": "execute_result"
    }
   ],
   "source": [
    "price = driver.find_elements_by_xpath('//span[@class=\"a-price-whole\"]')\n",
    "\n",
    "pro_price = []\n",
    "\n",
    "for i in price:\n",
    "    pro_price.append(i.text)\n",
    "\n",
    "pro_price"
   ]
  },
  {
   "cell_type": "code",
   "execution_count": null,
   "id": "db1a829c",
   "metadata": {},
   "outputs": [],
   "source": []
  },
  {
   "cell_type": "markdown",
   "id": "502b5f2d",
   "metadata": {},
   "source": [
    "Q9: Write a python program to scrape data for first 10 job results for Data Scientist Designation in Noida\n",
    "location. You have to scrape company name, No. of days ago when job was posted, Rating of the company.\n",
    "This task will be done in following steps:\n",
    "1. First get the webpage https://www.ambitionbox.com/\n",
    "2. Click on the Job option as shown in the image\n",
    "3. After reaching to the next webpage, In place of “Search by Designations, Companies, Skills” enter “Data Scientist” and click on search button\n",
    "4. You will reach to the following web page click on location and in place of “Search location” enter “Noida” and select location “Noida”.\n",
    "5. Then scrape the data for the first 10 jobs results you get on the above shown page.\n",
    "6. Finally create a dataframe of the scraped data"
   ]
  },
  {
   "cell_type": "code",
   "execution_count": 90,
   "id": "54cdd5dd",
   "metadata": {},
   "outputs": [],
   "source": [
    "driver = webdriver.Chrome(r'C:\\Users\\DELL\\Downloads\\chromedriver_win32\\chromedriver.exe')\n",
    "url = 'https://www.ambitionbox.com/'\n",
    "driver.get(url)"
   ]
  },
  {
   "cell_type": "code",
   "execution_count": 91,
   "id": "984727c8",
   "metadata": {},
   "outputs": [
    {
     "data": {
      "text/plain": [
       "<selenium.webdriver.remote.webelement.WebElement (session=\"15401b6be81e6228f1cc15ed146f8402\", element=\"3213195a-59fa-4885-bb14-f040003b55ce\")>"
      ]
     },
     "execution_count": 91,
     "metadata": {},
     "output_type": "execute_result"
    }
   ],
   "source": [
    "job_tab = driver.find_element_by_xpath('/html/body/div[1]/nav/nav/a[6]')\n",
    "job_tab"
   ]
  },
  {
   "cell_type": "code",
   "execution_count": 92,
   "id": "1af88689",
   "metadata": {
    "scrolled": true
   },
   "outputs": [],
   "source": [
    "job_tab.click()"
   ]
  },
  {
   "cell_type": "code",
   "execution_count": 93,
   "id": "83fb15b5",
   "metadata": {},
   "outputs": [
    {
     "data": {
      "text/plain": [
       "<selenium.webdriver.remote.webelement.WebElement (session=\"15401b6be81e6228f1cc15ed146f8402\", element=\"c4e0b17a-a87c-410a-bb71-2091381cfd51\")>"
      ]
     },
     "execution_count": 93,
     "metadata": {},
     "output_type": "execute_result"
    }
   ],
   "source": [
    "search_icon = driver.find_element_by_xpath('/html/body/div/div/div/div[2]/div[1]/div/div/div/div/span/input')\n",
    "search_icon"
   ]
  },
  {
   "cell_type": "code",
   "execution_count": 94,
   "id": "b43bd5b3",
   "metadata": {},
   "outputs": [],
   "source": [
    "search_icon.send_keys(\"Data Scientist\")"
   ]
  },
  {
   "cell_type": "code",
   "execution_count": 95,
   "id": "25b09c75",
   "metadata": {},
   "outputs": [],
   "source": [
    "search_btn = driver.find_element_by_xpath('/html/body/div/div/div/div[2]/div[1]/div/div/div/button/span')\n",
    "search_btn\n",
    "search_btn.click()"
   ]
  },
  {
   "cell_type": "code",
   "execution_count": 96,
   "id": "79f67ff0",
   "metadata": {},
   "outputs": [],
   "source": [
    "search_locn = driver.find_element_by_xpath('/html/body/div/div/div/div[2]/div[2]/div[1]/div/div/div/div[2]/div[1]/p')\n",
    "search_locn\n",
    "search_locn.click()"
   ]
  },
  {
   "cell_type": "code",
   "execution_count": 97,
   "id": "4e43829a",
   "metadata": {},
   "outputs": [
    {
     "data": {
      "text/plain": [
       "<selenium.webdriver.remote.webelement.WebElement (session=\"15401b6be81e6228f1cc15ed146f8402\", element=\"7cd826d5-cb66-4713-b177-5c6f4e8d6f91\")>"
      ]
     },
     "execution_count": 97,
     "metadata": {},
     "output_type": "execute_result"
    }
   ],
   "source": [
    "search_locn = driver.find_element_by_xpath('/html/body/div/div/div/div[2]/div[2]/div[1]/div/div/div/div[2]/div[2]/div/div[2]/input')\n",
    "search_locn"
   ]
  },
  {
   "cell_type": "code",
   "execution_count": 98,
   "id": "b5c7e1d1",
   "metadata": {},
   "outputs": [],
   "source": [
    "search_locn.send_keys(\"Noida\")"
   ]
  },
  {
   "cell_type": "code",
   "execution_count": 99,
   "id": "fc3d1c94",
   "metadata": {},
   "outputs": [],
   "source": [
    "locn_check = driver.find_element_by_xpath('/html/body/div/div/div/div[2]/div[2]/div[1]/div/div/div/div[2]/div[2]/div/div[3]/div[1]/div[1]/div/input')\n",
    "locn_check.click()"
   ]
  },
  {
   "cell_type": "markdown",
   "id": "81735cd9",
   "metadata": {},
   "source": [
    "### Extracting job titles, Location, Company Names and Experience"
   ]
  },
  {
   "cell_type": "code",
   "execution_count": 100,
   "id": "74caa7d9",
   "metadata": {},
   "outputs": [
    {
     "data": {
      "text/plain": [
       "['Data Scientist',\n",
       " 'Urgent Requirement || Data Scientist || Noida',\n",
       " 'Opportunity | Tavant India',\n",
       " 'Looking For Senior Data Scientist For Denave',\n",
       " 'EY GDS - Assistant Director - Data Science - AI/ML (15-20 yrs)',\n",
       " 'Lead Assistant Manager',\n",
       " 'Data Scientist | Data Engineer | Machine Learning',\n",
       " 'Data Scientist - Machine Learning (5-14 yrs)',\n",
       " 'Manager Data Scientist',\n",
       " 'Data Scientist']"
      ]
     },
     "execution_count": 100,
     "metadata": {},
     "output_type": "execute_result"
    }
   ],
   "source": [
    "title_tags = driver.find_elements_by_xpath('//a[@class=\"title noclick\"]')\n",
    "\n",
    "job_titles = []\n",
    "\n",
    "for i in title_tags:\n",
    "    job_titles.append(i.text)\n",
    "\n",
    "job_titles\n"
   ]
  },
  {
   "cell_type": "code",
   "execution_count": 101,
   "id": "65467111",
   "metadata": {},
   "outputs": [
    {
     "data": {
      "text/plain": [
       "['Noida',\n",
       " 'Noida',\n",
       " 'Delhi NCR, Noida',\n",
       " 'Bengaluru/Bangalore, Hyderabad/Secunderabad, Noida +1 more',\n",
       " 'Noida',\n",
       " 'Bengaluru/Bangalore, Noida, Pune',\n",
       " 'Noida, Gurgaon/Gurugram, Bengaluru/Bangalore +1 more',\n",
       " 'Noida',\n",
       " 'Bengaluru/Bangalore, Noida',\n",
       " 'Noida',\n",
       " 'Noida']"
      ]
     },
     "execution_count": 101,
     "metadata": {},
     "output_type": "execute_result"
    }
   ],
   "source": [
    "locn_tags = driver.find_elements_by_xpath('//div[@class=\"entity loc\"]')\n",
    "\n",
    "location = []\n",
    "\n",
    "for i in locn_tags:\n",
    "    location.append(i.text)\n",
    "\n",
    "location\n"
   ]
  },
  {
   "cell_type": "code",
   "execution_count": 102,
   "id": "18702720",
   "metadata": {},
   "outputs": [
    {
     "data": {
      "text/plain": [
       "['Jubilant Foodworks Limited',\n",
       " 'HCL Technologies',\n",
       " 'Tavant Technologies India Pvt. Ltd.',\n",
       " 'Denave India Pvt Ltd.',\n",
       " 'EY GDS',\n",
       " 'EXL Service',\n",
       " 'Pitney Bowes India Pvt ltd',\n",
       " 'Zyoin',\n",
       " 'Ameriprise Financial',\n",
       " 'Jubilant Foodworks Limited']"
      ]
     },
     "execution_count": 102,
     "metadata": {},
     "output_type": "execute_result"
    }
   ],
   "source": [
    "com_tags = driver.find_elements_by_xpath('//p[@class=\"company body-medium\"]')\n",
    "\n",
    "com_names = []\n",
    "\n",
    "for i in com_tags:\n",
    "    com_names.append(i.text)\n",
    "\n",
    "com_names\n"
   ]
  },
  {
   "cell_type": "code",
   "execution_count": 103,
   "id": "e8df9458",
   "metadata": {},
   "outputs": [
    {
     "data": {
      "text/plain": [
       "['2-5 years\\nNot Disclosed\\nNoida',\n",
       " '2-5 Yrs\\nNot Disclosed\\nNoida\\nData Scientist, Python, MySQL',\n",
       " '3-8 Yrs\\nNot Disclosed\\nDelhi NCR, Noida\\nMachine Learning, Deep Learning, Python +1 more',\n",
       " '4-9 Yrs\\nNot Disclosed\\nBengaluru/Bangalore, Hyderabad/Secunderabad, Noida +1 more\\ndata scientist, Machine Learning, Python',\n",
       " '7-12 Yrs\\n₹ 14-20 LPA\\nNoida\\ndeep learning, python, cnn +7 more',\n",
       " '15-20 Yrs\\nBengaluru/Bangalore, Noida, Pune\\nData Science, Artificial Intelligence, Machine Learning +6 more',\n",
       " '0-5 Yrs\\nNot Disclosed\\nNoida, Gurgaon/Gurugram, Bengaluru/Bangalore +1 more\\nPredictive Analytics, Speech Analytics, OCR +5 more',\n",
       " '4-9 Yrs\\n₹ 10-20 LPA\\nNoida\\nPython, Jupyter, Pyspark +10 more',\n",
       " '5-14 Yrs\\nBengaluru/Bangalore, Noida\\nData Scientist, Data Management, PhD +6 more',\n",
       " '4-6 Yrs\\nNot Disclosed\\nNoida\\nAutomation, Analytics, Asset management +7 more',\n",
       " '3-6 Yrs\\n₹ 30-45 LPA\\nNoida\\nData Science, Deep Learning']"
      ]
     },
     "execution_count": 103,
     "metadata": {},
     "output_type": "execute_result"
    }
   ],
   "source": [
    "job_info = driver.find_elements_by_xpath('//div[@class=\"job-basic-info show-flex\"]')\n",
    "\n",
    "info = []\n",
    "\n",
    "for i in job_info:\n",
    "    info.append(i.text)\n",
    "\n",
    "info\n"
   ]
  },
  {
   "cell_type": "code",
   "execution_count": 104,
   "id": "b7caf433",
   "metadata": {},
   "outputs": [
    {
     "data": {
      "text/plain": [
       "(20, 20, 20, 20)"
      ]
     },
     "execution_count": 104,
     "metadata": {},
     "output_type": "execute_result"
    }
   ],
   "source": [
    "len(job_titles), len(location), len(com_names), len(info)\n",
    "(20, 20, 20, 20)"
   ]
  },
  {
   "cell_type": "code",
   "execution_count": 105,
   "id": "dca5602e",
   "metadata": {
    "collapsed": true
   },
   "outputs": [
    {
     "ename": "ValueError",
     "evalue": "arrays must all be same length",
     "output_type": "error",
     "traceback": [
      "\u001b[1;31m---------------------------------------------------------------------------\u001b[0m",
      "\u001b[1;31mValueError\u001b[0m                                Traceback (most recent call last)",
      "\u001b[1;32m<ipython-input-105-9e89aca66a11>\u001b[0m in \u001b[0;36m<module>\u001b[1;34m\u001b[0m\n\u001b[1;32m----> 1\u001b[1;33m \u001b[0mdf\u001b[0m \u001b[1;33m=\u001b[0m \u001b[0mpd\u001b[0m\u001b[1;33m.\u001b[0m\u001b[0mDataFrame\u001b[0m\u001b[1;33m(\u001b[0m\u001b[1;33m{\u001b[0m\u001b[1;34m'Job Title'\u001b[0m\u001b[1;33m:\u001b[0m \u001b[0mjob_titles\u001b[0m\u001b[1;33m,\u001b[0m \u001b[1;34m'Location'\u001b[0m\u001b[1;33m:\u001b[0m \u001b[0mlocation\u001b[0m\u001b[1;33m,\u001b[0m \u001b[1;34m'Company'\u001b[0m\u001b[1;33m:\u001b[0m \u001b[0mcom_names\u001b[0m\u001b[1;33m,\u001b[0m \u001b[1;34m'Job Info'\u001b[0m\u001b[1;33m:\u001b[0m \u001b[0minfo\u001b[0m\u001b[1;33m}\u001b[0m\u001b[1;33m)\u001b[0m\u001b[1;33m\u001b[0m\u001b[1;33m\u001b[0m\u001b[0m\n\u001b[0m\u001b[0;32m      2\u001b[0m \u001b[0mdf\u001b[0m\u001b[1;33m\u001b[0m\u001b[1;33m\u001b[0m\u001b[0m\n",
      "\u001b[1;32m~\\anaconda3\\lib\\site-packages\\pandas\\core\\frame.py\u001b[0m in \u001b[0;36m__init__\u001b[1;34m(self, data, index, columns, dtype, copy)\u001b[0m\n\u001b[0;32m    527\u001b[0m \u001b[1;33m\u001b[0m\u001b[0m\n\u001b[0;32m    528\u001b[0m         \u001b[1;32melif\u001b[0m \u001b[0misinstance\u001b[0m\u001b[1;33m(\u001b[0m\u001b[0mdata\u001b[0m\u001b[1;33m,\u001b[0m \u001b[0mdict\u001b[0m\u001b[1;33m)\u001b[0m\u001b[1;33m:\u001b[0m\u001b[1;33m\u001b[0m\u001b[1;33m\u001b[0m\u001b[0m\n\u001b[1;32m--> 529\u001b[1;33m             \u001b[0mmgr\u001b[0m \u001b[1;33m=\u001b[0m \u001b[0minit_dict\u001b[0m\u001b[1;33m(\u001b[0m\u001b[0mdata\u001b[0m\u001b[1;33m,\u001b[0m \u001b[0mindex\u001b[0m\u001b[1;33m,\u001b[0m \u001b[0mcolumns\u001b[0m\u001b[1;33m,\u001b[0m \u001b[0mdtype\u001b[0m\u001b[1;33m=\u001b[0m\u001b[0mdtype\u001b[0m\u001b[1;33m)\u001b[0m\u001b[1;33m\u001b[0m\u001b[1;33m\u001b[0m\u001b[0m\n\u001b[0m\u001b[0;32m    530\u001b[0m         \u001b[1;32melif\u001b[0m \u001b[0misinstance\u001b[0m\u001b[1;33m(\u001b[0m\u001b[0mdata\u001b[0m\u001b[1;33m,\u001b[0m \u001b[0mma\u001b[0m\u001b[1;33m.\u001b[0m\u001b[0mMaskedArray\u001b[0m\u001b[1;33m)\u001b[0m\u001b[1;33m:\u001b[0m\u001b[1;33m\u001b[0m\u001b[1;33m\u001b[0m\u001b[0m\n\u001b[0;32m    531\u001b[0m             \u001b[1;32mimport\u001b[0m \u001b[0mnumpy\u001b[0m\u001b[1;33m.\u001b[0m\u001b[0mma\u001b[0m\u001b[1;33m.\u001b[0m\u001b[0mmrecords\u001b[0m \u001b[1;32mas\u001b[0m \u001b[0mmrecords\u001b[0m\u001b[1;33m\u001b[0m\u001b[1;33m\u001b[0m\u001b[0m\n",
      "\u001b[1;32m~\\anaconda3\\lib\\site-packages\\pandas\\core\\internals\\construction.py\u001b[0m in \u001b[0;36minit_dict\u001b[1;34m(data, index, columns, dtype)\u001b[0m\n\u001b[0;32m    285\u001b[0m             \u001b[0marr\u001b[0m \u001b[1;32mif\u001b[0m \u001b[1;32mnot\u001b[0m \u001b[0mis_datetime64tz_dtype\u001b[0m\u001b[1;33m(\u001b[0m\u001b[0marr\u001b[0m\u001b[1;33m)\u001b[0m \u001b[1;32melse\u001b[0m \u001b[0marr\u001b[0m\u001b[1;33m.\u001b[0m\u001b[0mcopy\u001b[0m\u001b[1;33m(\u001b[0m\u001b[1;33m)\u001b[0m \u001b[1;32mfor\u001b[0m \u001b[0marr\u001b[0m \u001b[1;32min\u001b[0m \u001b[0marrays\u001b[0m\u001b[1;33m\u001b[0m\u001b[1;33m\u001b[0m\u001b[0m\n\u001b[0;32m    286\u001b[0m         ]\n\u001b[1;32m--> 287\u001b[1;33m     \u001b[1;32mreturn\u001b[0m \u001b[0marrays_to_mgr\u001b[0m\u001b[1;33m(\u001b[0m\u001b[0marrays\u001b[0m\u001b[1;33m,\u001b[0m \u001b[0mdata_names\u001b[0m\u001b[1;33m,\u001b[0m \u001b[0mindex\u001b[0m\u001b[1;33m,\u001b[0m \u001b[0mcolumns\u001b[0m\u001b[1;33m,\u001b[0m \u001b[0mdtype\u001b[0m\u001b[1;33m=\u001b[0m\u001b[0mdtype\u001b[0m\u001b[1;33m)\u001b[0m\u001b[1;33m\u001b[0m\u001b[1;33m\u001b[0m\u001b[0m\n\u001b[0m\u001b[0;32m    288\u001b[0m \u001b[1;33m\u001b[0m\u001b[0m\n\u001b[0;32m    289\u001b[0m \u001b[1;33m\u001b[0m\u001b[0m\n",
      "\u001b[1;32m~\\anaconda3\\lib\\site-packages\\pandas\\core\\internals\\construction.py\u001b[0m in \u001b[0;36marrays_to_mgr\u001b[1;34m(arrays, arr_names, index, columns, dtype, verify_integrity)\u001b[0m\n\u001b[0;32m     78\u001b[0m         \u001b[1;31m# figure out the index, if necessary\u001b[0m\u001b[1;33m\u001b[0m\u001b[1;33m\u001b[0m\u001b[1;33m\u001b[0m\u001b[0m\n\u001b[0;32m     79\u001b[0m         \u001b[1;32mif\u001b[0m \u001b[0mindex\u001b[0m \u001b[1;32mis\u001b[0m \u001b[1;32mNone\u001b[0m\u001b[1;33m:\u001b[0m\u001b[1;33m\u001b[0m\u001b[1;33m\u001b[0m\u001b[0m\n\u001b[1;32m---> 80\u001b[1;33m             \u001b[0mindex\u001b[0m \u001b[1;33m=\u001b[0m \u001b[0mextract_index\u001b[0m\u001b[1;33m(\u001b[0m\u001b[0marrays\u001b[0m\u001b[1;33m)\u001b[0m\u001b[1;33m\u001b[0m\u001b[1;33m\u001b[0m\u001b[0m\n\u001b[0m\u001b[0;32m     81\u001b[0m         \u001b[1;32melse\u001b[0m\u001b[1;33m:\u001b[0m\u001b[1;33m\u001b[0m\u001b[1;33m\u001b[0m\u001b[0m\n\u001b[0;32m     82\u001b[0m             \u001b[0mindex\u001b[0m \u001b[1;33m=\u001b[0m \u001b[0mensure_index\u001b[0m\u001b[1;33m(\u001b[0m\u001b[0mindex\u001b[0m\u001b[1;33m)\u001b[0m\u001b[1;33m\u001b[0m\u001b[1;33m\u001b[0m\u001b[0m\n",
      "\u001b[1;32m~\\anaconda3\\lib\\site-packages\\pandas\\core\\internals\\construction.py\u001b[0m in \u001b[0;36mextract_index\u001b[1;34m(data)\u001b[0m\n\u001b[0;32m    399\u001b[0m             \u001b[0mlengths\u001b[0m \u001b[1;33m=\u001b[0m \u001b[0mlist\u001b[0m\u001b[1;33m(\u001b[0m\u001b[0mset\u001b[0m\u001b[1;33m(\u001b[0m\u001b[0mraw_lengths\u001b[0m\u001b[1;33m)\u001b[0m\u001b[1;33m)\u001b[0m\u001b[1;33m\u001b[0m\u001b[1;33m\u001b[0m\u001b[0m\n\u001b[0;32m    400\u001b[0m             \u001b[1;32mif\u001b[0m \u001b[0mlen\u001b[0m\u001b[1;33m(\u001b[0m\u001b[0mlengths\u001b[0m\u001b[1;33m)\u001b[0m \u001b[1;33m>\u001b[0m \u001b[1;36m1\u001b[0m\u001b[1;33m:\u001b[0m\u001b[1;33m\u001b[0m\u001b[1;33m\u001b[0m\u001b[0m\n\u001b[1;32m--> 401\u001b[1;33m                 \u001b[1;32mraise\u001b[0m \u001b[0mValueError\u001b[0m\u001b[1;33m(\u001b[0m\u001b[1;34m\"arrays must all be same length\"\u001b[0m\u001b[1;33m)\u001b[0m\u001b[1;33m\u001b[0m\u001b[1;33m\u001b[0m\u001b[0m\n\u001b[0m\u001b[0;32m    402\u001b[0m \u001b[1;33m\u001b[0m\u001b[0m\n\u001b[0;32m    403\u001b[0m             \u001b[1;32mif\u001b[0m \u001b[0mhave_dicts\u001b[0m\u001b[1;33m:\u001b[0m\u001b[1;33m\u001b[0m\u001b[1;33m\u001b[0m\u001b[0m\n",
      "\u001b[1;31mValueError\u001b[0m: arrays must all be same length"
     ]
    }
   ],
   "source": [
    "df = pd.DataFrame({'Job Title': job_titles, 'Location': location, 'Company': com_names, 'Job Info': info})\n",
    "df"
   ]
  },
  {
   "cell_type": "code",
   "execution_count": null,
   "id": "1ddeb078",
   "metadata": {},
   "outputs": [],
   "source": []
  },
  {
   "cell_type": "markdown",
   "id": "b8b18508",
   "metadata": {},
   "source": [
    "Q10: Write a python program to scrape the salary data for Data Scientist designation.\n",
    "You have to scrape Company name, Number of salaries, Average salary, Minsalary, Max Salary.\n",
    "The above task will be, done as shown in the below steps:\n",
    "1. First get the webpage https://www.ambitionbox.com/\n",
    "2. Click on the salaries option as shown in the image.\n",
    "3. After reaching to the following webpage, In place of “Search Job Profile” enters “Data Scientist” and\n",
    "then click on “Data Scientist”.\n",
    "You have to scrape the data ticked in the above image.\n",
    "4. Scrape the data for the first 10 companies. Scrape the company name, total salary record, average\n",
    "salary, minimum salary, maximum salary, experience required.\n",
    "5. Store the data in a dataframe."
   ]
  },
  {
   "cell_type": "code",
   "execution_count": 49,
   "id": "24659971",
   "metadata": {},
   "outputs": [],
   "source": [
    "driver = webdriver.Chrome(r'C:\\Users\\DELL\\Downloads\\chromedriver_win32\\chromedriver.exe')\n",
    "url = 'https://www.ambitionbox.com/'\n",
    "driver.get(url)"
   ]
  },
  {
   "cell_type": "code",
   "execution_count": 50,
   "id": "23c6a791",
   "metadata": {},
   "outputs": [
    {
     "data": {
      "text/plain": [
       "<selenium.webdriver.remote.webelement.WebElement (session=\"d93d309bfba5b582942b4b1088afeb67\", element=\"47ae1707-f271-4b3b-bbaf-517a8321a060\")>"
      ]
     },
     "execution_count": 50,
     "metadata": {},
     "output_type": "execute_result"
    }
   ],
   "source": [
    "sal_tab = driver.find_element_by_xpath('/html/body/div[1]/nav/nav/a[4]')\n",
    "sal_tab"
   ]
  },
  {
   "cell_type": "code",
   "execution_count": 51,
   "id": "eb3e359e",
   "metadata": {},
   "outputs": [],
   "source": [
    "sal_tab.click()"
   ]
  },
  {
   "cell_type": "code",
   "execution_count": 59,
   "id": "dfd2ba6c",
   "metadata": {},
   "outputs": [],
   "source": [
    "job_profile = driver.find_element_by_xpath('/html/body/div/div/div/main/section[1]/div[2]/div[1]/span/input')\n",
    "job_profile\n",
    "job_profile.send_keys(\"Data Scientist\")"
   ]
  },
  {
   "cell_type": "code",
   "execution_count": 62,
   "id": "6017dc05",
   "metadata": {
    "collapsed": true
   },
   "outputs": [
    {
     "data": {
      "text/plain": [
       "['Tekion\\nbased on 10 salaries',\n",
       " 'Microsoft Corporation\\nbased on 227 salaries',\n",
       " 'Goldman Sachs\\nbased on 12 salaries',\n",
       " 'Flipkart\\nbased on 53 salaries',\n",
       " 'PayPal\\nbased on 22 salaries',\n",
       " 'Amazon\\nbased on 89 salaries',\n",
       " 'Servicenow Software Development India\\nbased on 41 salaries',\n",
       " 'Arcesium\\nbased on 48 salaries',\n",
       " 'Walmart\\nbased on 82 salaries',\n",
       " 'ServiceNow\\nbased on 18 salaries']"
      ]
     },
     "execution_count": 62,
     "metadata": {},
     "output_type": "execute_result"
    }
   ],
   "source": [
    "company = driver.find_elements_by_xpath('//div[@class=\"name\"]')\n",
    "\n",
    "com_names = []\n",
    "\n",
    "for i in company:\n",
    "    com_names.append(i.text)\n",
    "\n",
    "com_names\n"
   ]
  },
  {
   "cell_type": "code",
   "execution_count": 64,
   "id": "13eec8d3",
   "metadata": {
    "collapsed": true
   },
   "outputs": [
    {
     "data": {
      "text/plain": [
       "['based on 10 salaries',\n",
       " ' . ',\n",
       " 'based on 227 salaries',\n",
       " ' . ',\n",
       " 'based on 12 salaries',\n",
       " ' . ',\n",
       " 'based on 53 salaries',\n",
       " ' . ',\n",
       " 'based on 22 salaries',\n",
       " ' . ',\n",
       " 'based on 89 salaries',\n",
       " ' . ',\n",
       " 'based on 41 salaries',\n",
       " ' . ',\n",
       " 'based on 48 salaries',\n",
       " ' . ',\n",
       " 'based on 82 salaries',\n",
       " ' . ',\n",
       " 'based on 18 salaries',\n",
       " ' . ']"
      ]
     },
     "execution_count": 64,
     "metadata": {},
     "output_type": "execute_result"
    }
   ],
   "source": [
    "total_sal_rec = driver.find_elements_by_xpath('//span[@data-v-2bae05f7]')\n",
    "\n",
    "sal_rec = []\n",
    "\n",
    "for i in total_sal_rec:\n",
    "    sal_rec.append(i.text)\n",
    "\n",
    "sal_rec\n"
   ]
  },
  {
   "cell_type": "code",
   "execution_count": 69,
   "id": "dbf1d369",
   "metadata": {
    "collapsed": true
   },
   "outputs": [
    {
     "data": {
      "text/plain": [
       "['₹ 23.3L',\n",
       " '₹ 23.1L',\n",
       " '₹ 22.1L',\n",
       " '₹ 20.9L',\n",
       " '₹ 20.0L',\n",
       " '₹ 19.3L',\n",
       " '₹ 19.0L',\n",
       " '₹ 18.4L',\n",
       " '₹ 18.0L',\n",
       " '₹ 17.3L']"
      ]
     },
     "execution_count": 69,
     "metadata": {},
     "output_type": "execute_result"
    }
   ],
   "source": [
    "avg_sal = driver.find_elements_by_xpath('//p[@class=\"averageCtc\"]')\n",
    "\n",
    "a_sal = []\n",
    "\n",
    "for i in avg_sal:\n",
    "    a_sal.append(i.text)\n",
    "\n",
    "a_sal"
   ]
  },
  {
   "cell_type": "code",
   "execution_count": 71,
   "id": "45f9e584",
   "metadata": {
    "collapsed": true
   },
   "outputs": [
    {
     "data": {
      "text/plain": [
       "['₹ 14.0L',\n",
       " '₹ 32.0L',\n",
       " '₹ 13.0L',\n",
       " '₹ 45.0L',\n",
       " '₹ 16.0L',\n",
       " '₹ 30.0L',\n",
       " '₹ 7.5L',\n",
       " '₹ 30.0L',\n",
       " '₹ 12.0L',\n",
       " '₹ 28.4L',\n",
       " '₹ 8.0L',\n",
       " '₹ 41.5L',\n",
       " '₹ 12.0L',\n",
       " '₹ 25.8L',\n",
       " '₹ 12.0L',\n",
       " '₹ 30.0L',\n",
       " '₹ 10.0L',\n",
       " '₹ 32.0L',\n",
       " '₹ 11.0L',\n",
       " '₹ 23.0L']"
      ]
     },
     "execution_count": 71,
     "metadata": {},
     "output_type": "execute_result"
    }
   ],
   "source": [
    "min_max_sal = driver.find_elements_by_xpath('//div[@class=\"value body-medium\"]')\n",
    "\n",
    "m_sal = []\n",
    "\n",
    "for i in min_max_sal:\n",
    "    m_sal.append(i.text)\n",
    "\n",
    "m_sal"
   ]
  },
  {
   "cell_type": "code",
   "execution_count": null,
   "id": "9058e1d9",
   "metadata": {},
   "outputs": [],
   "source": []
  },
  {
   "cell_type": "code",
   "execution_count": 73,
   "id": "512ea5fb",
   "metadata": {},
   "outputs": [
    {
     "data": {
      "text/plain": [
       "(10, 20, 10, 20)"
      ]
     },
     "execution_count": 73,
     "metadata": {},
     "output_type": "execute_result"
    }
   ],
   "source": [
    "len(com_names), len(sal_rec), len(a_sal), len(m_sal)"
   ]
  },
  {
   "cell_type": "code",
   "execution_count": 75,
   "id": "9244fa4d",
   "metadata": {},
   "outputs": [
    {
     "data": {
      "text/html": [
       "<div>\n",
       "<style scoped>\n",
       "    .dataframe tbody tr th:only-of-type {\n",
       "        vertical-align: middle;\n",
       "    }\n",
       "\n",
       "    .dataframe tbody tr th {\n",
       "        vertical-align: top;\n",
       "    }\n",
       "\n",
       "    .dataframe thead th {\n",
       "        text-align: right;\n",
       "    }\n",
       "</style>\n",
       "<table border=\"1\" class=\"dataframe\">\n",
       "  <thead>\n",
       "    <tr style=\"text-align: right;\">\n",
       "      <th></th>\n",
       "      <th>Company</th>\n",
       "      <th>Average Salary</th>\n",
       "    </tr>\n",
       "  </thead>\n",
       "  <tbody>\n",
       "    <tr>\n",
       "      <th>0</th>\n",
       "      <td>Tekion\\nbased on 10 salaries</td>\n",
       "      <td>₹ 23.3L</td>\n",
       "    </tr>\n",
       "    <tr>\n",
       "      <th>1</th>\n",
       "      <td>Microsoft Corporation\\nbased on 227 salaries</td>\n",
       "      <td>₹ 23.1L</td>\n",
       "    </tr>\n",
       "    <tr>\n",
       "      <th>2</th>\n",
       "      <td>Goldman Sachs\\nbased on 12 salaries</td>\n",
       "      <td>₹ 22.1L</td>\n",
       "    </tr>\n",
       "    <tr>\n",
       "      <th>3</th>\n",
       "      <td>Flipkart\\nbased on 53 salaries</td>\n",
       "      <td>₹ 20.9L</td>\n",
       "    </tr>\n",
       "    <tr>\n",
       "      <th>4</th>\n",
       "      <td>PayPal\\nbased on 22 salaries</td>\n",
       "      <td>₹ 20.0L</td>\n",
       "    </tr>\n",
       "    <tr>\n",
       "      <th>5</th>\n",
       "      <td>Amazon\\nbased on 89 salaries</td>\n",
       "      <td>₹ 19.3L</td>\n",
       "    </tr>\n",
       "    <tr>\n",
       "      <th>6</th>\n",
       "      <td>Servicenow Software Development India\\nbased o...</td>\n",
       "      <td>₹ 19.0L</td>\n",
       "    </tr>\n",
       "    <tr>\n",
       "      <th>7</th>\n",
       "      <td>Arcesium\\nbased on 48 salaries</td>\n",
       "      <td>₹ 18.4L</td>\n",
       "    </tr>\n",
       "    <tr>\n",
       "      <th>8</th>\n",
       "      <td>Walmart\\nbased on 82 salaries</td>\n",
       "      <td>₹ 18.0L</td>\n",
       "    </tr>\n",
       "    <tr>\n",
       "      <th>9</th>\n",
       "      <td>ServiceNow\\nbased on 18 salaries</td>\n",
       "      <td>₹ 17.3L</td>\n",
       "    </tr>\n",
       "  </tbody>\n",
       "</table>\n",
       "</div>"
      ],
      "text/plain": [
       "                                             Company Average Salary\n",
       "0                       Tekion\\nbased on 10 salaries        ₹ 23.3L\n",
       "1       Microsoft Corporation\\nbased on 227 salaries        ₹ 23.1L\n",
       "2                Goldman Sachs\\nbased on 12 salaries        ₹ 22.1L\n",
       "3                     Flipkart\\nbased on 53 salaries        ₹ 20.9L\n",
       "4                       PayPal\\nbased on 22 salaries        ₹ 20.0L\n",
       "5                       Amazon\\nbased on 89 salaries        ₹ 19.3L\n",
       "6  Servicenow Software Development India\\nbased o...        ₹ 19.0L\n",
       "7                     Arcesium\\nbased on 48 salaries        ₹ 18.4L\n",
       "8                      Walmart\\nbased on 82 salaries        ₹ 18.0L\n",
       "9                   ServiceNow\\nbased on 18 salaries        ₹ 17.3L"
      ]
     },
     "execution_count": 75,
     "metadata": {},
     "output_type": "execute_result"
    }
   ],
   "source": [
    "df = pd.DataFrame({'Company': com_names, 'Average Salary': a_sal})\n",
    "df"
   ]
  },
  {
   "cell_type": "code",
   "execution_count": null,
   "id": "6239fc26",
   "metadata": {},
   "outputs": [],
   "source": []
  },
  {
   "cell_type": "code",
   "execution_count": null,
   "id": "d33adc3a",
   "metadata": {},
   "outputs": [],
   "source": []
  }
 ],
 "metadata": {
  "kernelspec": {
   "display_name": "Python 3",
   "language": "python",
   "name": "python3"
  },
  "language_info": {
   "codemirror_mode": {
    "name": "ipython",
    "version": 3
   },
   "file_extension": ".py",
   "mimetype": "text/x-python",
   "name": "python",
   "nbconvert_exporter": "python",
   "pygments_lexer": "ipython3",
   "version": "3.8.8"
  }
 },
 "nbformat": 4,
 "nbformat_minor": 5
}
