{
 "cells": [
  {
   "cell_type": "code",
   "execution_count": 1,
   "id": "b01749a2",
   "metadata": {},
   "outputs": [
    {
     "name": "stdout",
     "output_type": "stream",
     "text": [
      "Enter the number5\n",
      "factorial of given number is  120\n"
     ]
    }
   ],
   "source": [
    "#11. Write a python program to find the factorial of a number.\n",
    "num = int(input(\"Enter the number \"))\n",
    "fact = 1\n",
    "if num < 0:print('Sorry, Enter the number greater than 0')\n",
    "elif num == 0: print('The factorial of 0 is 1')\n",
    "else:\n",
    "    for i in range(1, num + 1):\n",
    "        fact = fact * i\n",
    "    print(\"factorial of given number is \", fact)"
   ]
  },
  {
   "cell_type": "code",
   "execution_count": 10,
   "id": "5f2fa6e2",
   "metadata": {
    "scrolled": true
   },
   "outputs": [
    {
     "name": "stdout",
     "output_type": "stream",
     "text": [
      "Enter the number 2\n",
      "2 is a prime number\n"
     ]
    }
   ],
   "source": [
    "#12. Write a python program to find whether a number is prime or composite\n",
    "num = int(input(\"Enter the number \"))\n",
    "if num == 0 or num == 1:print(num, \"is niether prime or nor composite number\")\n",
    "elif num > 1:\n",
    "    for i in range (2, num):\n",
    "        if (num % i == 0):\n",
    "            print (num, 'is composite number')\n",
    "            break\n",
    "    else: print (num, \"is a prime number\")\n"
   ]
  },
  {
   "cell_type": "code",
   "execution_count": 3,
   "id": "21d62408",
   "metadata": {},
   "outputs": [
    {
     "name": "stdout",
     "output_type": "stream",
     "text": [
      "Enter any string  nayan\n",
      "nayan the string is Palindrome\n"
     ]
    }
   ],
   "source": [
    "#13. Write a python program to check whether a given string is palindrome or not.\n",
    "s = input('Enter any string  ')\n",
    "x = -1\n",
    "y= 0\n",
    "for i in s:\n",
    "    if i != s[x]:\n",
    "        y = 1\n",
    "        break\n",
    "    x = x - 1\n",
    "if y == 1:\n",
    "    print(s, 'the string is not Palindrome')\n",
    "else:print(s, 'the string is Palindrome')\n"
   ]
  },
  {
   "cell_type": "code",
   "execution_count": 4,
   "id": "a62ba947",
   "metadata": {},
   "outputs": [
    {
     "name": "stdout",
     "output_type": "stream",
     "text": [
      "Enter side xy = 3\n",
      "Enter side yz = 4\n",
      "4.0\n"
     ]
    }
   ],
   "source": [
    "#14. Write a Python program to get the third side of right-angled triangle from two given sides.\n",
    "from math import sqrt\n",
    "xy = float(input(\"Enter side xy = \"))\n",
    "yz = float(input(\"Enter side yz = \"))\n",
    "xz = sqrt(xy**2 + yz**2)\n",
    "print(\"Third side of triangle is  \",yz)"
   ]
  },
  {
   "cell_type": "code",
   "execution_count": 5,
   "id": "82c2896a",
   "metadata": {},
   "outputs": [
    {
     "name": "stdout",
     "output_type": "stream",
     "text": [
      "Enter the stringabc un abc bchg\n",
      "{'a': 2, 'b': 3, 'c': 3, ' ': 3, 'u': 1, 'n': 1, 'h': 1, 'g': 1}\n"
     ]
    }
   ],
   "source": [
    "#15. Write a python program to print the frequency of each of the characters present in a given string\n",
    "str1 = input('Enter the string  ')\n",
    "d1 = dict()\n",
    "for i in str1:\n",
    "    d1[i] = d1.get(i, 0) +1\n",
    "print(d1)"
   ]
  },
  {
   "cell_type": "code",
   "execution_count": null,
   "id": "060c4b01",
   "metadata": {},
   "outputs": [],
   "source": []
  }
 ],
 "metadata": {
  "kernelspec": {
   "display_name": "Python 3",
   "language": "python",
   "name": "python3"
  },
  "language_info": {
   "codemirror_mode": {
    "name": "ipython",
    "version": 3
   },
   "file_extension": ".py",
   "mimetype": "text/x-python",
   "name": "python",
   "nbconvert_exporter": "python",
   "pygments_lexer": "ipython3",
   "version": "3.8.8"
  }
 },
 "nbformat": 4,
 "nbformat_minor": 5
}
